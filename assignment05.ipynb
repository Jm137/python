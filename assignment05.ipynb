{
 "cells": [
  {
   "cell_type": "markdown",
   "metadata": {},
   "source": [
    "__문제 1 )\n",
    "\n",
    "공통점 : 모듈과 클래스는 모두 프로그램의 재사용을 위한 코드이다. 기능별로 독립하여 검사와 안정성에 유리하며, 각 모듈별로 다른 이름공간을 가지므로 독립된 프로그래밍이 가능하다. 이름공간에는 함수와 변수가 포함될 수 있다. \n",
    "\n",
    "차이점 : 모듈은 파일 단위로 이름공간을 구성하지만, 클래스는 클래스 영역과 인스턴스 영역에 이름공간을 구성한다.\n",
    "클래스는 각각의 인스턴스 영역을 가지며, 모듈과 달리 상속이 가능하다. 공통적인 특징은 수퍼 클래스로 만들어 공유하고, 개별적인 특징은 서브 클래스에서 새로 정의할 수 있다."
   ]
  },
  {
   "cell_type": "markdown",
   "metadata": {},
   "source": [
    "__문제 2 )\n",
    "\n",
    "다형성이란, 상속 관계 내의 다른 클래스의 인스턴스들이 같은 멤버함수 호출에 대하여 각각 다른 기능을 수행하도록 하는 것이다. \n"
   ]
  },
  {
   "cell_type": "code",
   "execution_count": 1,
   "metadata": {
    "collapsed": false
   },
   "outputs": [
    {
     "name": "stdout",
     "output_type": "stream",
     "text": [
      "10\n",
      "100\n",
      "800\n"
     ]
    }
   ],
   "source": [
    "class vehicle : \n",
    "    def getspeed(self) :\n",
    "        return 10\n",
    "\n",
    "class car(vehicle) :\n",
    "    def getspeed(self) : return 100\n",
    "\n",
    "class airplane(vehicle) : \n",
    "    def getspeed(self) : return 800\n",
    "    \n",
    "v = vehicle()\n",
    "print v.getspeed()\n",
    "\n",
    "c= car()\n",
    "print c.getspeed()\n",
    "\n",
    "a = airplane()\n",
    "print a.getspeed()"
   ]
  },
  {
   "cell_type": "markdown",
   "metadata": {},
   "source": [
    "__문제 3 )\n",
    "\n",
    "다음 각 요구사항 모두를 만족시키는 Counter 클래스를 코딩하시오 (정답을 각 요구사항별로 입력할 필요 없이 3번 문제에 대해 1개의 클래스 정의 코드를 제시하면 된다.)\n",
    "\n",
    "•요구사항 1. 생성자에 count 값과 step 값을 인자로 받을 수 있다.\n",
    "◾count: Counter 인스턴스가 지니는 초기 정수 값\n",
    "◾step: Counter 인스턴스의 count가 증가되는 증분 (defalt 값: 1)\n",
    "\n",
    "\n",
    "•요구사항 2. 다음과 같이 Counter의 인스턴스를 출력을 해주는 __str__() 메소드를 Counter 클래스 내에 구현하시오.\n",
    "\n",
    "\n",
    "•요구사항 3. 다음과 같이 step에 주어진 증분만큼 count를 증가시키는 incr() 메소드를 Counter 클래스 내에 구현하시오.\n",
    "\n",
    "\n",
    "•요구사항 4. Counter 클래스 내에 관련 메소드를 추가하여 인스턴스 객체를 직접 호출(call)할 수 있도록 하시오. 인스턴스 객체를 직접 호출했을 때에 내부적으로 incr() 메소드를 호출하는 방법으로 구현하시오.\n",
    "\n",
    "\n",
    "•요구사항 5. 다음과 같은 두 개의 산술 연산 (+, -)이 수행될 수 있도록 Counter 클래스 내에 관련 메소드를 추가하시오.\n",
    "\n",
    "•요구사항 6. 다음과 같은 관계연산 (>, <, ==)이 수행될 수 있도록 Counter 클래스 내에 관련 메소드를 추가하시오.\n"
   ]
  },
  {
   "cell_type": "code",
   "execution_count": 46,
   "metadata": {
    "collapsed": false
   },
   "outputs": [
    {
     "name": "stdout",
     "output_type": "stream",
     "text": [
      "1\n",
      "\n",
      "2\n",
      "[Count (step: 1)] 10\n",
      "[Count (step: 2)] 10\n",
      "\n",
      "3\n",
      "[Count (step: 1)] 11\n",
      "[Count (step: 2)] 12\n",
      "\n",
      "4\n",
      "[Count (step: 1)] 12\n",
      "[Count (step: 2)] 14\n",
      "\n",
      "5\n",
      "[Count (step: 1)] 17\n",
      "[Count (step: 2)] 9\n",
      "\n",
      "6\n",
      "True\n",
      "False\n",
      "False\n",
      "True\n",
      "True\n",
      "False\n"
     ]
    }
   ],
   "source": [
    "# 문제 3 ) \n",
    "\n",
    "class Counter :\n",
    "    def __init__(self, count, step=1) :\n",
    "        self.count = count\n",
    "        self.step = step\n",
    "        \n",
    "    def __str__(self) :\n",
    "        return '[Count (step: '+ repr(self.step) + ')] ' + repr(self.count)\n",
    "    \n",
    "    def incr(self) :\n",
    "        self.count += self.step\n",
    "        \n",
    "    def __call__(self) :\n",
    "        return self.incr()\n",
    "    \n",
    "    def __add__(self, v) :\n",
    "        self.count += v\n",
    "        return Counter(self.count, self.step)\n",
    "\n",
    "    def __sub__(self, v) :\n",
    "        self.count -= v\n",
    "        return Counter(self.count, self.step)\n",
    "\n",
    "    def __cmp__(self, v) :\n",
    "        return self.count - v\n",
    "    \n",
    "print '1'\n",
    "c = Counter(10)\n",
    "d = Counter(10, 2)\n",
    "print\n",
    "\n",
    "print '2'\n",
    "print c\n",
    "print d\n",
    "print \n",
    "\n",
    "print '3'\n",
    "c.incr()\n",
    "d.incr()\n",
    "print c\n",
    "print d\n",
    "print\n",
    "\n",
    "print '4'\n",
    "c()\n",
    "d()\n",
    "print c\n",
    "print d\n",
    "print\n",
    "\n",
    "print '5'\n",
    "c = c + 5\n",
    "d = d - 5\n",
    "print c\n",
    "print d\n",
    "print\n",
    "\n",
    "print '6'\n",
    "print c > 10\n",
    "print d > 10\n",
    "print c < 10\n",
    "print d < 10\n",
    "print c == 17\n",
    "print d != 9\n"
   ]
  },
  {
   "cell_type": "markdown",
   "metadata": {
    "collapsed": true
   },
   "source": [
    "__4)\n",
    "\n",
    "다음은 내장 자료형 list를 서브클래싱하여 만든 MySet 클래스 정의 내용이다. 다음 클래스 정의에서 __init__(), __str()__(), elimicate_duplicate()의 세 개의 메소드 코드 내용을 자신이 다른 사람에게 가르친다고 생각하며 설명해보시오.\n",
    "•MySet은 집합(Set) 자료형을 정의하려는 의도하에 만들어진 클래스이다.\n"
   ]
  },
  {
   "cell_type": "code",
   "execution_count": 7,
   "metadata": {
    "collapsed": false
   },
   "outputs": [
    {
     "name": "stdout",
     "output_type": "stream",
     "text": [
      "MySet: {1 ,2 ,3}\n",
      "MySet: {2 ,3 ,4 ,5 ,6 ,7 ,8 ,9}\n"
     ]
    }
   ],
   "source": [
    "class MySet(list):\n",
    "    def __init__(self, l):\n",
    "        for e in l:\n",
    "            self.append(e)\n",
    "        MySet.eliminate_duplicate(self)\n",
    "    \n",
    "    def __str__(self):\n",
    "        result = \"MySet: {\"\n",
    "        for e in self:\n",
    "            result = result + str(e) + \" ,\"\n",
    "        result = result[0:len(result)-2] + \"}\"\n",
    "        return result\n",
    "\n",
    "    @staticmethod    \n",
    "    def eliminate_duplicate(l):\n",
    "        s = []\n",
    "        for e in l:\n",
    "            if e not in s:\n",
    "                s.append(e)\n",
    "        l[:] = []\n",
    "        for e in s:\n",
    "            l.append(e)\n",
    "\n",
    "    \n",
    "if __name__ == \"__main__\":\n",
    "    s = MySet([1, 2, 2, 3])\n",
    "    print s\n",
    "    t = MySet([2, 3, 4, 5, 6, 7, 8, 8, 8, 8, 8, 9])\n",
    "    print t\n"
   ]
  },
  {
   "cell_type": "markdown",
   "metadata": {},
   "source": [
    "__init()은 클래스 생성자 함수이다. __인자로 받은 리스트를 멤버변수의 리스트에 추가한다. 인자로 전달된 리스트의 내용을 for문을 통해 한개씩 추가한다. eliminate_duplicate()로 중복을 제거한다.\n",
    "\n",
    "__str() 은 출력을 위한 함수이다. __for문을 통해 멤버변수 리스트의 값을 result에 넣어주는데, 마지막 원소 이후에 ' ,'가 함께 들어가서 슬라이싱을 사용해 그 부분을 없애준 것 이다. result 값을 반환하여, print문에서 출력된다.\n",
    "\n",
    "__eliminate_duplicate()는 초기화시(생성) 중복되는 속성을 없애기 위한 것이다. __임시로 리스트 하나를 선언하여 for문을 이용해 인자로 전달된 리스트의 속성을 새로운 리스트에 추가하는데, 이때, not in을 if문의 조건으로 걸어, 임시리스트에 없는 것들만 임시 리스트에 추가한다. 그 후, 멤버변수가 되는 리스트를 비우고, 임시 리스트 내용을 넣어준다."
   ]
  },
  {
   "cell_type": "markdown",
   "metadata": {},
   "source": [
    "__5)\n",
    "\n",
    "4번 문제에 정의된 MySet 클래스에 메소드를 추가하여 다음 각 요구사항 모두를 만족시키는 코딩을 제시하시오\n",
    "•정답을 각 요구사항별로 입력할 필요 없이 요구사항 3개 전체에 대해 1개의 MySet 클래스 정의 코드를 제시하고 주석등으로 해당 코드를 설명한다.\n",
    "\n",
    "•요구사항 1. | 연산으로 두 집합의 합집합을 반환한다.\n",
    "\n",
    "\n",
    "•요구사항 2. & 연산으로 두 집합의 교집합을 반환한다.\n",
    "\n",
    "\n",
    "•요구사항 3. - 연산으로 두 집합의 차집합을 반환한다.\n"
   ]
  },
  {
   "cell_type": "code",
   "execution_count": 20,
   "metadata": {
    "collapsed": false
   },
   "outputs": [
    {
     "name": "stdout",
     "output_type": "stream",
     "text": [
      "MySet: {1 ,2 ,3}\n",
      "MySet: {2 ,3 ,4 ,5 ,6 ,7 ,8 ,9}\n",
      "문제5번\n",
      "MySet: {1 ,2 ,3 ,4 ,5 ,6 ,7 ,8 ,9}\n",
      "MySet: {2 ,3}\n",
      "MySet: {1 ,2}\n"
     ]
    }
   ],
   "source": [
    "class MySet(list):\n",
    "    def __init__(self, l):\n",
    "        for e in l:\n",
    "            self.append(e)\n",
    "        MySet.eliminate_duplicate(self)\n",
    "    \n",
    "    def __str__(self):\n",
    "        result = \"MySet: {\"\n",
    "        for e in self:\n",
    "            result = result + str(e) + \" ,\"\n",
    "        result = result[0:len(result)-2] + \"}\"\n",
    "        return result\n",
    "\n",
    "    @staticmethod    \n",
    "    def eliminate_duplicate(l):\n",
    "        s = []\n",
    "        for e in l:\n",
    "            if e not in s:\n",
    "                s.append(e)\n",
    "        l[:] = []\n",
    "        for e in s:\n",
    "            l.append(e)\n",
    "            \n",
    "    def __or__(self, o):\n",
    "        s = []\n",
    "        for e in self :\n",
    "            s.append(e)\n",
    "        for e in o:\n",
    "            s.append(e)\n",
    "        return MySet(s) \n",
    "    # 새로운 리스트를 선언안하고 self를 쓰고 반환하였더니 인자로 쓴 리스트도 변경이 되어 \n",
    "    # 새로운 리스트를 선언하였다. 하나의 MySet 객체(리스트)를 먼저 넣고, 다른 객체의 것도\n",
    "    # 추가하였다. 중복은 Myset(s)로 리턴하기때문에 따로 관련 기능을 구현하지 않아도 된다. \n",
    "    \n",
    "    \n",
    "    def __and__(self, o):\n",
    "        s = []\n",
    "        for e in self:\n",
    "            if e in o:\n",
    "                s.append(e)\n",
    "        return MySet(s)\n",
    "    # 두 객체에 모두 있는 것을 for문과 if문으로 검사하여 새리스트에 넣고, 새리스트를 MySet 객체로 바노한\n",
    "    \n",
    "    def __sub__(self, o):\n",
    "        s = []\n",
    "        for e in self:\n",
    "            if e not in o:\n",
    "                s.append(e)\n",
    "        return MySet(s)\n",
    "    \n",
    "    \n",
    "if __name__ == \"__main__\":\n",
    "    s = MySet([1, 2, 2, 3])\n",
    "    print s\n",
    "    t = MySet([2, 3, 4, 5, 6, 7, 8, 8, 8, 8, 8, 9])\n",
    "    print t\n",
    "    \n",
    "    print \"문제5번\"\n",
    "    u = s | t \n",
    "    print u \n",
    "    # MySet: {1, 2, 3, 4, 5, 6, 7, 8, 9} \n",
    "        \n",
    "    u = s & t \n",
    "    print u \n",
    "    # MySet: {2, 3} \n",
    "    \n",
    "    s = MySet([1, 2, 3]) \n",
    "    t = MySet([3, 4, 5]) \n",
    "    u = s - t \n",
    "    print u \n",
    "     # MySet: {1} "
   ]
  },
  {
   "cell_type": "markdown",
   "metadata": {},
   "source": [
    "__6)\n",
    "\n",
    "5번 문제에서 정의한 MySet 클래스에 대해 다음 예제를 수행하면 오류없이 올바르게 동작하는 것을 확인할 수 있다. 다음 예제 내에 있는 len(), bool() 내장함수와 in 키워드 사용 예제가 별다른 메소드 정의를 하지 않았는 데도 올바르게 수행되는 이유를 설명하시오.\n",
    "> \\>\\>\\> s = MySet([1, 2, 3, 4, 5, 6])  <br/>\n",
    "> \\>\\>\\> print len(s)  <br/>\n",
    "> 6 <br/>\n",
    "> \\>\\>\\> print bool(s)  <br/>\n",
    "> True <br/>\n",
    "> \\>\\>\\> print 2 in s  <br/>\n",
    "> True <br/>\n"
   ]
  },
  {
   "cell_type": "markdown",
   "metadata": {},
   "source": [
    "__MySet 클래스는 list클래스를 상속받았다. __그래서 len, bool, in 과 같은 내장함수의 사용이 가능하다."
   ]
  },
  {
   "cell_type": "code",
   "execution_count": 58,
   "metadata": {
    "collapsed": false
   },
   "outputs": [
    {
     "name": "stdout",
     "output_type": "stream",
     "text": [
      "1366\n"
     ]
    }
   ],
   "source": [
    "# 문제 7 프로젝트 오일러 문제 16 각자릿수 더하기\n",
    "\n",
    "def cut(n):\n",
    "    l = []\n",
    "    over = n\n",
    "    while(over != 0):\n",
    "        n = over % 10\n",
    "        over = over / 10\n",
    "        l.append(n)\n",
    "        \n",
    "    result = 0\n",
    "    \n",
    "    for i in range (0, len(l)) :\n",
    "        result += l[i]\n",
    "    return result\n",
    "\n",
    "num = pow(2,1000)\n",
    "print cut(num)"
   ]
  },
  {
   "cell_type": "code",
   "execution_count": 60,
   "metadata": {
    "collapsed": false
   },
   "outputs": [
    {
     "name": "stdout",
     "output_type": "stream",
     "text": [
      "21124\n"
     ]
    }
   ],
   "source": [
    "one = ['one', 'two', 'three', 'four', 'five', 'six', 'seven', 'eight', 'nine', \n",
    "       'ten', 'eleven', 'twelve', 'thirteen', 'fourteen', 'fifteen', 'sixteen', 'seventeen', \n",
    "       'eighteen', 'nineteen']\n",
    "ten = ['twenty', 'thirty', 'forty', 'fifty', 'sixty', 'seventy', 'eighty', 'ninety']\n",
    "hund = ['hundred', 'thousand', 'and']\n",
    "result = 0\n",
    "\n",
    "for i in range(1, 1001):\n",
    "    one_ = i%10\n",
    "    ten_ = (i//10)%10\n",
    "    hund_ = (i//100)%10\n",
    "    etc = (i//1000)%10\n",
    "    #각 자릿수 글자 가져오기\n",
    "    \n",
    "    if etc != 0:\n",
    "        result += len(one[0]) + len(hund[1])\n",
    "    if i%1000 != 0:\n",
    "        if hund_ != 0:\n",
    "            result += len(one[hund_-1]) + len(hund[0])\n",
    "            if i%100 != 0:\n",
    "                result += len(hund[2])\n",
    "        if i%100 != 0:\n",
    "            if ten_ < 2:\n",
    "                result += len(one[i%100-1])\n",
    "            else:\n",
    "                result += len(ten[ten_-2])\n",
    "                if one_ != 0:\n",
    "                    result += len(unites[one_-1])\n",
    "print(resultat)"
   ]
  },
  {
   "cell_type": "code",
   "execution_count": 62,
   "metadata": {
    "collapsed": false
   },
   "outputs": [
    {
     "name": "stdout",
     "output_type": "stream",
     "text": [
      "1074\n"
     ]
    }
   ],
   "source": [
    "# 문제 9 프로젝트 오일러 문제 18\n",
    "b = [['75']\n",
    ",['95','64']\n",
    ",['17','47','82']\n",
    ",['18','35','87','10']\n",
    ",['20','04','82','47','65']\n",
    ",['19','01','23','75','03','34']\n",
    ",['88','02','77','73','07','63','67']\n",
    ",['99','65','04','28','06','16','70','92']\n",
    ",['41','41','26','56','83','40','80','70','33']\n",
    ",['41','48','72','33','47','32','37','16','94','29']\n",
    ",['53','71','44','65','25','43','91','52','97','51','14']\n",
    ",['70','11','33','28','77','73','17','78','39','68','17','57']\n",
    ",['91','71','52','38','17','14','91','43','58','50','27','29','48']\n",
    ",['63','66','04','68','89','53','67','30','73','16','69','87','40','31']\n",
    ",['04','62','98','27','23','09','70','98','73','93','38','53','60','04','23']]\n",
    "a = b\n",
    "for x in range(len(a)-2,-1,-1):\n",
    "    for y in range(len(a[x])-1,-1,-1):\n",
    "        if x+1 < len(a) and y+1 < len(a[x+1]):\n",
    "            if int(a[x+1][y]) > int(a[x+1][y+1]):\n",
    "                a[x][y] = int(a[x][y])+int(a[x+1][y])\n",
    "            else:\n",
    "                a[x][y] = int(a[x][y])+int(a[x+1][y+1])\n",
    "print(a[0][0])\n",
    "\n",
    "\n"
   ]
  },
  {
   "cell_type": "code",
   "execution_count": 73,
   "metadata": {
    "collapsed": false
   },
   "outputs": [
    {
     "name": "stdout",
     "output_type": "stream",
     "text": [
      "171\n"
     ]
    }
   ],
   "source": [
    "# 문제 10 프로젝트 오일러 문제 19\n",
    "from datetime import date, timedelta\n",
    "from dateutil.relativedelta import relativedelta\n",
    "\n",
    "Start = date(1901, 1, 1)\n",
    "End = date(2000, 12, 31)\n",
    "num_sundays = 0\n",
    "cur = Start\n",
    "while (cur < End):\n",
    "    if (6 == cur.weekday()):\n",
    "        num_sundays += 1\n",
    "    cur += relativedelta(months=1)\n",
    "print num_sundays\n"
   ]
  },
  {
   "cell_type": "code",
   "execution_count": 74,
   "metadata": {
    "collapsed": false
   },
   "outputs": [
    {
     "name": "stdout",
     "output_type": "stream",
     "text": [
      "648\n"
     ]
    }
   ],
   "source": [
    "# 문제 11 프로젝트 오일러 문제 20\n",
    "def factorial(n):\n",
    "    result = 1\n",
    "    for x in range(1, n + 1):\n",
    "        result *= x\n",
    "    re = 0   \n",
    "    while result:           \n",
    "        num = result % 10            \n",
    "        result = result / 10\n",
    "        re += num\n",
    "    return re\n",
    "\n",
    "print (factorial(100))"
   ]
  },
  {
   "cell_type": "code",
   "execution_count": 109,
   "metadata": {
    "collapsed": false
   },
   "outputs": [
    {
     "name": "stdout",
     "output_type": "stream",
     "text": [
      "31626\n"
     ]
    }
   ],
   "source": [
    "# 문제 12 프로젝트 오일러 문제 21\n",
    "def divNum(n) : #약수\n",
    "    sum = 0\n",
    "    for i in range(1, n):\n",
    "        if n % i == 0:\n",
    "            sum += i\n",
    "    return sum\n",
    "\n",
    "\n",
    "for n in range(1,10001):\n",
    "    sum1 = sum2 = 0\n",
    "    sum1 = divNum(n)\n",
    "    if sum1 < 10001 and sum1 != n:\n",
    "        sum2 = divNum(sum1)\n",
    "        if d1+1 == sum2 and d2+1 == sum1:\n",
    "            total += sum1 + sum2\n",
    "print total/2"
   ]
  },
  {
   "cell_type": "markdown",
   "metadata": {},
   "source": [
    "이전 Assignment 3 (Assignment 4가 아님)의 마지막 문제는 웹 URL로 지정된 웹페이지를 문자열로 가져와 모든 HTML 태그 및 CSS와 Javascript를 제외한 순수 텍스트를 얻어내고 그 안에 존재하는 단어를 추출하여 각 단어들에 대해 출현빈도를 사전형태({'world': 2, 'hello': 1, 'python': 1})로 저장하여 출력하는 것이었다. 이번에는 Assignment 3을 다시 확장/변형하여 다음과 같은 조건을 만족하도록 구현하시오.\n",
    "•1) 새로운 클래스 WebWordsFrequency를 정의하시오.◾이전 Assignment 4에서 고려했던 pickle 모듈등은 전혀 고려하지 마시오.\n",
    "◾즉, 하드시스크에 저장하고 다시 로드하는 기능은 본 숙제에는 배제하시오.\n",
    "◾Assignment 4에서 고려했던 영어 불용어 처리는 적용하시오.◦영어 불용어: [ 'a', 'and', 'are', 'as', 'at', 'be', 'but', 'by', 'for', 'if', 'in', 'into', 'is', 'it', 'no', 'not', 'of', 'on', 'or', 's', 'such', 't', 'that', 'the', 'their', 'then', 'there', 'these', 'they', 'this', 'to', 'was', 'will', 'with']\n",
    "\n",
    "◾Assignment 4에서 처럼 국문 사이트가 아닌 영어 사이트만을 고려하여 아래 사항을 코딩하시오.\n",
    "\n",
    "•2) 생성자에 URL을 0개에서 임의의 개수를 넣을 수 있도록 생성자 인수를 가변인수로 정의하여 각각의 URL을 리스트 자료형에 유지하시오.\n",
    "\n",
    ">>> w1 = WebWordsFrequency('http://www.cnn.com', 'http://www.times.com', 'https://www.amazon.com') \n",
    " >>> w2 = WebWordsFrequency('http://www.cnn.com', 'http://www.times.com') \n",
    " >>> w3 = WebWordsFrequency() \n",
    "\n",
    "\n",
    "\n",
    "•3) addUrl() 메소드를 구현하여 인스턴스를 생성한 이후에도 URL을 추가할 수 있도록 한다.\n",
    "◾반드시 1개의 URL을 추가하도록 구현 (즉, 동시에 여러 개의 URL을 추가하는 것은 배제)\n",
    "\n",
    "\n",
    ">>> w1.addUrl('https://github.com')\n",
    " >>> w3.addUrl('http://stackoverflow.com')\n",
    "\n",
    "\n",
    "\n",
    "•4) removeUrl() 메소드를 구현하여 URL을 삭제할 수 있도록 한다.\n",
    "◾반드시 1개의 URL을 삭제하도록 구현 (즉, 동시에 여러 개의 URL을 삭제하는 것은 배제) \n",
    "\n",
    "\n",
    ">>> w1.removeUrl('http://www.cnn.com')\n",
    " >>> w2.removeUrl('http://stackoverflow.com')\n",
    "\n",
    "\n",
    "•5) listUrls() 메소드를 구현하여 현재 등록된 모든 URL을 출력하는 기능을 추가\n",
    "\n",
    ">>> w1.listUrls()\n",
    "http://www.times.com \n",
    "https://www.amazon.com \n",
    "https://github.com \n",
    "\n",
    "\n",
    "\n",
    "•6) getWordsFrequency() 메소드를 구현하여 각 URL의 웹페이지들을 종합적으로 분석한 단어 출현 빈도 사전을 반환하시오.\n",
    "◾만약 등록된 URL이 없다면 공백 사전을 반환 \n",
    "\n",
    "\n",
    ">>> w1.getWordsFrequency() \n",
    " {'hello': 8, 'site': 12, 'world': 2, 'science': 11, 'program': 1, 'python': 1}\n",
    "\n",
    "\n",
    "•7) getMaxFreqencyWords() 메소드를 구현하여 각 URL의 웹페이지들을 종합적으로 분석한 단어 출현 빈도 사전에서 가장 많이 출현한 단어 리스트를 반환하시오.\n",
    "\n",
    "\n",
    ">>> w1.getMaxFreqencyWords() \n",
    " site \n",
    "\n",
    "◾최다 출현 단어의 빈도수가 동일한 경우 모두 출력해주어야 함 \n",
    "\n",
    "\n",
    ">>> w2.getMaxFreqencyWords() \n",
    " site \n",
    " science\n",
    "◾만약 등록된 URL이 없다면 None을 반환\n",
    "\n"
   ]
  },
  {
   "cell_type": "code",
   "execution_count": 69,
   "metadata": {
    "collapsed": false
   },
   "outputs": [
    {
     "name": "stdout",
     "output_type": "stream",
     "text": [
      "http://www.times.com\n",
      "https://www.amazon.com\n",
      "https://github.com\n",
      "\n",
      "{'': 406, 'Apologizes': 1, 'Lead': 1, '6px': 3, 'NYT': 2, 'Does': 1, '0833': 1, 'NYC': 3, 'pageManagertrackingFireEventQueue': 1, 'Honda': 1, 'Watch': 1, 'Ronald': 1, 'urlhttpcssnytcomimagesiconsbullet4x4gif': 1, 'Nytimescom': 1, 'Western': 1, 'h4sectionHeaderHome': 2, 'h3containsThe': 1, 'envar': 1, 'Old': 5, 'GM': 1, 'tickets': 1, 'nrrequireforvar': 1, 'Trying': 1, '\\xe2\\x80\\x98Lazarus\\xe2\\x80\\x99': 1, 'abovebannerregion': 1, 'fontweight': 11, 'Jon': 1, 'Go': 4, 'force': 2, '0052': 1, '0051': 1, 'chef': 1, 'Version': 1, 'END': 1, 'Lamar': 1, 'fivebedroom': 1, 'Wrong': 2, 'new': 5, 'ever': 1, 'Made': 1, 'men': 1, 'wrapping': 1, 'Budget': 1, 'kicker': 4, '100': 1, '101': 2, '104': 1, 'Tuesday': 3, 'NonQuarterback': 1, '135rem': 1, 'Home': 3, 'criticism': 1, 'sansserif': 2, 'Basis': 1, 'brought': 1, 'Book': 1, 'Health': 7, 'HL23': 1, 'Star': 2, 'until': 1, 'Charity': 1, 'Rule': 3, 'Person': 1, '90': 1, 'rights': 1, 'avisited': 1, 'Header': 1, 'Advertisers': 1, 'A81817': 2, 'example': 1, 'Altitude': 1, 'Trillion': 1, 'alinknythpBriefingNewsletterSignup': 1, 'Digital': 1, 'realEstateSearch': 1, 'Editorials': 1, 'Watching': 1, 'damage': 1, 'Couric': 1, 'Muslims': 5, 'Brightest': 1, 'nytfranklinArialsansserif': 1, 'earlier': 1, 'Getaway': 1, 'Will': 5, 'schoolchildren': 1, 'texttransform': 5, 'Obama\\xe2\\x80\\x99s': 1, 'Japanese': 1, 'Walkers': 2, 'Criminals': 1, 'over': 2, 'Tips': 1, 'Alert': 1, 'before': 1, 'His': 4, 'NYTABTESTengineisUserVariantwatchingNoScroll': 1, '400': 3, 'videoFactory': 1, 'hidden': 1, 'Mobile': 3, 'Awakens\\xe2\\x80\\x99': 1, 'Analysis': 3, 'tentifrcallenreturn': 1, 'side': 1, 'WILLIAMS': 1, 'Radically': 2, 'httpa1nytcomassetshomepage20151207151834imagesfoundationlogos': 1, '13px': 1, 'Styles': 2, 'BEGIN': 1, 'Wars': 1, 'Muse': 1, 'content': 1, 'authgrowl': 1, 'Hole': 1, 'foundation': 1, 'Join': 1, 'Antitrust': 1, 'Adopt': 2, 'Metal': 3, 'P\\xc3\\xa9pin\\xe2\\x80\\x99s': 2, 'standard': 1, 'Qualcomm': 1, 'Contributors': 1, '002': 1, 'Photo': 1, 'tdocumentcreateElementscripttasync0ttypetextjavascriptvar': 1, '0667': 1, 'windowmagnumwriteLogosmall': 1, 'Please': 1, 'Going': 1, 'adopted': 1, 'googletaggoogletaggoogletagcmdgoogletagcmdfunctionvar': 1, 'Congress': 1, 'Testy': 1, 'top': 2, '0066': 1, '0067': 1, '0064': 1, 'nythpGiftguide': 8, '0063': 1, '0061': 1, 'Press': 1, '0069': 1, 'urban': 1, 'Search': 4, 'B': 2, 'collapse': 1, '\\xe2\\x80\\x98Our': 1, 'Edge': 1, 'Code': 1, 'Welcomed': 2, 'country\\xe2\\x80\\x99s': 1, 'ireturnnew': 1, 'oet1nreturn': 1, 'httpstatic01nytcomvideovhsbuildvhs2xmin': 1, 'Sea': 2, 'realestate': 1, 'messagebed': 1, 'Chicago': 2, 'Recruiting': 1, 'E2E2E2': 1, 'return': 1, 'tevar': 1, 'Holly': 1, 'Transgender': 1, 'forced': 1, 'Ask': 1, 'homepage20151207151834jsfoundation': 1, 'Exploiting': 2, 'plenty': 1, 'aenfececoncatnfunction': 1, 'Jacques': 2, 'QA': 1, 'pageManager': 2, 'voting': 1, 'Its': 2, 'ambassador': 1, 'Helvetica': 1, 'KATE': 1, 'nythpHideKickers': 1, 'headline': 1, 'Big': 2, 'Photography': 1, 'debts': 1, 'WONG': 1, 'Others': 2, 'Tricky': 1, 'Account': 1, 'Voting': 1, 'Over': 4, 'Epidemic': 4, 'Greener': 2, 'Caribbean': 1, 'textdecoration': 1, 'Wolfe': 2, 'rreturnvar': 1, 'Recommended': 1, 'Midday': 1, '01': 1, 'Year\\xe2\\x80\\x99s': 2, '05': 5, '\\xe2\\x80\\x98Systemic': 1, '09': 1, 'actionlink': 1, 'Choice': 1, 'Prices': 1, 'previous': 1, 'Settings': 1, 'Failures\\xe2\\x80\\x99': 1, 'paddingtop': 2, 'richest': 1, 'OpEd': 7, 'Among': 1, 'Dance': 1, 'Classifieds': 1, 'Closes': 1, 'height': 2, 'Returns': 2, 'conference': 1, 'OpDoc': 1, 'asks': 1, 'been': 1, 'Early': 1, 'much': 1, 'Your': 3, 'Sentencing': 1, 'life': 1, 'Vice': 1, 'Nominations': 1, 'Manage': 1, 'air': 1, 'CALLIMACHI': 1, 'Accused': 1, '3px': 4, 'LEARN': 1, 'Puerto': 1, 'id': 1, 'Around': 1, 'President': 4, 'bid': 1, 'Room': 3, 'h6active': 2, 'siteindexbrandinglink': 1, 'Trends': 1, 'greatest': 1, 'left': 4, 'secure': 1, 'Violating': 1, 'Privacy': 1, 'spread': 2, 'board': 1, 'News': 7, 'has': 6, 'Building': 2, 'D': 1, 'Restaurant': 1, 'Taking': 1, 'posed': 1, 'homepage20151207151834jsshared': 1, 'Morning': 2, 'oamarkdomContentifunction': 1, 'background': 4, 'Jeb': 1, 'Art': 3, 'Trump': 5, 'Newsletters': 1, '21px': 1, 'Are': 2, 'anythpBriefingNewsletterSignup': 1, 'Bail': 1, 'sectionopinion': 2, 'What\\xe2\\x80\\x99s': 1, 'Again': 2, 'right': 2, 'people': 1, 'Woodlawn': 1, 'Tiny': 1, 'Alzheimer\\xe2\\x80\\x99s': 1, 'Between': 1, 'Life': 1, 'h3containsHoliday': 1, 'comments': 1, 'backgroundposition': 1, 'Let': 1, 'Repeatedly': 1, 'He': 1, 'TIMOTHY': 1, 'bold': 1, 'Calls': 1, 'Daily': 2, 'Dept': 1, '0px': 7, 'First': 4, 'Fair': 1, 'ltie10': 9, 'Hearing': 1, 'Canceled': 1, 'Fail': 1, 'Osteoporosis': 1, 'Best': 5, 'Use': 2, 'Cut': 2, 'JAMES': 1, 'float': 2, 'son': 1, 'down': 1, 'Insider': 3, 'Draft': 1, 'ISIS': 4, 'support': 1, 'width': 1, 'victorious': 1, 'optsvariation': 1, 'Column': 3, 'Czech': 1, 'foundationlegacymain': 1, 'windowNREUMNREUMNREUMinfobeaconbamnrdatanetlicenseKeyb5bcf2eba4applicationID4491446transactionNameYwFXZhRYVhAEVUZcX1pLYEAPFlkTFRhCXUAqueueTime0applicationTime498ttGuidagentTokenuserAttributeserrorBeaconbamnrdatanetagentjsagentnewreliccomnr686minjs': 1, 'tnvar': 1, '20px': 1, 'Conned': 1, 'Personal': 1, 'Mercy\\xe2\\x80\\x99': 1, 'libefore': 1, 'Child\\xe2\\x80\\x99s': 1, 'Running': 1, '14px': 3, 'SoHo': 1, 'Pages': 1, 'Trial': 4, 'longer': 1, 'Estate': 6, 'time': 1, 'So': 1, 'precedent': 1, 'Title': 2, 'Republic': 1, 'battle': 1, 'Gets': 2, 'Memoir': 1, 'father': 1, '0': 13, 'Facebook': 1, 'Day': 2, '\\xe2\\x80\\x98Transparent\\xe2\\x80\\x99': 2, 'Tech': 3, 'AUSTEN': 1, 'Where': 1, 'Jersey': 1, 'ahover': 2, 'Tax': 1, 'assets\\xe2\\x80\\x9d': 1, 'div': 2, 'Debate': 3, 'Rico': 1, 'a81817': 1, 'LIPTAK': 1, 'Red': 1, 'Head': 1, 'inlineblock': 3, 'Subscriptions': 5, 'Public': 2, 'Robotic': 1, 'shared': 1, 'True': 1, 'Runway': 1, 'Changed': 2, 'Bids': 2, 'address': 1, 'margintop': 5, 'Times': 14, 'My': 1, 'topnews': 5, 'Dean': 2, 'MM': 1, 'shift': 1, 'Trudeau\\xe2\\x80\\x99s': 2, 'Born': 1, 'navigation': 2, 'city\\xe2\\x80\\x99s': 1, 'shootings': 1, 'FirstName': 1, 'fundamentalist': 2, 'alert\\xe2\\x80\\x9d': 1, 'When': 2, 'foundationmain': 1, 'Import': 1, '0875': 1, 'nrrequirereturn': 1, 'Dies': 4, 'helvetica': 1, 'Costumes': 1, 'sports': 1, 'Awards': 1, 'memory': 1, 'optspoll': 1, 'Benefits': 1, 'Eve': 1, 'Time': 1, 'Push': 1, 'FD8249': 2, 'Celebrations': 1, 'RISEN': 1, 'Family': 1, 'German': 1, 'urlhttpgraphics8nytimescompackagesimageshomepagebriefingsdogearsmpng': 1, 'Numbers': 1, 'Wrap': 1, 'Our': 1, '\\xe2\\x80\\x9cillicit': 1, 'Clarifies': 1, 'Media': 3, 'Mic': 1, 'ureturn': 1, 'Shows': 2, 'Terms': 2, 'means': 1, '1': 20, 'homepage20151207151834jshomepage': 2, 'Why': 2, 'Ahead': 1, 'armies': 1, 'may': 1, 'motorists': 1, 'Emailed': 1, 'alerticon': 1, 'applications': 11, 'membership': 1, 'shuffleRecommendations': 1, 'data': 1, 'View': 2, 'Exclusive': 1, 'commodity': 1, 'Series': 2, 'opts': 2, 'Islam': 1, 'httpstatic01nytcomjs2buildvideoplayersextended20appRequire': 1, 'Sheer': 1, 'Generator': 1, 'Bowie': 1, 'pointed': 1, 'Breaking': 2, 'nbsp': 1, 'Lecturer': 1, 'police': 1, 'how': 1, 'Rules': 1, 'World': 6, 'Italian': 2, 'Hiding': 1, 'env': 1, 'Choices': 1, 'odocumentgetElementsByTagNamescript0oparentNodeinsertBeforeto': 1, 'EDITORIAL': 1, 'Vote\\xe2\\x80\\x99': 1, 'name': 1, 'Skip': 2, 'Affirmative': 2, 'LAWSON': 1, 'Skin': 1, 'Heels': 1, 'Arabia\\xe2\\x80\\x99s': 1, 'thttpsssplit0esslForHttpdprotothttpshttpamarkonloadivar': 1, 'significantly': 1, 'paddingleft': 3, 'Philanthropy': 1, 'Invokes': 1, 'Split': 1, 'year': 1, 'Carolina': 1, 'container': 1, 'pocketregion': 6, '\\xe2\\x80\\x98Hamilton\\xe2\\x80\\x99': 1, 'astray': 1, 'Joe': 2, 'avisitednythpBriefingNewsletterSignup': 1, 'shows': 1, '50px': 2, 'Theater': 3, 'Rights': 1, 'million': 1, 'One': 4, 'httpstatic01nytcomjsmtr': 1, 'Already': 2, 'Videos': 2, 'toi0foro': 1, 'turn': 1, 'first': 1, 'Giant': 1, 'revenue': 1, 'one': 3, 'Start': 1, 'Hollywood': 1, 'millions': 1, 'Monday': 1, 'Pose': 2, 'Courtesy': 2, 'Notebook': 3, 'Response': 2, 'speaking': 1, 'Wars\\xe2\\x80\\x99': 1, 'mining': 1, 'rehandleoe1ie2undefinedtypeof': 1, 'ObjectdefinePropertyenvalueowritable0enumerable1ocatchireturn': 1, 'padding': 8, 'copy': 1, 'than': 2, '10': 4, '17': 1, 'require': 1, 'accused': 1, 'Advertise': 1, 'browser': 1, 'Court': 4, '165rem': 1, 'say': 1, 'Call': 2, '\\xe2\\x80\\x98Narrative\\xe2\\x80\\x99': 1, 'O\\xe2\\x80\\x99Reilly': 2, 'Do': 1, 'potential': 1, 'DategetTimevar': 1, '15px': 1, 'Articles': 2, 'Renters': 1, '\\xe2\\x80\\x98Animated': 1, 'Work': 4, 'raquo': 34, 'tteelength0forvar': 1, 'ppupapplystreturn': 1, 'Political': 2, 'Comments': 1, 'Recommend': 1, 'Ski': 1, '40px': 1, 'upgrade': 1, 'Critics\\xe2\\x80\\x99': 1, 'Plea': 2, 'Services': 2, 'Housing': 1, 'get': 1, 'Amid': 2, 'Magazine': 7, 'Turf': 1, 'Remembering': 2, 'nytcheltenhamshgeorgiatimes': 3, 'summary': 3, '85000': 2, 'Education': 5, 'tallWatchingModule': 1, 'Apps': 1, 'BOARD': 1, 'romantimesserif': 5, 'fails': 1, 'Iowa': 1, '3': 1, 'letterspacing': 1, 'Than': 1, 'requirehttpstatic01nytcombijstagxtagxjs': 1, 'jobs': 1, 'abcolumn': 1, 'arial': 1, 'come': 1, 'Songs': 1, 'optslimit': 1, 'region': 1, 'Death': 5, 'Guest': 2, 'color': 6, 'Travel': 3, 'Note': 1, 'nythpBriefings': 2, 'article': 7, '\\xe2\\x80\\x98Mx\\xe2\\x80\\x99': 2, 'storyheading': 4, 'Events': 3, 'Mandelli': 1, 'Beauty': 1, 'Promos': 1, 'Schools': 2, 'Prostate': 1, 'ercalleotinoeoi1return': 1, 'SmithAssociated': 1, 'Action': 2, 'Cancellation': 1, 'case': 1, 'windowlocationsearchindexOfportalvariantwatchingNoScroll': 1, 'Colors': 1, 'curb': 1, 'margin': 1, 'penthouse': 1, 'clutter': 1, 'rally': 1, 'Installation': 1, 'Freddie': 2, 'speech': 1, 'Design': 1, 'referheading': 1, 'Commodity': 1, 'Leakey\\xe2\\x80\\x99': 1, 'Signal': 1, 'collectionfirstchild': 2, 'II': 2, 'Sour': 1, 'Own': 1, 'Is': 5, 'nythpBreakingnythpNoRule': 1, 'Jihadism': 1, 'Oligarch': 3, 'In': 3, 'Pfefferman': 1, 'ccc': 1, 'Loading': 2, 'Service': 1, 'displaynone': 2, 'actions': 1, 'Scope': 1, 'coloredSharetools': 1, 'Log': 1, 'Jobs': 4, 'Her': 1, 'Spot': 1, 'Zuckerberg': 1, 'Applications': 1, 'ccolumn': 6, 'Roller': 1, 'nytfranklin': 2, 'Hacks': 1, 'Biden': 4, 'Something': 1, 'Lagrange': 1, '\\xe4\\xb8\\xad\\xe6\\x96\\x87': 1, '\\xe2\\x80\\x98A': 1, 'windowlocationsearchindexOfdisabletagx': 1, 'uppercase': 5, 'Since': 1, 'ereturneobjectnfunctionn1ewindow0ieofunctionreturn': 1, 'New': 17, 'pinnedMasthead': 1, 'Earlier': 1, 'best': 1, 'timetimestamp': 1, 'ontexportset0calloexportsfunctionnvar': 1, 'Extreme': 2, 'apocalyptic': 1, 'power': 1, 'athletics': 1, 'requirehomepagemain': 2, 'Transit': 1, 'Check': 1, 'Paper': 2, 'Bataclan': 1, 'Story': 1, 'Memories': 2, 'image': 1, 'your': 1, 'Store': 1, 'NJ': 1, 'paidPostDriver': 1, 'hed': 1, 'Radicals': 2, 'Obama': 2, 'Distracted': 2, 'J': 2, 'Small': 1, 'Guide': 4, '\\xe2\\x80\\x98The': 2, 'House': 1, 'Alterations': 1, 'vhs': 1, 'Wales\\xe2\\x80\\x99': 1, 'Close': 1, '\\xe2\\x80\\x9cKilling': 1, 'Crisis': 1, 'aehandlece1uwindowfudocumente2var': 1, 'videos': 1, 'Wordplay': 1, 'an': 3, 'How': 5, 'Production': 1, 'PoorPerforming': 1, 'film': 1, 'Real': 6, 'Read': 1, 'As': 2, 'field': 1, 'Diversion': 1, 'Gandolf': 1, 'Skinnier': 1, 'you': 1, 'Climate': 4, 'videoPlaylist': 1, 'Yorktown': 1, 'important': 5, 'wfloading': 1, 'nbspComments': 6, 'scroll': 1, 'Year': 2, 'original': 1, 'Canada': 2, 'onrcontextiegosnexportstgos7eSDFheefunctionennexportseQJf3ax3functionenfunction': 1, 'all': 2, 'Van': 1, 'Fix': 2, 'Rebukes': 1, 'icons': 1, 'tentreturn': 1, 'clerics': 2, 'homepage': 6, '4em': 1, 'far': 1, 'Listings': 2, 'Sale': 3, 'Headers': 1, '1px': 7, 'slocationsplit0pbeaconbamnrdataneterrorBeaconbamnrdatanetagentjsagentnewreliccomnr686minjsdnexportsoffsetioriginsfeaturesfaddEventListenerfaddEventListenerDOMContentLoadedo1uaddEventListenerloadt1fattachEventonreadystatechangeruattachEventonloadtamarkfirstbytei11223handleD5DuLPloaderfunctionennexportseG9z0Bl12functionenfunction': 1, 'Rest': 1, 'public\\xe2\\x80\\x99s': 1, 'messengersuggestions': 5, 'Reagan': 2, 'Should': 1, 'Man\\xe2\\x80\\x99': 1, 'GUY': 1, 'ribbon': 1, 'rfcreateElementscriptrsrcdprotoeagentnparentNodeinsertBeforernfunction': 1, 'Giants': 1, 'what': 1, 'rvar': 1, 'rlistenerselengthremitentvoidrqrqerqerqepushnvar': 1, 'public': 1, 'paddingbottom': 1, 'Prosecutors': 1, 'Gift': 3, 'Contact': 1, 'Briefing': 1, 'search': 2, 'ArtsBeat': 2, 'Communication': 1, 'experience': 1, 'Bizarre': 2, 'Style': 5, 'nytcheltenhamgeorgiatimes': 1, 'nythpDeveloping': 1, 'Top': 2, 'texts': 1, 'Too': 3, 'Opinion': 14, 'Europe': 1, 'Explorer': 1, 'Automobiles': 2, 'textalign': 2, 'more': 4, 'Limits': 1, 'company': 1, 'Mariuccia': 1, 'St': 1, 'American': 3, 'Roger': 1, 'factories': 1, 'none': 11, 'fatal': 1, 'bordertop': 3, '326891': 1, 'Viral': 1, 'tentnn0undefinedtypeof': 1, 'matchHeight': 1, 'Cause': 1, 'urlhttpgraphics8nytimescompackagesimageshomepagenewslettericonpng': 1, 'Fall': 1, 'Television': 4, 'Carpetbagger': 2, 'Continue': 1, 'ribbonChartbeatMostEmailed': 1, 'tvar': 2, 'Deep': 1, 'Player': 1, 'httpstatic01nytcomjs2buildvideo20videofactoryrequire': 1, 'Film': 1, 'What': 3, 'Arial': 1, 'help': 1, 'Hunter': 1, 'soon': 1, 'Countdown': 1, 'through': 1, 'bordertopcolor': 1, 'its': 1, 'ccolumncolumn': 3, '20': 2, 'freturnonaemitncreateulistenersceventsffunction': 1, 'splitlayout': 5, 'Pilot': 1, 'waitSeconds': 1, 'Bar': 1, 'food': 1, 'timestamp': 2, 'demographics': 1, 'Bag': 1, 'georgiatimes': 1, 'Trudeau': 1, 'Era': 3, 'Terrorists': 2, 'Authority': 1, 'windowNREUMNREUMnrrequirefunctionentfunction': 1, 'Poll': 1, 'HABERMAN': 1, 'Ray': 1, 'End': 3, 'Pistorius': 1, 'hard': 1, 'Sports': 5, 'Joseph': 1, 'More': 6, 'since': 1, 'ADAM': 1, '7': 1, 'Report': 3, 'paidPostFivePack': 1, 'Clear': 1, 'reeecreatenexportstteerrqeeQJf3axhandlefunctionennexportseD5DuLPXL7HBIfunctionenfunction': 1, '4px': 4, 'Ukraine': 1, 'ET': 9, 'Block': 1, 'allocation': 11, 'threat': 1, 'Becomes': 1, 'Heisman': 1, 'rcompletefreadyStateofunction': 1, 'radical': 1, 'done': 1, 'story': 4, 'recommendedLabelTest': 1, 'Slump': 2, 'listed': 1, 'Justin': 1, 'relationship': 2, 'part': 1, 'Todayrsquos': 2, 'Road': 1, 'throttle': 11, 'Cancer': 1, 'Puzzle': 2, 'aims': 1, 'Latest': 1, 'toward': 1, 'nythpBriefingNewsletterSignup': 1, 'Pierre': 1, 'asetPageViewNameaddPageActionsetCustomAttributefinishedaddToTraceinlineHitnoticeErroroafunctionenwindowNREUMntapinnexportswindowNREUM112213handleD5DuLPgosfunctionennexportse7eSDFh7eSDFhfunctionenfunction': 1, 'Gray\\xe2\\x80\\x99s': 2, 'paths': 1, 'Ukrainian': 4, 'Food': 6, 'Brings': 1, 'borderbottom': 7, 'Overture': 1, 'Seeks': 2, 'With': 5, 'Rent': 1, 'Skelos': 2, 'Attacks': 1, 'measures': 1, 'sponsored': 1, 'Finds': 1, 'Responses': 2, '1047': 1, 'clear': 1, 'Postscript': 1, 'Viewed': 1, 'Bush\\xe2\\x80\\x99s': 1, 'flounders': 1, 'Islamism': 1, 'Has': 1, '22px': 1, 'writer': 1, 'documentreadyfunction': 2, 'Jr': 1, 'Blockbusters': 1, 'L\\xe2\\x80\\x99Amico': 1, 'Celebrate': 1, 'IAN': 1, 'hit': 1, 'Novice': 1, 'Coaches\\xe2\\x80\\x99': 1, '2': 2, 'Trump\\xe2\\x80\\x99s': 4, 'banner': 1, 'firms': 1, 'Grammy': 1, 'tumult': 1, 'Britain8217s': 1, 'redefine': 1, 'set': 1, 'For': 2, 'RUKMINI': 1, 'France': 1, 'Citing': 1, 'close': 2, 'Homework': 1, 'Rescue': 1, 'Critics': 2, 'Layouts': 1, 'corruption': 1, 'MAGGIE': 1, 'Could': 1, 'Today\\xe2\\x80\\x99s': 1, 'Against': 5, 'aircraft': 1, 'testId': 11, 'lineheight': 8, 'Makes': 2, 'Neighborhood': 2, 'Show\\xe2\\x80\\x99': 2, 'TMQ': 1, 'simple': 1, '2295': 1, 'o0o': 1, 'Was': 2, 'War': 5, 'Play': 2, 'primetime': 1, 'Cars': 2, 'political': 2, 'Most': 2, 'Plan': 2, 'territory': 1, 'Motel': 1, 'Women': 2, 'FollowUp': 1, 'slideshow': 1, 'h3kicker': 2, 'Saudi': 2, 'GuideparentaddClassnythpGiftguide': 1, 'prices': 1, 'KRAUSS': 1, '16px': 2, 'Useful': 1, 'Journeys': 1, 'solid': 7, 'while': 1, 'College': 1, 'Defending': 1, 'Market': 1, 'City': 1, 'Italy': 1, 'Quarterback': 2, 'nytfranklinhelveticaarialsansserif': 1, 'Eagles': 3, 'Scrutiny': 1, 'Wrist': 1, '9': 1, 'fefunction': 1, 'Treating': 1, 'About': 3, 'Slumps': 1, 'Movies': 2, '000': 4, 'backgroundimage': 1, 'Expands': 1, 'Examining': 1, 'Technology': 3, 'Son': 5, 'Rate': 1, 'Talks': 2, 'CoAnchor': 1, 'Tools': 1, 'stating': 1, 'Officer': 1, 'Living': 2, 'Fans': 2, 'Internet': 1, 'cut': 1, 'Football': 1, 'Holidays': 1, 'Goals': 1, 'input': 1, 'rObjectprototypehasOwnPropertynexportst13functionenfunction': 1, 'On': 4, 'Last': 1, 'Longer': 1, 'Did': 2, 'showing': 1, 'Dig': 1, 'Defends': 1, 'nythpHideBylines': 1, 'modifications': 1, 'shaped': 1, 'Rising': 2, 'Learning': 2, 'Columnists': 1, 'velcroSocialFollow': 1, 'world\\xe2\\x80\\x99s': 1, 'extremism': 1, 'back': 1, 'NonRunning': 1, 'Email': 2, 'Daypart': 1, 'Familiar': 1, 'seller': 1, '1256': 1, '1250': 1, 'Bill': 2, 'Gothamite': 2, 'David': 2, 'Fruits': 1, 'Square': 1, 'anything': 1, '8px': 3, 'experiences': 1, 'block': 1, 'pollution': 1, 'NewsDeveloping': 1, 'aliens': 1, 'World\\xe2\\x80\\x99': 1, 'themenewsheadlines': 2, 'bankruptcy': 1, 'Driven': 1, 'borderbottomcolor': 1, 'User': 1, 'Coverage': 1, 'Shock': 2, '\\xe2\\x80\\x98One': 1, 'Franklin': 1, 'Opinionator': 1, 'Beijing': 2, 'Irish': 1, 'Soon': 1, 'us': 1, 'Books': 4, '0012': 1, 'Twins': 1, 'Arguments': 1, 'International': 3, 'Upshot': 2, 'Map': 1, 'Subscribe': 4, 'TV': 5, 'Prosecution': 3, 'Mary': 1, 'application': 1, 'bcolumn': 14, 'eentvar': 1, 'Case': 5, 'Quarantine': 2, 'AM': 1, 'Gun': 4, 'vigil': 1, 'Making': 3, 'Documentary': 1, 'Ad': 1, 'Weddings': 1, 'An': 1, '2000': 1, 'At': 1, 'Newsletter': 1, 'having': 1, 'once': 1, 'Sell': 2, 'Self': 2, 'Basel': 1, 'during': 1, 'go': 1, 'Designer': 1, 'Business': 5, 'Words': 1, 'Now': 1, 'NY': 4, 'Canadian': 1, 'Region': 2, 'Sessanta': 1, 'Feeling': 1, 'norepeat': 4, 'Pope': 1, 'Related': 1, 'functionrenew': 1, 'rtifntvar': 1, 'refer': 3, 'Index': 1, 'requireportalapp': 1, 'State': 2, 'video': 1, 'Sections': 3, 'universities': 1, 'Janet': 2, 'requiremap': 1, 'week\\xe2\\x80\\x99s': 1, 'Assault': 2, 'Monroque\\xe2\\x80\\x99s': 1, 'Line': 2, 'America': 1, 'Swift': 1, 'can': 2, 'Clan': 1, '\\xe2\\x80\\x9cred': 1, 'isn\\xe2\\x80\\x99t': 1, 'explore': 1, 'focused': 1, 'Combat': 1, 'otifObjectdefinePropertyObjectkeystryreturn': 1, 'involved': 1, 'tenvar': 1, 'Back': 1, '18px': 4, 'Alien': 1, 'Reagan\\xe2\\x80\\x9d': 1, '1245': 1, '1247': 1, 'Arabia': 1, 'Ground': 2, 'Muslim': 1, 'presidents': 1, 'Multimedia': 2, 'Ships': 2, 'Contributing': 1, 'Treatment': 4, 'Mock': 2, 'from': 2, 'next': 1, 'Lens': 1, 'Matters': 1, 'examination': 1, 'nythpBreaking': 3, 'STYLING': 2, 'visibility': 1, 'Editorial': 7, '8': 1, 'subscription': 1, 'Feedback': 1, 'condominium': 1, 'Video': 8, 'Amboy': 1, 'Cites': 1, 'Police': 4, 'httpstatic01nytcomjsauthgrowldefault': 1, 'Feature': 2, 'his': 6, 'Details': 1, 'Christmas': 1, 'photospotregion': 3, 'tereturn': 1, 'iconbefore': 1, 'NYTABTEST': 1, 'Q': 1, 'Letters': 1, 'Repertory': 1, 'r1onridiegosnexportstgos7eSDFhidfunctionennexportseXL7HBIG9z0Blfunctionenfunction': 1, 'Kitchens': 1, 'allow': 1, 'Politics': 3, 'httpa1nytcomassets': 1, 'sfunction': 1, 'VIVIAN': 1, 'looks': 1, '134': 1, 'Final': 1, 'byline': 2, 'Emergency': 1, 'Exchange': 1, 'storythemefeature': 3, 'Brooks': 2, 'li': 4, 'fontfamily': 11, 'NYTABTESTengine': 1, '2015': 7, '2014': 1, '2016': 1, 'Queens': 1, 'Miami': 1, 'Pantone\\xe2\\x80\\x99s': 1, 'Can': 2, 'messagecontainer': 1, 'Social': 3, 'transparent': 1, 'presidential': 1, 'Help': 1, 'Supreme': 4, 'Pro': 1, 'Say': 2, 'Replica': 1, '10px': 3, 'Arts': 6, 'From': 9, '700': 7, 'It\\xe2\\x80\\x99s': 3, 'meta': 1, 'cereturn': 1, 'Treasury': 1, 'our': 1, '80': 1, '81': 1, '85': 1, 'Noise': 1, 'Very': 1, 'Season': 2, 'include': 1, 'China': 1, 'enoovar': 1, 'Unique': 1, 'supports': 1, 'Stage': 2, 'shut': 1, 'reacts': 1, 'roonooexportsreturn': 1, 'Corrections': 1, 'Roosevelt\\xe2\\x80\\x99s': 1, 'GenderNeutral': 2, 'chiefs': 1, 'spanablayoutlayout': 1, 'Topics': 1, 'times': 1, 'ehttpsdocumentlocationprotocoltsrcehttpshttpwwwgoogletagservicescomtagjsgptjsvar': 1, 'Aides': 1, 'ntexportsiffunctiontypeof': 1, 'CrotononHudson': 1, 'Review': 8, 'Yale': 1, 'Shiniest': 1, 'Corporate': 1, 'requirefoundationmain': 3, 'Tied': 1, 'h6hover': 2, 'Warhol': 2, 'Roosevelt': 1, '97px': 1, 'R': 1, 'fontsize': 11, 'foundationviewspagemanager': 2, '\\xe2\\x80\\x98Airpocalypse\\xe2\\x80\\x99': 1, 'Edition': 1, 'requirejquerynyt': 2, 'mediaslideshow': 1, 'Aging': 1, 'false': 1, 'Anglo': 2, 'fourbedroom': 1, 'Writers': 1, 'have': 1, 'Interview': 1, 'Soccer': 1, 'border': 2, 'Oil': 1, 'After': 1, 'authmtr': 1, 'edinfoNREUMinfonfgetElementsByTagNamescript0ifeelicenseKeyeapplicationIDncpfunctionntn': 1, 'which': 1, 'Blogs': 1, 'who': 2, 'ZERNIKE': 1, 'Commodities': 1, 'Without': 1, 'Games': 1, 'masthead': 1, 'Risk': 1, 'Some': 1, 'High': 2, 'Donald': 4, 'nythpHideTimestamps': 1, 'Jubilee': 1, 'r1otn0iArray0o0or': 1, 'Paris': 4, 'text': 1, '0036': 1, '0033': 1, 'Smog': 2, '30px': 1, 'based': 1, 'Hunting': 1, 'Update': 1, 'Undo': 1, 'York': 8, 'commentspanel': 1, 'Homes': 2, 'watching': 1, 'DategetTimeconcatiargumentsvar': 1, '999': 3, 'Keep': 2, 'aactive': 2, 'ones': 2, '126': 1, 'THE': 1, 'areas': 1, 'Cleaner': 1, 'Move': 1, 'spanabtopregion': 6, 'legacy': 1, 'Justices': 2, 'Ebola': 2, 'storythemesummary': 2, 'Grows': 2, '21rem': 1, 'PM': 8, '2px': 7, 'Facing': 1, 'CLIFFORD': 1, 'career': 1, 'duplex': 1, 'Indies': 1, 'EDWARD': 1, 'functionPortal': 1, 'backgroundcolor': 1, 'Would': 1, 'Music': 4, 'Reject': 1, 'Recycle': 1, 'Buicks': 1, 'Get': 1, 'baseUrl': 1, 'Obituaries': 2, 'f8e9d2': 1, 'backgroundrepeat': 1, 'runaroundRight': 2, 'kickers': 1, 'Credit': 1, '1203': 1, 'paidPostFivePackMock': 1, 'Navigation': 2, 'Fact': 1, '\\xe2\\x80\\x98God\\xe2\\x80\\x99s': 1, 'homes': 1, 'Force': 1, 'Halloween': 1, 'nytfranklinarialhelveticasansserif': 2, '2012': 1, 'MORE': 1, 'Granted': 1, 'vs': 1, 'You': 2, 'sits': 1, 'Beach': 1, 'Dismay': 2, 'Return': 3, 'Offering': 1, 'administration': 1, 'ntypeof': 1, 'NYTimescom': 2, 'largest': 1, 'difficult': 1, 'Bucket': 1, 'Bookends': 1, 'Gleeful': 2, 'off': 2, 'center': 1, 'Idea': 1, 'Have': 1, 'sets': 1, 'Headaches': 1, 'less': 1, 'Resigns': 1, 'Sunday': 3, 'Be': 3, 'Company': 1, 'Reason': 2, 'Despite': 1, '5': 1, 'By': 11, 'match': 1, 'Limit': 1, 'T': 3, 'Threat': 2, 'variants': 11, 'Fashion': 5, 'Extremism': 1, 'Merely': 1, 'testName': 11, 'tryTypekitloadcatche': 1, 'become': 1, 'Fear': 1, 'borderbottomwidth': 1, '11px': 4, '12px': 8, 'Lining': 2, 'Avoid': 2, 'Quiz': 1, 'Crossword': 4, 'Editor': 2, 'home': 1, 'Chillier': 1, 'pthemecomments': 1, 'AheadparentaddClassnythpBriefings': 1, 'Population': 1, 'windowmagnumprocessFlagslimitFabrikSavemoreFollowSuggestionsunfollowCommentshomepageOpinionKickerCssfollowFeatureallTheEmphasesvideoVHSCovervideoVHSHomepageCoveradditionalOpinionRegionshpViewabilityminiNavCountnewsEventHierarchyfreeTrialinsiderLaunch': 1, 'Inside': 1, 'Up': 2, 'Us': 2, 'after': 1, 'gained': 1, 'about': 2, 'hpHeader': 25, 'December': 1, 'US': 11, 'carrier': 1, 'Americans': 1, 'nythpDaypartRegion': 6, 'Mayor': 1, 'windownewrelicnewrelicwindowNREUMvar': 1, 'Alerts': 1, 'h6': 21, 'h5': 2, 'roads': 1, 'Diversity': 1, 'Sickness': 1, 'Chiefs': 2, 'var': 5, 'Updates': 1, 'function': 7, 'prophetic': 1, 'Science': 5, 'Well': 2, 'Rutgers': 2, 'Dec': 1, 'Chelsea': 1, 'Angell\\xe2\\x80\\x99s': 1, 'made': 2, 'Ten': 1, 'Wall': 1, 'Todays': 3, '\\xe2\\x80\\x98This': 1, 'productionpublished': 1, 'display': 7, '\\xc2\\xbb': 2, 'Portalcreatenytinthpwatching': 1, 'Widens': 1, 'marginbottom': 8, 'MARINO': 1, 'urlhttpi1nytcomimagesiconsiconalert12x12a81817png': 1, 'Electronics': 1, '\\xe2\\x80\\x98Star': 2, 'Mining': 1, 'Centered': 2, 'Shala': 1, 'Delivery': 1, 'Islamic': 2, 'book': 1, 'out': 1, 'Sportscaster': 1, 'Like': 1, 'HPHEADER': 2, 'Rests': 3, 'Remove': 1, 'rObjectprototypehasOwnPropertynexportstD5DuLPfunctionenfunction': 1, 'Believed': 1, 'Page': 4, 'South': 2, 'Stewart': 2, '\\xe2\\x80\\x94': 1, 'Site': 5, 'maxHeight': 1, 'Contributor': 1, 'rural': 1}\n",
      "\n",
      "['']  :  28\n",
      "None\n",
      "\n",
      "[('', 406), ('raquo', 34), ('hpHeader', 25), ('h6', 21), ('1', 20), ('New', 17), ('Times', 14), ('Opinion', 14), ('bcolumn', 14), ('0', 13), ('fontweight', 11), ('applications', 11), ('none', 11), ('allocation', 11), ('throttle', 11), ('testId', 11), ('fontfamily', 11), ('fontsize', 11), ('By', 11), ('variants', 11), ('testName', 11), ('US', 11), ('ltie10', 9), ('ET', 9), ('From', 9), ('nythpGiftguide', 8), ('padding', 8), ('lineheight', 8), ('Video', 8), ('Review', 8), ('York', 8), ('PM', 8), ('12px', 8), ('marginbottom', 8), ('Health', 7), ('OpEd', 7), ('News', 7), ('0px', 7), ('Magazine', 7), ('article', 7), ('1px', 7), ('borderbottom', 7), ('solid', 7), ('Editorial', 7), ('2015', 7), ('700', 7), ('2px', 7), ('function', 7), ('display', 7), ('has', 6), ('Estate', 6), ('World', 6), ('pocketregion', 6), ('color', 6), ('ccolumn', 6), ('Real', 6), ('nbspComments', 6), ('homepage', 6), ('More', 6), ('Food', 6), ('his', 6), ('Arts', 6), ('spanabtopregion', 6), ('nythpDaypartRegion', 6), ('Old', 5), ('new', 5), ('Muslims', 5), ('Will', 5), ('texttransform', 5), ('05', 5), ('Trump', 5), ('Best', 5), ('Subscriptions', 5), ('margintop', 5), ('topnews', 5), ('Education', 5), ('romantimesserif', 5), ('Death', 5), ('Is', 5), ('uppercase', 5), ('How', 5), ('important', 5), ('messengersuggestions', 5), ('Style', 5), ('splitlayout', 5), ('Sports', 5), ('With', 5), ('Against', 5), ('War', 5), ('Son', 5), ('TV', 5), ('Case', 5), ('Business', 5), ('Fashion', 5), ('var', 5), ('Science', 5), ('Site', 5), ('Go', 4), ('kicker', 4), ('His', 4), ('Search', 4), ('Over', 4), ('Epidemic', 4), ('3px', 4), ('President', 4), ('left', 4), ('background', 4), ('First', 4), ('ISIS', 4), ('Trial', 4), ('Dies', 4), ('One', 4), ('10', 4), ('Court', 4), ('Work', 4), ('storyheading', 4), ('Jobs', 4), ('Biden', 4), ('Guide', 4), ('Climate', 4), ('more', 4), ('Television', 4), ('4px', 4), ('story', 4), ('Ukrainian', 4), ('Trump\\xe2\\x80\\x99s', 4), ('000', 4), ('On', 4), ('Books', 4), ('Subscribe', 4), ('Gun', 4), ('NY', 4), ('norepeat', 4), ('18px', 4), ('Treatment', 4), ('Police', 4), ('li', 4), ('Supreme', 4), ('Donald', 4), ('Paris', 4), ('Music', 4), ('11px', 4), ('Crossword', 4), ('Page', 4), ('6px', 3), ('NYC', 3), ('Tuesday', 3), ('Home', 3), ('Rule', 3), ('400', 3), ('Mobile', 3), ('Analysis', 3), ('Metal', 3), ('Your', 3), ('Room', 3), ('Art', 3), ('Insider', 3), ('Column', 3), ('14px', 3), ('Tech', 3), ('Debate', 3), ('inlineblock', 3), ('Media', 3), ('paddingleft', 3), ('Theater', 3), ('one', 3), ('Notebook', 3), ('nytcheltenhamshgeorgiatimes', 3), ('summary', 3), ('Travel', 3), ('Events', 3), ('Oligarch', 3), ('In', 3), ('an', 3), ('Sale', 3), ('Gift', 3), ('Too', 3), ('American', 3), ('bordertop', 3), ('What', 3), ('ccolumncolumn', 3), ('Era', 3), ('End', 3), ('Report', 3), ('Eagles', 3), ('About', 3), ('Technology', 3), ('8px', 3), ('International', 3), ('Prosecution', 3), ('Making', 3), ('refer', 3), ('Sections', 3), ('nythpBreaking', 3), ('photospotregion', 3), ('Politics', 3), ('storythemefeature', 3), ('Social', 3), ('10px', 3), ('It\\xe2\\x80\\x99s', 3), ('requirefoundationmain', 3), ('999', 3), ('Return', 3), ('Sunday', 3), ('Be', 3), ('T', 3), ('Todays', 3), ('Rests', 3), ('NYT', 2), ('h4sectionHeaderHome', 2), ('force', 2), ('Wrong', 2), ('101', 2), ('sansserif', 2), ('Star', 2), ('A81817', 2), ('Walkers', 2), ('over', 2), ('Radically', 2), ('Styles', 2), ('Adopt', 2), ('P\\xc3\\xa9pin\\xe2\\x80\\x99s', 2), ('top', 2), ('B', 2), ('Welcomed', 2), ('Sea', 2), ('Chicago', 2), ('Exploiting', 2), ('Jacques', 2), ('pageManager', 2), ('Its', 2), ('Big', 2), ('Others', 2), ('Greener', 2), ('Wolfe', 2), ('Year\\xe2\\x80\\x99s', 2), ('paddingtop', 2), ('height', 2), ('Returns', 2), ('h6active', 2), ('spread', 2), ('Building', 2), ('Morning', 2), ('Are', 2), ('sectionopinion', 2), ('Again', 2), ('right', 2), ('Daily', 2), ('Use', 2), ('Cut', 2), ('float', 2), ('Title', 2), ('Gets', 2), ('Day', 2), ('\\xe2\\x80\\x98Transparent\\xe2\\x80\\x99', 2), ('ahover', 2), ('div', 2), ('Public', 2), ('Changed', 2), ('Bids', 2), ('Dean', 2), ('Trudeau\\xe2\\x80\\x99s', 2), ('navigation', 2), ('fundamentalist', 2), ('When', 2), ('FD8249', 2), ('Shows', 2), ('Terms', 2), ('homepage20151207151834jshomepage', 2), ('Why', 2), ('View', 2), ('Series', 2), ('opts', 2), ('Breaking', 2), ('Italian', 2), ('Skip', 2), ('Affirmative', 2), ('Joe', 2), ('50px', 2), ('Already', 2), ('Videos', 2), ('Pose', 2), ('Courtesy', 2), ('Response', 2), ('than', 2), ('Call', 2), ('O\\xe2\\x80\\x99Reilly', 2), ('Articles', 2), ('Political', 2), ('Plea', 2), ('Services', 2), ('Amid', 2), ('Remembering', 2), ('85000', 2), ('Guest', 2), ('nythpBriefings', 2), ('\\xe2\\x80\\x98Mx\\xe2\\x80\\x99', 2), ('Schools', 2), ('Action', 2), ('Freddie', 2), ('collectionfirstchild', 2), ('II', 2), ('Loading', 2), ('displaynone', 2), ('nytfranklin', 2), ('Extreme', 2), ('requirehomepagemain', 2), ('Paper', 2), ('Memories', 2), ('Radicals', 2), ('Obama', 2), ('Distracted', 2), ('J', 2), ('\\xe2\\x80\\x98The', 2), ('As', 2), ('Year', 2), ('Canada', 2), ('all', 2), ('Fix', 2), ('clerics', 2), ('Listings', 2), ('Reagan', 2), ('search', 2), ('ArtsBeat', 2), ('Bizarre', 2), ('Top', 2), ('Automobiles', 2), ('textalign', 2), ('Carpetbagger', 2), ('tvar', 2), ('20', 2), ('timestamp', 2), ('Terrorists', 2), ('Slump', 2), ('relationship', 2), ('Todayrsquos', 2), ('Puzzle', 2), ('Gray\\xe2\\x80\\x99s', 2), ('Seeks', 2), ('Skelos', 2), ('Responses', 2), ('documentreadyfunction', 2), ('2', 2), ('For', 2), ('close', 2), ('Critics', 2), ('Makes', 2), ('Neighborhood', 2), ('Show\\xe2\\x80\\x99', 2), ('Was', 2), ('Play', 2), ('Cars', 2), ('political', 2), ('Most', 2), ('Plan', 2), ('Women', 2), ('h3kicker', 2), ('Saudi', 2), ('16px', 2), ('Quarterback', 2), ('Movies', 2), ('Talks', 2), ('Living', 2), ('Fans', 2), ('Did', 2), ('Rising', 2), ('Learning', 2), ('Email', 2), ('Bill', 2), ('Gothamite', 2), ('David', 2), ('themenewsheadlines', 2), ('Shock', 2), ('Beijing', 2), ('Upshot', 2), ('Quarantine', 2), ('Sell', 2), ('Self', 2), ('Region', 2), ('State', 2), ('Janet', 2), ('Assault', 2), ('Line', 2), ('can', 2), ('Ground', 2), ('Multimedia', 2), ('Ships', 2), ('Mock', 2), ('from', 2), ('STYLING', 2), ('Feature', 2), ('byline', 2), ('Brooks', 2), ('Can', 2), ('Say', 2), ('Season', 2), ('Stage', 2), ('GenderNeutral', 2), ('h6hover', 2), ('Warhol', 2), ('foundationviewspagemanager', 2), ('requirejquerynyt', 2), ('Anglo', 2), ('border', 2), ('who', 2), ('High', 2), ('Smog', 2), ('Homes', 2), ('Keep', 2), ('aactive', 2), ('ones', 2), ('Justices', 2), ('Ebola', 2), ('storythemesummary', 2), ('Grows', 2), ('Obituaries', 2), ('runaroundRight', 2), ('Navigation', 2), ('nytfranklinarialhelveticasansserif', 2), ('You', 2), ('Dismay', 2), ('NYTimescom', 2), ('Gleeful', 2), ('off', 2), ('Reason', 2), ('Threat', 2), ('Lining', 2), ('Avoid', 2), ('Editor', 2), ('Up', 2), ('Us', 2), ('about', 2), ('h5', 2), ('Chiefs', 2), ('Well', 2), ('Rutgers', 2), ('made', 2), ('\\xc2\\xbb', 2), ('\\xe2\\x80\\x98Star', 2), ('Centered', 2), ('Islamic', 2), ('HPHEADER', 2), ('South', 2), ('Stewart', 2), ('Apologizes', 1), ('Lead', 1), ('Does', 1), ('0833', 1), ('pageManagertrackingFireEventQueue', 1), ('Honda', 1), ('Watch', 1), ('Ronald', 1), ('urlhttpcssnytcomimagesiconsbullet4x4gif', 1), ('Nytimescom', 1), ('Western', 1), ('h3containsThe', 1), ('envar', 1), ('GM', 1), ('tickets', 1), ('nrrequireforvar', 1), ('Trying', 1), ('\\xe2\\x80\\x98Lazarus\\xe2\\x80\\x99', 1), ('abovebannerregion', 1), ('Jon', 1), ('0052', 1), ('0051', 1), ('chef', 1), ('Version', 1), ('END', 1), ('Lamar', 1), ('fivebedroom', 1), ('ever', 1), ('Made', 1), ('men', 1), ('wrapping', 1), ('Budget', 1), ('100', 1), ('104', 1), ('NonQuarterback', 1), ('135rem', 1), ('criticism', 1), ('Basis', 1), ('brought', 1), ('Book', 1), ('HL23', 1), ('until', 1), ('Charity', 1), ('Person', 1), ('90', 1), ('rights', 1), ('avisited', 1), ('Header', 1), ('Advertisers', 1), ('example', 1), ('Altitude', 1), ('Trillion', 1), ('alinknythpBriefingNewsletterSignup', 1), ('Digital', 1), ('realEstateSearch', 1), ('Editorials', 1), ('Watching', 1), ('damage', 1), ('Couric', 1), ('Brightest', 1), ('nytfranklinArialsansserif', 1), ('earlier', 1), ('Getaway', 1), ('schoolchildren', 1), ('Obama\\xe2\\x80\\x99s', 1), ('Japanese', 1), ('Criminals', 1), ('Tips', 1), ('Alert', 1), ('before', 1), ('NYTABTESTengineisUserVariantwatchingNoScroll', 1), ('videoFactory', 1), ('hidden', 1), ('Awakens\\xe2\\x80\\x99', 1), ('tentifrcallenreturn', 1), ('side', 1), ('WILLIAMS', 1), ('httpa1nytcomassetshomepage20151207151834imagesfoundationlogos', 1), ('13px', 1), ('BEGIN', 1), ('Wars', 1), ('Muse', 1), ('content', 1), ('authgrowl', 1), ('Hole', 1), ('foundation', 1), ('Join', 1), ('Antitrust', 1), ('standard', 1), ('Qualcomm', 1), ('Contributors', 1), ('002', 1), ('Photo', 1), ('tdocumentcreateElementscripttasync0ttypetextjavascriptvar', 1), ('0667', 1), ('windowmagnumwriteLogosmall', 1), ('Please', 1), ('Going', 1), ('adopted', 1), ('googletaggoogletaggoogletagcmdgoogletagcmdfunctionvar', 1), ('Congress', 1), ('Testy', 1), ('0066', 1), ('0067', 1), ('0064', 1), ('0063', 1), ('0061', 1), ('Press', 1), ('0069', 1), ('urban', 1), ('collapse', 1), ('\\xe2\\x80\\x98Our', 1), ('Edge', 1), ('Code', 1), ('country\\xe2\\x80\\x99s', 1), ('ireturnnew', 1), ('oet1nreturn', 1), ('httpstatic01nytcomvideovhsbuildvhs2xmin', 1), ('realestate', 1), ('messagebed', 1), ('Recruiting', 1), ('E2E2E2', 1), ('return', 1), ('tevar', 1), ('Holly', 1), ('Transgender', 1), ('forced', 1), ('Ask', 1), ('homepage20151207151834jsfoundation', 1), ('plenty', 1), ('aenfececoncatnfunction', 1), ('QA', 1), ('voting', 1), ('ambassador', 1), ('Helvetica', 1), ('KATE', 1), ('nythpHideKickers', 1), ('headline', 1), ('Photography', 1), ('debts', 1), ('WONG', 1), ('Tricky', 1), ('Account', 1), ('Voting', 1), ('Caribbean', 1), ('textdecoration', 1), ('rreturnvar', 1), ('Recommended', 1), ('Midday', 1), ('01', 1), ('\\xe2\\x80\\x98Systemic', 1), ('09', 1), ('actionlink', 1), ('Choice', 1), ('Prices', 1), ('previous', 1), ('Settings', 1), ('Failures\\xe2\\x80\\x99', 1), ('richest', 1), ('Among', 1), ('Dance', 1), ('Classifieds', 1), ('Closes', 1), ('conference', 1), ('OpDoc', 1), ('asks', 1), ('been', 1), ('Early', 1), ('much', 1), ('Sentencing', 1), ('life', 1), ('Vice', 1), ('Nominations', 1), ('Manage', 1), ('air', 1), ('CALLIMACHI', 1), ('Accused', 1), ('LEARN', 1), ('Puerto', 1), ('id', 1), ('Around', 1), ('bid', 1), ('siteindexbrandinglink', 1), ('Trends', 1), ('greatest', 1), ('secure', 1), ('Violating', 1), ('Privacy', 1), ('board', 1), ('D', 1), ('Restaurant', 1), ('Taking', 1), ('posed', 1), ('homepage20151207151834jsshared', 1), ('oamarkdomContentifunction', 1), ('Jeb', 1), ('Newsletters', 1), ('21px', 1), ('anythpBriefingNewsletterSignup', 1), ('Bail', 1), ('What\\xe2\\x80\\x99s', 1), ('people', 1), ('Woodlawn', 1), ('Tiny', 1), ('Alzheimer\\xe2\\x80\\x99s', 1), ('Between', 1), ('Life', 1), ('h3containsHoliday', 1), ('comments', 1), ('backgroundposition', 1), ('Let', 1), ('Repeatedly', 1), ('He', 1), ('TIMOTHY', 1), ('bold', 1), ('Calls', 1), ('Dept', 1), ('Fair', 1), ('Hearing', 1), ('Canceled', 1), ('Fail', 1), ('Osteoporosis', 1), ('JAMES', 1), ('son', 1), ('down', 1), ('Draft', 1), ('support', 1), ('width', 1), ('victorious', 1), ('optsvariation', 1), ('Czech', 1), ('foundationlegacymain', 1), ('tnvar', 1), ('20px', 1), ('Conned', 1), ('Personal', 1), ('Mercy\\xe2\\x80\\x99', 1), ('libefore', 1), ('Child\\xe2\\x80\\x99s', 1), ('Running', 1), ('SoHo', 1), ('Pages', 1), ('longer', 1), ('time', 1), ('So', 1), ('precedent', 1), ('Republic', 1), ('battle', 1), ('Memoir', 1), ('father', 1), ('Facebook', 1), ('AUSTEN', 1), ('Where', 1), ('Jersey', 1), ('Tax', 1), ('assets\\xe2\\x80\\x9d', 1), ('Rico', 1), ('a81817', 1), ('LIPTAK', 1), ('Red', 1), ('Head', 1), ('Robotic', 1), ('shared', 1), ('True', 1), ('Runway', 1), ('address', 1), ('My', 1), ('MM', 1), ('shift', 1), ('Born', 1), ('city\\xe2\\x80\\x99s', 1), ('shootings', 1), ('FirstName', 1), ('alert\\xe2\\x80\\x9d', 1), ('foundationmain', 1), ('Import', 1), ('0875', 1), ('nrrequirereturn', 1), ('helvetica', 1), ('Costumes', 1), ('sports', 1), ('Awards', 1), ('memory', 1), ('optspoll', 1), ('Benefits', 1), ('Eve', 1), ('Time', 1), ('Push', 1), ('Celebrations', 1), ('RISEN', 1), ('Family', 1), ('German', 1), ('urlhttpgraphics8nytimescompackagesimageshomepagebriefingsdogearsmpng', 1), ('Numbers', 1), ('Wrap', 1), ('Our', 1), ('\\xe2\\x80\\x9cillicit', 1), ('Clarifies', 1), ('Mic', 1), ('ureturn', 1), ('means', 1), ('Ahead', 1), ('armies', 1), ('may', 1), ('motorists', 1), ('Emailed', 1), ('alerticon', 1), ('membership', 1), ('shuffleRecommendations', 1), ('data', 1), ('Exclusive', 1), ('commodity', 1), ('Islam', 1), ('httpstatic01nytcomjs2buildvideoplayersextended20appRequire', 1), ('Sheer', 1), ('Generator', 1), ('Bowie', 1), ('pointed', 1), ('nbsp', 1), ('Lecturer', 1), ('police', 1), ('how', 1), ('Rules', 1), ('Hiding', 1), ('env', 1), ('Choices', 1), ('odocumentgetElementsByTagNamescript0oparentNodeinsertBeforeto', 1), ('EDITORIAL', 1), ('Vote\\xe2\\x80\\x99', 1), ('name', 1), ('LAWSON', 1), ('Skin', 1), ('Heels', 1), ('Arabia\\xe2\\x80\\x99s', 1), ('thttpsssplit0esslForHttpdprotothttpshttpamarkonloadivar', 1), ('significantly', 1), ('Philanthropy', 1), ('Invokes', 1), ('Split', 1), ('year', 1), ('Carolina', 1), ('container', 1), ('\\xe2\\x80\\x98Hamilton\\xe2\\x80\\x99', 1), ('astray', 1), ('avisitednythpBriefingNewsletterSignup', 1), ('shows', 1), ('Rights', 1), ('million', 1), ('httpstatic01nytcomjsmtr', 1), ('toi0foro', 1), ('turn', 1), ('first', 1), ('Giant', 1), ('revenue', 1), ('Start', 1), ('Hollywood', 1), ('millions', 1), ('Monday', 1), ('speaking', 1), ('Wars\\xe2\\x80\\x99', 1), ('mining', 1), ('rehandleoe1ie2undefinedtypeof', 1), ('ObjectdefinePropertyenvalueowritable0enumerable1ocatchireturn', 1), ('copy', 1), ('17', 1), ('require', 1), ('accused', 1), ('Advertise', 1), ('browser', 1), ('165rem', 1), ('say', 1), ('\\xe2\\x80\\x98Narrative\\xe2\\x80\\x99', 1), ('Do', 1), ('potential', 1), ('DategetTimevar', 1), ('15px', 1), ('Renters', 1), ('\\xe2\\x80\\x98Animated', 1), ('tteelength0forvar', 1), ('ppupapplystreturn', 1), ('Comments', 1), ('Recommend', 1), ('Ski', 1), ('40px', 1), ('upgrade', 1), ('Critics\\xe2\\x80\\x99', 1), ('Housing', 1), ('get', 1), ('Turf', 1), ('tallWatchingModule', 1), ('Apps', 1), ('BOARD', 1), ('fails', 1), ('Iowa', 1), ('3', 1), ('letterspacing', 1), ('Than', 1), ('requirehttpstatic01nytcombijstagxtagxjs', 1), ('jobs', 1), ('abcolumn', 1), ('arial', 1), ('come', 1), ('Songs', 1), ('optslimit', 1), ('region', 1), ('Note', 1), ('Mandelli', 1), ('Beauty', 1), ('Promos', 1), ('Prostate', 1), ('ercalleotinoeoi1return', 1), ('SmithAssociated', 1), ('Cancellation', 1), ('case', 1), ('windowlocationsearchindexOfportalvariantwatchingNoScroll', 1), ('Colors', 1), ('curb', 1), ('margin', 1), ('penthouse', 1), ('clutter', 1), ('rally', 1), ('Installation', 1), ('speech', 1), ('Design', 1), ('referheading', 1), ('Commodity', 1), ('Leakey\\xe2\\x80\\x99', 1), ('Signal', 1), ('Sour', 1), ('Own', 1), ('nythpBreakingnythpNoRule', 1), ('Jihadism', 1), ('Pfefferman', 1), ('ccc', 1), ('Service', 1), ('actions', 1), ('Scope', 1), ('coloredSharetools', 1), ('Log', 1), ('Her', 1), ('Spot', 1), ('Zuckerberg', 1), ('Applications', 1), ('Roller', 1), ('Hacks', 1), ('Something', 1), ('Lagrange', 1), ('\\xe4\\xb8\\xad\\xe6\\x96\\x87', 1), ('\\xe2\\x80\\x98A', 1), ('windowlocationsearchindexOfdisabletagx', 1), ('Since', 1), ('ereturneobjectnfunctionn1ewindow0ieofunctionreturn', 1), ('pinnedMasthead', 1), ('Earlier', 1), ('best', 1), ('timetimestamp', 1), ('ontexportset0calloexportsfunctionnvar', 1), ('apocalyptic', 1), ('power', 1), ('athletics', 1), ('Transit', 1), ('Check', 1), ('Bataclan', 1), ('Story', 1), ('image', 1), ('your', 1), ('Store', 1), ('NJ', 1), ('paidPostDriver', 1), ('hed', 1), ('Small', 1), ('House', 1), ('Alterations', 1), ('vhs', 1), ('Wales\\xe2\\x80\\x99', 1), ('Close', 1), ('\\xe2\\x80\\x9cKilling', 1), ('Crisis', 1), ('aehandlece1uwindowfudocumente2var', 1), ('videos', 1), ('Wordplay', 1), ('Production', 1), ('PoorPerforming', 1), ('film', 1), ('Read', 1), ('field', 1), ('Diversion', 1), ('Gandolf', 1), ('Skinnier', 1), ('you', 1), ('videoPlaylist', 1), ('Yorktown', 1), ('wfloading', 1), ('scroll', 1), ('original', 1), ('onrcontextiegosnexportstgos7eSDFheefunctionennexportseQJf3ax3functionenfunction', 1), ('Van', 1), ('Rebukes', 1), ('icons', 1), ('tentreturn', 1), ('4em', 1), ('far', 1), ('Headers', 1), ('slocationsplit0pbeaconbamnrdataneterrorBeaconbamnrdatanetagentjsagentnewreliccomnr686minjsdnexportsoffsetioriginsfeaturesfaddEventListenerfaddEventListenerDOMContentLoadedo1uaddEventListenerloadt1fattachEventonreadystatechangeruattachEventonloadtamarkfirstbytei11223handleD5DuLPloaderfunctionennexportseG9z0Bl12functionenfunction', 1), ('Rest', 1), ('public\\xe2\\x80\\x99s', 1), ('Should', 1), ('Man\\xe2\\x80\\x99', 1), ('GUY', 1), ('ribbon', 1), ('rfcreateElementscriptrsrcdprotoeagentnparentNodeinsertBeforernfunction', 1), ('Giants', 1), ('what', 1), ('rvar', 1), ('rlistenerselengthremitentvoidrqrqerqerqepushnvar', 1), ('public', 1), ('paddingbottom', 1), ('Prosecutors', 1), ('Contact', 1), ('Briefing', 1), ('Communication', 1), ('experience', 1), ('nytcheltenhamgeorgiatimes', 1), ('nythpDeveloping', 1), ('texts', 1), ('Europe', 1), ('Explorer', 1), ('Limits', 1), ('company', 1), ('Mariuccia', 1), ('St', 1), ('Roger', 1), ('factories', 1), ('fatal', 1), ('326891', 1), ('Viral', 1), ('tentnn0undefinedtypeof', 1), ('matchHeight', 1), ('Cause', 1), ('urlhttpgraphics8nytimescompackagesimageshomepagenewslettericonpng', 1), ('Fall', 1), ('Continue', 1), ('ribbonChartbeatMostEmailed', 1), ('Deep', 1), ('Player', 1), ('httpstatic01nytcomjs2buildvideo20videofactoryrequire', 1), ('Film', 1), ('Arial', 1), ('help', 1), ('Hunter', 1), ('soon', 1), ('Countdown', 1), ('through', 1), ('bordertopcolor', 1), ('its', 1), ('freturnonaemitncreateulistenersceventsffunction', 1), ('Pilot', 1), ('waitSeconds', 1), ('Bar', 1), ('food', 1), ('demographics', 1), ('Bag', 1), ('georgiatimes', 1), ('Trudeau', 1), ('Authority', 1), ('windowNREUMNREUMnrrequirefunctionentfunction', 1), ('Poll', 1), ('HABERMAN', 1), ('Ray', 1), ('Pistorius', 1), ('hard', 1), ('Joseph', 1), ('since', 1), ('ADAM', 1), ('7', 1), ('paidPostFivePack', 1), ('Clear', 1), ('reeecreatenexportstteerrqeeQJf3axhandlefunctionennexportseD5DuLPXL7HBIfunctionenfunction', 1), ('Ukraine', 1), ('Block', 1), ('windowNREUMNREUMNREUMinfobeaconbamnrdatanetlicenseKeyb5bcf2eba4applicationID4491446transactionNameYwFXZhRYVhAEVUZcX1pLYEAPFlkTFRhCXUAqueueTime0applicationTime491ttGuidagentTokenuserAttributeserrorBeaconbamnrdatanetagentjsagentnewreliccomnr686minjs', 1), ('threat', 1), ('Becomes', 1), ('Heisman', 1), ('rcompletefreadyStateofunction', 1), ('radical', 1), ('done', 1), ('recommendedLabelTest', 1), ('listed', 1), ('Justin', 1), ('part', 1), ('Road', 1), ('Cancer', 1), ('aims', 1), ('Latest', 1), ('toward', 1), ('nythpBriefingNewsletterSignup', 1), ('Pierre', 1), ('asetPageViewNameaddPageActionsetCustomAttributefinishedaddToTraceinlineHitnoticeErroroafunctionenwindowNREUMntapinnexportswindowNREUM112213handleD5DuLPgosfunctionennexportse7eSDFh7eSDFhfunctionenfunction', 1), ('paths', 1), ('Brings', 1), ('Overture', 1), ('Rent', 1), ('Attacks', 1), ('measures', 1), ('sponsored', 1), ('Finds', 1), ('1047', 1), ('clear', 1), ('Postscript', 1), ('Viewed', 1), ('Bush\\xe2\\x80\\x99s', 1), ('flounders', 1), ('Islamism', 1), ('Has', 1), ('22px', 1), ('writer', 1), ('Jr', 1), ('Blockbusters', 1), ('L\\xe2\\x80\\x99Amico', 1), ('Celebrate', 1), ('IAN', 1), ('hit', 1), ('Novice', 1), ('Coaches\\xe2\\x80\\x99', 1), ('banner', 1), ('firms', 1), ('Grammy', 1), ('tumult', 1), ('Britain8217s', 1), ('redefine', 1), ('set', 1), ('RUKMINI', 1), ('France', 1), ('Citing', 1), ('Homework', 1), ('Rescue', 1), ('Layouts', 1), ('corruption', 1), ('MAGGIE', 1), ('Could', 1), ('Today\\xe2\\x80\\x99s', 1), ('aircraft', 1), ('TMQ', 1), ('simple', 1), ('2295', 1), ('o0o', 1), ('primetime', 1), ('territory', 1), ('Motel', 1), ('FollowUp', 1), ('slideshow', 1), ('GuideparentaddClassnythpGiftguide', 1), ('prices', 1), ('KRAUSS', 1), ('Useful', 1), ('Journeys', 1), ('while', 1), ('College', 1), ('Defending', 1), ('Market', 1), ('City', 1), ('Italy', 1), ('nytfranklinhelveticaarialsansserif', 1), ('Scrutiny', 1), ('Wrist', 1), ('9', 1), ('fefunction', 1), ('Treating', 1), ('Slumps', 1), ('backgroundimage', 1), ('Expands', 1), ('Examining', 1), ('Rate', 1), ('CoAnchor', 1), ('Tools', 1), ('stating', 1), ('Officer', 1), ('Internet', 1), ('cut', 1), ('Football', 1), ('Holidays', 1), ('Goals', 1), ('input', 1), ('rObjectprototypehasOwnPropertynexportst13functionenfunction', 1), ('Last', 1), ('Longer', 1), ('showing', 1), ('Dig', 1), ('Defends', 1), ('nythpHideBylines', 1), ('modifications', 1), ('shaped', 1), ('Columnists', 1), ('velcroSocialFollow', 1), ('world\\xe2\\x80\\x99s', 1), ('extremism', 1), ('back', 1), ('NonRunning', 1), ('Daypart', 1), ('Familiar', 1), ('seller', 1), ('1256', 1), ('1250', 1), ('Fruits', 1), ('Square', 1), ('anything', 1), ('experiences', 1), ('block', 1), ('pollution', 1), ('NewsDeveloping', 1), ('aliens', 1), ('World\\xe2\\x80\\x99', 1), ('bankruptcy', 1), ('Driven', 1), ('borderbottomcolor', 1), ('User', 1), ('Coverage', 1), ('\\xe2\\x80\\x98One', 1), ('Franklin', 1), ('Opinionator', 1), ('Irish', 1), ('Soon', 1), ('us', 1), ('0012', 1), ('Twins', 1), ('Arguments', 1), ('Map', 1), ('Mary', 1), ('application', 1), ('eentvar', 1), ('AM', 1), ('vigil', 1), ('Documentary', 1), ('Ad', 1), ('Weddings', 1), ('An', 1), ('2000', 1), ('At', 1), ('Newsletter', 1), ('having', 1), ('once', 1), ('Basel', 1), ('during', 1), ('go', 1), ('Designer', 1), ('Words', 1), ('Now', 1), ('Canadian', 1), ('Sessanta', 1), ('Feeling', 1), ('Pope', 1), ('Related', 1), ('functionrenew', 1), ('rtifntvar', 1), ('Index', 1), ('requireportalapp', 1), ('video', 1), ('universities', 1), ('requiremap', 1), ('week\\xe2\\x80\\x99s', 1), ('Monroque\\xe2\\x80\\x99s', 1), ('America', 1), ('Swift', 1), ('Clan', 1), ('\\xe2\\x80\\x9cred', 1), ('isn\\xe2\\x80\\x99t', 1), ('explore', 1), ('focused', 1), ('Combat', 1), ('otifObjectdefinePropertyObjectkeystryreturn', 1), ('involved', 1), ('tenvar', 1), ('Back', 1), ('Alien', 1), ('Reagan\\xe2\\x80\\x9d', 1), ('1245', 1), ('1247', 1), ('Arabia', 1), ('Muslim', 1), ('presidents', 1), ('Contributing', 1), ('next', 1), ('Lens', 1), ('Matters', 1), ('examination', 1), ('visibility', 1), ('8', 1), ('subscription', 1), ('Feedback', 1), ('condominium', 1), ('Amboy', 1), ('Cites', 1), ('httpstatic01nytcomjsauthgrowldefault', 1), ('Details', 1), ('Christmas', 1), ('tereturn', 1), ('iconbefore', 1), ('NYTABTEST', 1), ('Q', 1), ('Letters', 1), ('Repertory', 1), ('r1onridiegosnexportstgos7eSDFhidfunctionennexportseXL7HBIG9z0Blfunctionenfunction', 1), ('Kitchens', 1), ('allow', 1), ('httpa1nytcomassets', 1), ('sfunction', 1), ('VIVIAN', 1), ('looks', 1), ('134', 1), ('Final', 1), ('Emergency', 1), ('Exchange', 1), ('NYTABTESTengine', 1), ('2014', 1), ('2016', 1), ('Queens', 1), ('Miami', 1), ('Pantone\\xe2\\x80\\x99s', 1), ('messagecontainer', 1), ('transparent', 1), ('presidential', 1), ('Help', 1), ('Pro', 1), ('Replica', 1), ('meta', 1), ('cereturn', 1), ('Treasury', 1), ('our', 1), ('80', 1), ('81', 1), ('85', 1), ('Noise', 1), ('Very', 1), ('include', 1), ('China', 1), ('enoovar', 1), ('Unique', 1), ('supports', 1), ('shut', 1), ('reacts', 1), ('roonooexportsreturn', 1), ('Corrections', 1), ('Roosevelt\\xe2\\x80\\x99s', 1), ('chiefs', 1), ('spanablayoutlayout', 1), ('Topics', 1), ('times', 1), ('ehttpsdocumentlocationprotocoltsrcehttpshttpwwwgoogletagservicescomtagjsgptjsvar', 1), ('Aides', 1), ('ntexportsiffunctiontypeof', 1), ('CrotononHudson', 1), ('Yale', 1), ('Shiniest', 1), ('Corporate', 1), ('Tied', 1), ('Roosevelt', 1), ('97px', 1), ('R', 1), ('\\xe2\\x80\\x98Airpocalypse\\xe2\\x80\\x99', 1), ('Edition', 1), ('mediaslideshow', 1), ('Aging', 1), ('false', 1), ('fourbedroom', 1), ('Writers', 1), ('have', 1), ('Interview', 1), ('Soccer', 1), ('Oil', 1), ('After', 1), ('authmtr', 1), ('edinfoNREUMinfonfgetElementsByTagNamescript0ifeelicenseKeyeapplicationIDncpfunctionntn', 1), ('which', 1), ('Blogs', 1), ('ZERNIKE', 1), ('Commodities', 1), ('Without', 1), ('Games', 1), ('masthead', 1), ('Risk', 1), ('Some', 1), ('nythpHideTimestamps', 1), ('Jubilee', 1), ('r1otn0iArray0o0or', 1), ('text', 1), ('0036', 1), ('0033', 1), ('30px', 1), ('based', 1), ('Hunting', 1), ('Update', 1), ('Undo', 1), ('commentspanel', 1), ('watching', 1), ('DategetTimeconcatiargumentsvar', 1), ('126', 1), ('THE', 1), ('areas', 1), ('Cleaner', 1), ('Move', 1), ('legacy', 1), ('21rem', 1), ('Facing', 1), ('CLIFFORD', 1), ('career', 1), ('duplex', 1), ('Indies', 1), ('EDWARD', 1), ('functionPortal', 1), ('backgroundcolor', 1), ('Would', 1), ('Reject', 1), ('Recycle', 1), ('Buicks', 1), ('Get', 1), ('baseUrl', 1), ('f8e9d2', 1), ('backgroundrepeat', 1), ('kickers', 1), ('Credit', 1), ('1203', 1), ('paidPostFivePackMock', 1), ('Fact', 1), ('\\xe2\\x80\\x98God\\xe2\\x80\\x99s', 1), ('homes', 1), ('Force', 1), ('Halloween', 1), ('2012', 1), ('MORE', 1), ('Granted', 1), ('vs', 1), ('sits', 1), ('Beach', 1), ('Offering', 1), ('administration', 1), ('ntypeof', 1), ('largest', 1), ('difficult', 1), ('Bucket', 1), ('Bookends', 1), ('center', 1), ('Idea', 1), ('Have', 1), ('sets', 1), ('Headaches', 1), ('less', 1), ('Resigns', 1), ('Company', 1), ('Despite', 1), ('5', 1), ('match', 1), ('Limit', 1), ('Extremism', 1), ('Merely', 1), ('tryTypekitloadcatche', 1), ('become', 1), ('Fear', 1), ('borderbottomwidth', 1), ('Quiz', 1), ('home', 1), ('Chillier', 1), ('pthemecomments', 1), ('AheadparentaddClassnythpBriefings', 1), ('Population', 1), ('windowmagnumprocessFlagslimitFabrikSavemoreFollowSuggestionsunfollowCommentshomepageOpinionKickerCssfollowFeatureallTheEmphasesvideoVHSCovervideoVHSHomepageCoveradditionalOpinionRegionshpViewabilityminiNavCountnewsEventHierarchyfreeTrialinsiderLaunch', 1), ('Inside', 1), ('after', 1), ('gained', 1), ('December', 1), ('carrier', 1), ('Americans', 1), ('Mayor', 1), ('windownewrelicnewrelicwindowNREUMvar', 1), ('Alerts', 1), ('roads', 1), ('Diversity', 1), ('Sickness', 1), ('Updates', 1), ('prophetic', 1), ('Dec', 1), ('Chelsea', 1), ('Angell\\xe2\\x80\\x99s', 1), ('Ten', 1), ('Wall', 1), ('\\xe2\\x80\\x98This', 1), ('productionpublished', 1), ('Portalcreatenytinthpwatching', 1), ('Widens', 1), ('MARINO', 1), ('urlhttpi1nytcomimagesiconsiconalert12x12a81817png', 1), ('Electronics', 1), ('Mining', 1), ('Shala', 1), ('Delivery', 1), ('book', 1), ('out', 1), ('Sportscaster', 1), ('Like', 1), ('Remove', 1), ('rObjectprototypehasOwnPropertynexportstD5DuLPfunctionenfunction', 1), ('Believed', 1), ('\\xe2\\x80\\x94', 1), ('maxHeight', 1), ('Contributor', 1), ('rural', 1)]\n",
      "None\n",
      "\n",
      "[('', 406), ('raquo', 34), ('hpHeader', 25), ('h6', 21), ('1', 20), ('New', 17), ('Times', 14), ('Opinion', 14), ('bcolumn', 14), ('0', 13), ('fontweight', 11), ('applications', 11), ('none', 11), ('allocation', 11), ('throttle', 11), ('testId', 11), ('fontfamily', 11), ('fontsize', 11), ('By', 11), ('variants', 11), ('testName', 11), ('US', 11), ('ltie10', 9), ('ET', 9), ('From', 9), ('nythpGiftguide', 8), ('padding', 8), ('lineheight', 8), ('Video', 8), ('Review', 8), ('York', 8), ('PM', 8), ('12px', 8), ('marginbottom', 8), ('Health', 7), ('OpEd', 7), ('News', 7), ('0px', 7), ('Magazine', 7), ('article', 7), ('1px', 7), ('borderbottom', 7), ('solid', 7), ('Editorial', 7), ('2015', 7), ('700', 7), ('2px', 7), ('function', 7), ('display', 7), ('has', 6), ('Estate', 6), ('World', 6), ('pocketregion', 6), ('color', 6), ('ccolumn', 6), ('Real', 6), ('nbspComments', 6), ('homepage', 6), ('More', 6), ('Food', 6), ('his', 6), ('Arts', 6), ('spanabtopregion', 6), ('nythpDaypartRegion', 6), ('Old', 5), ('new', 5), ('Muslims', 5), ('Will', 5), ('texttransform', 5), ('05', 5), ('Trump', 5), ('Best', 5), ('Subscriptions', 5), ('margintop', 5), ('topnews', 5), ('Education', 5), ('romantimesserif', 5), ('Death', 5), ('Is', 5), ('uppercase', 5), ('How', 5), ('important', 5), ('messengersuggestions', 5), ('Style', 5), ('splitlayout', 5), ('Sports', 5), ('With', 5), ('Against', 5), ('War', 5), ('Son', 5), ('TV', 5), ('Case', 5), ('Business', 5), ('Fashion', 5), ('var', 5), ('Science', 5), ('Site', 5), ('Go', 4), ('kicker', 4), ('His', 4), ('Search', 4), ('Over', 4), ('Epidemic', 4), ('3px', 4), ('President', 4), ('left', 4), ('background', 4), ('First', 4), ('ISIS', 4), ('Trial', 4), ('Dies', 4), ('One', 4), ('10', 4), ('Court', 4), ('Work', 4), ('storyheading', 4), ('Jobs', 4), ('Biden', 4), ('Guide', 4), ('Climate', 4), ('more', 4), ('Television', 4), ('4px', 4), ('story', 4), ('Ukrainian', 4), ('Trump\\xe2\\x80\\x99s', 4), ('000', 4), ('On', 4), ('Books', 4), ('Subscribe', 4), ('Gun', 4), ('NY', 4), ('norepeat', 4), ('18px', 4), ('Treatment', 4), ('Police', 4), ('li', 4), ('Supreme', 4), ('Donald', 4), ('Paris', 4), ('Music', 4), ('11px', 4), ('Crossword', 4), ('Page', 4), ('6px', 3), ('NYC', 3), ('Tuesday', 3), ('Home', 3), ('Rule', 3), ('400', 3), ('Mobile', 3), ('Analysis', 3), ('Metal', 3), ('Your', 3), ('Room', 3), ('Art', 3), ('Insider', 3), ('Column', 3), ('14px', 3), ('Tech', 3), ('Debate', 3), ('inlineblock', 3), ('Media', 3), ('paddingleft', 3), ('Theater', 3), ('one', 3), ('Notebook', 3), ('nytcheltenhamshgeorgiatimes', 3), ('summary', 3), ('Travel', 3), ('Events', 3), ('Oligarch', 3), ('In', 3), ('an', 3), ('Sale', 3), ('Gift', 3), ('Too', 3), ('American', 3), ('bordertop', 3), ('What', 3), ('ccolumncolumn', 3), ('Era', 3), ('End', 3), ('Report', 3), ('Eagles', 3), ('About', 3), ('Technology', 3), ('8px', 3), ('International', 3), ('Prosecution', 3), ('Making', 3), ('refer', 3), ('Sections', 3), ('nythpBreaking', 3), ('photospotregion', 3), ('Politics', 3), ('storythemefeature', 3), ('Social', 3), ('10px', 3), ('It\\xe2\\x80\\x99s', 3), ('requirefoundationmain', 3), ('999', 3), ('Return', 3), ('Sunday', 3), ('Be', 3), ('T', 3), ('Todays', 3), ('Rests', 3), ('NYT', 2), ('h4sectionHeaderHome', 2), ('force', 2), ('Wrong', 2), ('101', 2), ('sansserif', 2), ('Star', 2), ('A81817', 2), ('Walkers', 2), ('over', 2), ('Radically', 2), ('Styles', 2), ('Adopt', 2), ('P\\xc3\\xa9pin\\xe2\\x80\\x99s', 2), ('top', 2), ('B', 2), ('Welcomed', 2), ('Sea', 2), ('Chicago', 2), ('Exploiting', 2), ('Jacques', 2), ('pageManager', 2), ('Its', 2), ('Big', 2), ('Others', 2), ('Greener', 2), ('Wolfe', 2), ('Year\\xe2\\x80\\x99s', 2), ('paddingtop', 2), ('height', 2), ('Returns', 2), ('h6active', 2), ('spread', 2), ('Building', 2), ('Morning', 2), ('Are', 2), ('sectionopinion', 2), ('Again', 2), ('right', 2), ('Daily', 2), ('Use', 2), ('Cut', 2), ('float', 2), ('Title', 2), ('Gets', 2), ('Day', 2), ('\\xe2\\x80\\x98Transparent\\xe2\\x80\\x99', 2), ('ahover', 2), ('div', 2), ('Public', 2), ('Changed', 2), ('Bids', 2), ('Dean', 2), ('Trudeau\\xe2\\x80\\x99s', 2), ('navigation', 2), ('fundamentalist', 2), ('When', 2), ('FD8249', 2), ('Shows', 2), ('Terms', 2), ('homepage20151207151834jshomepage', 2), ('Why', 2), ('View', 2), ('Series', 2), ('opts', 2), ('Breaking', 2), ('Italian', 2), ('Skip', 2), ('Affirmative', 2), ('Joe', 2), ('50px', 2), ('Already', 2), ('Videos', 2), ('Pose', 2), ('Courtesy', 2), ('Response', 2), ('than', 2), ('Call', 2), ('O\\xe2\\x80\\x99Reilly', 2), ('Articles', 2), ('Political', 2), ('Plea', 2), ('Services', 2), ('Amid', 2), ('Remembering', 2), ('85000', 2), ('Guest', 2), ('nythpBriefings', 2), ('\\xe2\\x80\\x98Mx\\xe2\\x80\\x99', 2), ('Schools', 2), ('Action', 2), ('Freddie', 2), ('collectionfirstchild', 2), ('II', 2), ('Loading', 2), ('displaynone', 2), ('nytfranklin', 2), ('Extreme', 2), ('requirehomepagemain', 2), ('Paper', 2), ('Memories', 2), ('Radicals', 2), ('Obama', 2), ('Distracted', 2), ('J', 2), ('\\xe2\\x80\\x98The', 2), ('As', 2), ('Year', 2), ('Canada', 2), ('all', 2), ('Fix', 2), ('clerics', 2), ('Listings', 2), ('Reagan', 2), ('search', 2), ('ArtsBeat', 2), ('Bizarre', 2), ('Top', 2), ('Automobiles', 2), ('textalign', 2), ('Carpetbagger', 2), ('tvar', 2), ('20', 2), ('timestamp', 2), ('Terrorists', 2), ('Slump', 2), ('relationship', 2), ('Todayrsquos', 2), ('Puzzle', 2), ('Gray\\xe2\\x80\\x99s', 2), ('Seeks', 2), ('Skelos', 2), ('Responses', 2), ('documentreadyfunction', 2), ('2', 2), ('For', 2), ('close', 2), ('Critics', 2), ('Makes', 2), ('Neighborhood', 2), ('Show\\xe2\\x80\\x99', 2), ('Was', 2), ('Play', 2), ('Cars', 2), ('political', 2), ('Most', 2), ('Plan', 2), ('Women', 2), ('h3kicker', 2), ('Saudi', 2), ('16px', 2), ('Quarterback', 2), ('Movies', 2), ('Talks', 2), ('Living', 2), ('Fans', 2), ('Did', 2), ('Rising', 2), ('Learning', 2), ('Email', 2), ('Bill', 2), ('Gothamite', 2), ('David', 2), ('themenewsheadlines', 2), ('Shock', 2), ('Beijing', 2), ('Upshot', 2), ('Quarantine', 2), ('Sell', 2), ('Self', 2), ('Region', 2), ('State', 2), ('Janet', 2), ('Assault', 2), ('Line', 2), ('can', 2), ('Ground', 2), ('Multimedia', 2), ('Ships', 2), ('Mock', 2), ('from', 2), ('STYLING', 2), ('Feature', 2), ('byline', 2), ('Brooks', 2), ('Can', 2), ('Say', 2), ('Season', 2), ('Stage', 2), ('GenderNeutral', 2), ('h6hover', 2), ('Warhol', 2), ('foundationviewspagemanager', 2), ('requirejquerynyt', 2), ('Anglo', 2), ('border', 2), ('who', 2), ('High', 2), ('Smog', 2), ('Homes', 2), ('Keep', 2), ('aactive', 2), ('ones', 2), ('Justices', 2), ('Ebola', 2), ('storythemesummary', 2), ('Grows', 2), ('Obituaries', 2), ('runaroundRight', 2), ('Navigation', 2), ('nytfranklinarialhelveticasansserif', 2), ('You', 2), ('Dismay', 2), ('NYTimescom', 2), ('Gleeful', 2), ('off', 2), ('Reason', 2), ('Threat', 2), ('Lining', 2), ('Avoid', 2), ('Editor', 2), ('Up', 2), ('Us', 2), ('about', 2), ('h5', 2), ('Chiefs', 2), ('Well', 2), ('Rutgers', 2), ('made', 2), ('\\xc2\\xbb', 2), ('\\xe2\\x80\\x98Star', 2), ('Centered', 2), ('Islamic', 2), ('HPHEADER', 2), ('South', 2), ('Stewart', 2), ('Apologizes', 1), ('Lead', 1), ('Does', 1), ('0833', 1), ('pageManagertrackingFireEventQueue', 1), ('Honda', 1), ('Watch', 1), ('Ronald', 1), ('urlhttpcssnytcomimagesiconsbullet4x4gif', 1), ('Nytimescom', 1), ('Western', 1), ('h3containsThe', 1), ('envar', 1), ('GM', 1), ('tickets', 1), ('nrrequireforvar', 1), ('Trying', 1), ('\\xe2\\x80\\x98Lazarus\\xe2\\x80\\x99', 1), ('abovebannerregion', 1), ('Jon', 1), ('0052', 1), ('0051', 1), ('chef', 1), ('Version', 1), ('END', 1), ('Lamar', 1), ('fivebedroom', 1), ('ever', 1), ('Made', 1), ('men', 1), ('wrapping', 1), ('Budget', 1), ('100', 1), ('104', 1), ('NonQuarterback', 1), ('135rem', 1), ('criticism', 1), ('Basis', 1), ('brought', 1), ('Book', 1), ('HL23', 1), ('until', 1), ('Charity', 1), ('Person', 1), ('90', 1), ('rights', 1), ('avisited', 1), ('Header', 1), ('Advertisers', 1), ('example', 1), ('Altitude', 1), ('Trillion', 1), ('alinknythpBriefingNewsletterSignup', 1), ('Digital', 1), ('realEstateSearch', 1), ('Editorials', 1), ('Watching', 1), ('damage', 1), ('Couric', 1), ('Brightest', 1), ('nytfranklinArialsansserif', 1), ('earlier', 1), ('Getaway', 1), ('schoolchildren', 1), ('Obama\\xe2\\x80\\x99s', 1), ('Japanese', 1), ('Criminals', 1), ('Tips', 1), ('Alert', 1), ('before', 1), ('NYTABTESTengineisUserVariantwatchingNoScroll', 1), ('videoFactory', 1), ('hidden', 1), ('Awakens\\xe2\\x80\\x99', 1), ('tentifrcallenreturn', 1), ('side', 1), ('WILLIAMS', 1), ('httpa1nytcomassetshomepage20151207151834imagesfoundationlogos', 1), ('13px', 1), ('BEGIN', 1), ('Wars', 1), ('Muse', 1), ('content', 1), ('authgrowl', 1), ('Hole', 1), ('foundation', 1), ('Join', 1), ('Antitrust', 1), ('standard', 1), ('Qualcomm', 1), ('Contributors', 1), ('002', 1), ('Photo', 1), ('tdocumentcreateElementscripttasync0ttypetextjavascriptvar', 1), ('0667', 1), ('windowmagnumwriteLogosmall', 1), ('Please', 1), ('Going', 1), ('adopted', 1), ('googletaggoogletaggoogletagcmdgoogletagcmdfunctionvar', 1), ('Congress', 1), ('Testy', 1), ('0066', 1), ('0067', 1), ('0064', 1), ('0063', 1), ('0061', 1), ('Press', 1), ('0069', 1), ('urban', 1), ('collapse', 1), ('\\xe2\\x80\\x98Our', 1), ('Edge', 1), ('Code', 1), ('country\\xe2\\x80\\x99s', 1), ('ireturnnew', 1), ('oet1nreturn', 1), ('httpstatic01nytcomvideovhsbuildvhs2xmin', 1), ('realestate', 1), ('messagebed', 1), ('Recruiting', 1), ('E2E2E2', 1), ('return', 1), ('tevar', 1), ('Holly', 1), ('Transgender', 1), ('forced', 1), ('Ask', 1), ('homepage20151207151834jsfoundation', 1), ('plenty', 1), ('aenfececoncatnfunction', 1), ('QA', 1), ('voting', 1), ('ambassador', 1), ('Helvetica', 1), ('KATE', 1), ('nythpHideKickers', 1), ('headline', 1), ('Photography', 1), ('debts', 1), ('WONG', 1), ('Tricky', 1), ('Account', 1), ('Voting', 1), ('Caribbean', 1), ('textdecoration', 1), ('rreturnvar', 1), ('Recommended', 1), ('Midday', 1), ('01', 1), ('\\xe2\\x80\\x98Systemic', 1), ('09', 1), ('actionlink', 1), ('Choice', 1), ('Prices', 1), ('previous', 1), ('Settings', 1), ('Failures\\xe2\\x80\\x99', 1), ('richest', 1), ('Among', 1), ('Dance', 1), ('Classifieds', 1), ('Closes', 1), ('conference', 1), ('OpDoc', 1), ('asks', 1), ('been', 1), ('Early', 1), ('much', 1), ('Sentencing', 1), ('life', 1), ('Vice', 1), ('Nominations', 1), ('Manage', 1), ('air', 1), ('CALLIMACHI', 1), ('Accused', 1), ('LEARN', 1), ('Puerto', 1), ('id', 1), ('Around', 1), ('bid', 1), ('siteindexbrandinglink', 1), ('Trends', 1), ('greatest', 1), ('secure', 1), ('Violating', 1), ('Privacy', 1), ('board', 1), ('D', 1), ('Restaurant', 1), ('Taking', 1), ('posed', 1), ('homepage20151207151834jsshared', 1), ('oamarkdomContentifunction', 1), ('Jeb', 1), ('Newsletters', 1), ('21px', 1), ('anythpBriefingNewsletterSignup', 1), ('Bail', 1), ('What\\xe2\\x80\\x99s', 1), ('people', 1), ('Woodlawn', 1), ('Tiny', 1), ('Alzheimer\\xe2\\x80\\x99s', 1), ('Between', 1), ('Life', 1), ('h3containsHoliday', 1), ('comments', 1), ('backgroundposition', 1), ('Let', 1), ('Repeatedly', 1), ('He', 1), ('TIMOTHY', 1), ('bold', 1), ('Calls', 1), ('Dept', 1), ('Fair', 1), ('Hearing', 1), ('Canceled', 1), ('Fail', 1), ('Osteoporosis', 1), ('JAMES', 1), ('son', 1), ('down', 1), ('Draft', 1), ('support', 1), ('width', 1), ('victorious', 1), ('optsvariation', 1), ('Czech', 1), ('foundationlegacymain', 1), ('tnvar', 1), ('20px', 1), ('Conned', 1), ('Personal', 1), ('Mercy\\xe2\\x80\\x99', 1), ('libefore', 1), ('Child\\xe2\\x80\\x99s', 1), ('Running', 1), ('SoHo', 1), ('Pages', 1), ('longer', 1), ('time', 1), ('So', 1), ('precedent', 1), ('Republic', 1), ('battle', 1), ('Memoir', 1), ('father', 1), ('Facebook', 1), ('AUSTEN', 1), ('Where', 1), ('Jersey', 1), ('Tax', 1), ('assets\\xe2\\x80\\x9d', 1), ('Rico', 1), ('a81817', 1), ('LIPTAK', 1), ('Red', 1), ('Head', 1), ('Robotic', 1), ('shared', 1), ('True', 1), ('Runway', 1), ('address', 1), ('My', 1), ('MM', 1), ('shift', 1), ('Born', 1), ('city\\xe2\\x80\\x99s', 1), ('shootings', 1), ('FirstName', 1), ('alert\\xe2\\x80\\x9d', 1), ('foundationmain', 1), ('Import', 1), ('0875', 1), ('nrrequirereturn', 1), ('helvetica', 1), ('Costumes', 1), ('sports', 1), ('Awards', 1), ('memory', 1), ('optspoll', 1), ('Benefits', 1), ('Eve', 1), ('windowNREUMNREUMNREUMinfobeaconbamnrdatanetlicenseKeyb5bcf2eba4applicationID4491446transactionNameYwFXZhRYVhAEVUZcX1pLYEAPFlkTFRhCXUAqueueTime0applicationTime478ttGuidagentTokenuserAttributeserrorBeaconbamnrdatanetagentjsagentnewreliccomnr686minjs', 1), ('Time', 1), ('Push', 1), ('Celebrations', 1), ('RISEN', 1), ('Family', 1), ('German', 1), ('urlhttpgraphics8nytimescompackagesimageshomepagebriefingsdogearsmpng', 1), ('Numbers', 1), ('Wrap', 1), ('Our', 1), ('\\xe2\\x80\\x9cillicit', 1), ('Clarifies', 1), ('Mic', 1), ('ureturn', 1), ('means', 1), ('Ahead', 1), ('armies', 1), ('may', 1), ('motorists', 1), ('Emailed', 1), ('alerticon', 1), ('membership', 1), ('shuffleRecommendations', 1), ('data', 1), ('Exclusive', 1), ('commodity', 1), ('Islam', 1), ('httpstatic01nytcomjs2buildvideoplayersextended20appRequire', 1), ('Sheer', 1), ('Generator', 1), ('Bowie', 1), ('pointed', 1), ('nbsp', 1), ('Lecturer', 1), ('police', 1), ('how', 1), ('Rules', 1), ('Hiding', 1), ('env', 1), ('Choices', 1), ('odocumentgetElementsByTagNamescript0oparentNodeinsertBeforeto', 1), ('EDITORIAL', 1), ('Vote\\xe2\\x80\\x99', 1), ('name', 1), ('LAWSON', 1), ('Skin', 1), ('Heels', 1), ('Arabia\\xe2\\x80\\x99s', 1), ('thttpsssplit0esslForHttpdprotothttpshttpamarkonloadivar', 1), ('significantly', 1), ('Philanthropy', 1), ('Invokes', 1), ('Split', 1), ('year', 1), ('Carolina', 1), ('container', 1), ('\\xe2\\x80\\x98Hamilton\\xe2\\x80\\x99', 1), ('astray', 1), ('avisitednythpBriefingNewsletterSignup', 1), ('shows', 1), ('Rights', 1), ('million', 1), ('httpstatic01nytcomjsmtr', 1), ('toi0foro', 1), ('turn', 1), ('first', 1), ('Giant', 1), ('revenue', 1), ('Start', 1), ('Hollywood', 1), ('millions', 1), ('Monday', 1), ('speaking', 1), ('Wars\\xe2\\x80\\x99', 1), ('mining', 1), ('rehandleoe1ie2undefinedtypeof', 1), ('ObjectdefinePropertyenvalueowritable0enumerable1ocatchireturn', 1), ('copy', 1), ('17', 1), ('require', 1), ('accused', 1), ('Advertise', 1), ('browser', 1), ('165rem', 1), ('say', 1), ('\\xe2\\x80\\x98Narrative\\xe2\\x80\\x99', 1), ('Do', 1), ('potential', 1), ('DategetTimevar', 1), ('15px', 1), ('Renters', 1), ('\\xe2\\x80\\x98Animated', 1), ('tteelength0forvar', 1), ('ppupapplystreturn', 1), ('Comments', 1), ('Recommend', 1), ('Ski', 1), ('40px', 1), ('upgrade', 1), ('Critics\\xe2\\x80\\x99', 1), ('Housing', 1), ('get', 1), ('Turf', 1), ('tallWatchingModule', 1), ('Apps', 1), ('BOARD', 1), ('fails', 1), ('Iowa', 1), ('3', 1), ('letterspacing', 1), ('Than', 1), ('requirehttpstatic01nytcombijstagxtagxjs', 1), ('jobs', 1), ('abcolumn', 1), ('arial', 1), ('come', 1), ('Songs', 1), ('optslimit', 1), ('region', 1), ('Note', 1), ('Mandelli', 1), ('Beauty', 1), ('Promos', 1), ('Prostate', 1), ('ercalleotinoeoi1return', 1), ('SmithAssociated', 1), ('Cancellation', 1), ('case', 1), ('windowlocationsearchindexOfportalvariantwatchingNoScroll', 1), ('Colors', 1), ('curb', 1), ('margin', 1), ('penthouse', 1), ('clutter', 1), ('rally', 1), ('Installation', 1), ('speech', 1), ('Design', 1), ('referheading', 1), ('Commodity', 1), ('Leakey\\xe2\\x80\\x99', 1), ('Signal', 1), ('Sour', 1), ('Own', 1), ('nythpBreakingnythpNoRule', 1), ('Jihadism', 1), ('Pfefferman', 1), ('ccc', 1), ('Service', 1), ('actions', 1), ('Scope', 1), ('coloredSharetools', 1), ('Log', 1), ('Her', 1), ('Spot', 1), ('Zuckerberg', 1), ('Applications', 1), ('Roller', 1), ('Hacks', 1), ('Something', 1), ('Lagrange', 1), ('\\xe4\\xb8\\xad\\xe6\\x96\\x87', 1), ('\\xe2\\x80\\x98A', 1), ('windowlocationsearchindexOfdisabletagx', 1), ('Since', 1), ('ereturneobjectnfunctionn1ewindow0ieofunctionreturn', 1), ('pinnedMasthead', 1), ('Earlier', 1), ('best', 1), ('timetimestamp', 1), ('ontexportset0calloexportsfunctionnvar', 1), ('apocalyptic', 1), ('power', 1), ('athletics', 1), ('Transit', 1), ('Check', 1), ('Bataclan', 1), ('Story', 1), ('image', 1), ('your', 1), ('Store', 1), ('NJ', 1), ('paidPostDriver', 1), ('hed', 1), ('Small', 1), ('House', 1), ('Alterations', 1), ('vhs', 1), ('Wales\\xe2\\x80\\x99', 1), ('Close', 1), ('\\xe2\\x80\\x9cKilling', 1), ('Crisis', 1), ('aehandlece1uwindowfudocumente2var', 1), ('videos', 1), ('Wordplay', 1), ('Production', 1), ('PoorPerforming', 1), ('film', 1), ('Read', 1), ('field', 1), ('Diversion', 1), ('Gandolf', 1), ('Skinnier', 1), ('you', 1), ('videoPlaylist', 1), ('Yorktown', 1), ('wfloading', 1), ('scroll', 1), ('original', 1), ('onrcontextiegosnexportstgos7eSDFheefunctionennexportseQJf3ax3functionenfunction', 1), ('Van', 1), ('Rebukes', 1), ('icons', 1), ('tentreturn', 1), ('4em', 1), ('far', 1), ('Headers', 1), ('slocationsplit0pbeaconbamnrdataneterrorBeaconbamnrdatanetagentjsagentnewreliccomnr686minjsdnexportsoffsetioriginsfeaturesfaddEventListenerfaddEventListenerDOMContentLoadedo1uaddEventListenerloadt1fattachEventonreadystatechangeruattachEventonloadtamarkfirstbytei11223handleD5DuLPloaderfunctionennexportseG9z0Bl12functionenfunction', 1), ('Rest', 1), ('public\\xe2\\x80\\x99s', 1), ('Should', 1), ('Man\\xe2\\x80\\x99', 1), ('GUY', 1), ('ribbon', 1), ('rfcreateElementscriptrsrcdprotoeagentnparentNodeinsertBeforernfunction', 1), ('Giants', 1), ('what', 1), ('rvar', 1), ('rlistenerselengthremitentvoidrqrqerqerqepushnvar', 1), ('public', 1), ('paddingbottom', 1), ('Prosecutors', 1), ('Contact', 1), ('Briefing', 1), ('Communication', 1), ('experience', 1), ('nytcheltenhamgeorgiatimes', 1), ('nythpDeveloping', 1), ('texts', 1), ('Europe', 1), ('Explorer', 1), ('Limits', 1), ('company', 1), ('Mariuccia', 1), ('St', 1), ('Roger', 1), ('factories', 1), ('fatal', 1), ('326891', 1), ('Viral', 1), ('tentnn0undefinedtypeof', 1), ('matchHeight', 1), ('Cause', 1), ('urlhttpgraphics8nytimescompackagesimageshomepagenewslettericonpng', 1), ('Fall', 1), ('Continue', 1), ('ribbonChartbeatMostEmailed', 1), ('Deep', 1), ('Player', 1), ('httpstatic01nytcomjs2buildvideo20videofactoryrequire', 1), ('Film', 1), ('Arial', 1), ('help', 1), ('Hunter', 1), ('soon', 1), ('Countdown', 1), ('through', 1), ('bordertopcolor', 1), ('its', 1), ('freturnonaemitncreateulistenersceventsffunction', 1), ('Pilot', 1), ('waitSeconds', 1), ('Bar', 1), ('food', 1), ('demographics', 1), ('Bag', 1), ('georgiatimes', 1), ('Trudeau', 1), ('Authority', 1), ('windowNREUMNREUMnrrequirefunctionentfunction', 1), ('Poll', 1), ('HABERMAN', 1), ('Ray', 1), ('Pistorius', 1), ('hard', 1), ('Joseph', 1), ('since', 1), ('ADAM', 1), ('7', 1), ('paidPostFivePack', 1), ('Clear', 1), ('reeecreatenexportstteerrqeeQJf3axhandlefunctionennexportseD5DuLPXL7HBIfunctionenfunction', 1), ('Ukraine', 1), ('Block', 1), ('threat', 1), ('Becomes', 1), ('Heisman', 1), ('rcompletefreadyStateofunction', 1), ('radical', 1), ('done', 1), ('recommendedLabelTest', 1), ('listed', 1), ('Justin', 1), ('part', 1), ('Road', 1), ('Cancer', 1), ('aims', 1), ('Latest', 1), ('toward', 1), ('nythpBriefingNewsletterSignup', 1), ('Pierre', 1), ('asetPageViewNameaddPageActionsetCustomAttributefinishedaddToTraceinlineHitnoticeErroroafunctionenwindowNREUMntapinnexportswindowNREUM112213handleD5DuLPgosfunctionennexportse7eSDFh7eSDFhfunctionenfunction', 1), ('paths', 1), ('Brings', 1), ('Overture', 1), ('Rent', 1), ('Attacks', 1), ('measures', 1), ('sponsored', 1), ('Finds', 1), ('1047', 1), ('clear', 1), ('Postscript', 1), ('Viewed', 1), ('Bush\\xe2\\x80\\x99s', 1), ('flounders', 1), ('Islamism', 1), ('Has', 1), ('22px', 1), ('writer', 1), ('Jr', 1), ('Blockbusters', 1), ('L\\xe2\\x80\\x99Amico', 1), ('Celebrate', 1), ('IAN', 1), ('hit', 1), ('Novice', 1), ('Coaches\\xe2\\x80\\x99', 1), ('banner', 1), ('firms', 1), ('Grammy', 1), ('tumult', 1), ('Britain8217s', 1), ('redefine', 1), ('set', 1), ('RUKMINI', 1), ('France', 1), ('Citing', 1), ('Homework', 1), ('Rescue', 1), ('Layouts', 1), ('corruption', 1), ('MAGGIE', 1), ('Could', 1), ('Today\\xe2\\x80\\x99s', 1), ('aircraft', 1), ('TMQ', 1), ('simple', 1), ('2295', 1), ('o0o', 1), ('primetime', 1), ('territory', 1), ('Motel', 1), ('FollowUp', 1), ('slideshow', 1), ('GuideparentaddClassnythpGiftguide', 1), ('prices', 1), ('KRAUSS', 1), ('Useful', 1), ('Journeys', 1), ('while', 1), ('College', 1), ('Defending', 1), ('Market', 1), ('City', 1), ('Italy', 1), ('nytfranklinhelveticaarialsansserif', 1), ('Scrutiny', 1), ('Wrist', 1), ('9', 1), ('fefunction', 1), ('Treating', 1), ('Slumps', 1), ('backgroundimage', 1), ('Expands', 1), ('Examining', 1), ('Rate', 1), ('CoAnchor', 1), ('Tools', 1), ('stating', 1), ('Officer', 1), ('Internet', 1), ('cut', 1), ('Football', 1), ('Holidays', 1), ('Goals', 1), ('input', 1), ('rObjectprototypehasOwnPropertynexportst13functionenfunction', 1), ('Last', 1), ('Longer', 1), ('showing', 1), ('Dig', 1), ('Defends', 1), ('nythpHideBylines', 1), ('modifications', 1), ('shaped', 1), ('Columnists', 1), ('velcroSocialFollow', 1), ('world\\xe2\\x80\\x99s', 1), ('extremism', 1), ('back', 1), ('NonRunning', 1), ('Daypart', 1), ('Familiar', 1), ('seller', 1), ('1256', 1), ('1250', 1), ('Fruits', 1), ('Square', 1), ('anything', 1), ('experiences', 1), ('block', 1), ('pollution', 1), ('NewsDeveloping', 1), ('aliens', 1), ('World\\xe2\\x80\\x99', 1), ('bankruptcy', 1), ('Driven', 1), ('borderbottomcolor', 1), ('User', 1), ('Coverage', 1), ('\\xe2\\x80\\x98One', 1), ('Franklin', 1), ('Opinionator', 1), ('Irish', 1), ('Soon', 1), ('us', 1), ('0012', 1), ('Twins', 1), ('Arguments', 1), ('Map', 1), ('Mary', 1), ('application', 1), ('eentvar', 1), ('AM', 1), ('vigil', 1), ('Documentary', 1), ('Ad', 1), ('Weddings', 1), ('An', 1), ('2000', 1), ('At', 1), ('Newsletter', 1), ('having', 1), ('once', 1), ('Basel', 1), ('during', 1), ('go', 1), ('Designer', 1), ('Words', 1), ('Now', 1), ('Canadian', 1), ('Sessanta', 1), ('Feeling', 1), ('Pope', 1), ('Related', 1), ('functionrenew', 1), ('rtifntvar', 1), ('Index', 1), ('requireportalapp', 1), ('video', 1), ('universities', 1), ('requiremap', 1), ('week\\xe2\\x80\\x99s', 1), ('Monroque\\xe2\\x80\\x99s', 1), ('America', 1), ('Swift', 1), ('Clan', 1), ('\\xe2\\x80\\x9cred', 1), ('isn\\xe2\\x80\\x99t', 1), ('explore', 1), ('focused', 1), ('Combat', 1), ('otifObjectdefinePropertyObjectkeystryreturn', 1), ('involved', 1), ('tenvar', 1), ('Back', 1), ('Alien', 1), ('Reagan\\xe2\\x80\\x9d', 1), ('1245', 1), ('1247', 1), ('Arabia', 1), ('Muslim', 1), ('presidents', 1), ('Contributing', 1), ('next', 1), ('Lens', 1), ('Matters', 1), ('examination', 1), ('visibility', 1), ('8', 1), ('subscription', 1), ('Feedback', 1), ('condominium', 1), ('Amboy', 1), ('Cites', 1), ('httpstatic01nytcomjsauthgrowldefault', 1), ('Details', 1), ('Christmas', 1), ('tereturn', 1), ('iconbefore', 1), ('NYTABTEST', 1), ('Q', 1), ('Letters', 1), ('Repertory', 1), ('r1onridiegosnexportstgos7eSDFhidfunctionennexportseXL7HBIG9z0Blfunctionenfunction', 1), ('Kitchens', 1), ('allow', 1), ('httpa1nytcomassets', 1), ('sfunction', 1), ('VIVIAN', 1), ('looks', 1), ('134', 1), ('Final', 1), ('Emergency', 1), ('Exchange', 1), ('NYTABTESTengine', 1), ('2014', 1), ('2016', 1), ('Queens', 1), ('Miami', 1), ('Pantone\\xe2\\x80\\x99s', 1), ('messagecontainer', 1), ('transparent', 1), ('presidential', 1), ('Help', 1), ('Pro', 1), ('Replica', 1), ('meta', 1), ('cereturn', 1), ('Treasury', 1), ('our', 1), ('80', 1), ('81', 1), ('85', 1), ('Noise', 1), ('Very', 1), ('include', 1), ('China', 1), ('enoovar', 1), ('Unique', 1), ('supports', 1), ('shut', 1), ('reacts', 1), ('roonooexportsreturn', 1), ('Corrections', 1), ('Roosevelt\\xe2\\x80\\x99s', 1), ('chiefs', 1), ('spanablayoutlayout', 1), ('Topics', 1), ('times', 1), ('ehttpsdocumentlocationprotocoltsrcehttpshttpwwwgoogletagservicescomtagjsgptjsvar', 1), ('Aides', 1), ('ntexportsiffunctiontypeof', 1), ('CrotononHudson', 1), ('Yale', 1), ('Shiniest', 1), ('Corporate', 1), ('Tied', 1), ('Roosevelt', 1), ('97px', 1), ('R', 1), ('\\xe2\\x80\\x98Airpocalypse\\xe2\\x80\\x99', 1), ('Edition', 1), ('mediaslideshow', 1), ('Aging', 1), ('false', 1), ('fourbedroom', 1), ('Writers', 1), ('have', 1), ('Interview', 1), ('Soccer', 1), ('Oil', 1), ('After', 1), ('authmtr', 1), ('edinfoNREUMinfonfgetElementsByTagNamescript0ifeelicenseKeyeapplicationIDncpfunctionntn', 1), ('which', 1), ('Blogs', 1), ('ZERNIKE', 1), ('Commodities', 1), ('Without', 1), ('Games', 1), ('masthead', 1), ('Risk', 1), ('Some', 1), ('nythpHideTimestamps', 1), ('Jubilee', 1), ('r1otn0iArray0o0or', 1), ('text', 1), ('0036', 1), ('0033', 1), ('30px', 1), ('based', 1), ('Hunting', 1), ('Update', 1), ('Undo', 1), ('commentspanel', 1), ('watching', 1), ('DategetTimeconcatiargumentsvar', 1), ('126', 1), ('THE', 1), ('areas', 1), ('Cleaner', 1), ('Move', 1), ('legacy', 1), ('21rem', 1), ('Facing', 1), ('CLIFFORD', 1), ('career', 1), ('duplex', 1), ('Indies', 1), ('EDWARD', 1), ('functionPortal', 1), ('backgroundcolor', 1), ('Would', 1), ('Reject', 1), ('Recycle', 1), ('Buicks', 1), ('Get', 1), ('baseUrl', 1), ('f8e9d2', 1), ('backgroundrepeat', 1), ('kickers', 1), ('Credit', 1), ('1203', 1), ('paidPostFivePackMock', 1), ('Fact', 1), ('\\xe2\\x80\\x98God\\xe2\\x80\\x99s', 1), ('homes', 1), ('Force', 1), ('Halloween', 1), ('2012', 1), ('MORE', 1), ('Granted', 1), ('vs', 1), ('sits', 1), ('Beach', 1), ('Offering', 1), ('administration', 1), ('ntypeof', 1), ('largest', 1), ('difficult', 1), ('Bucket', 1), ('Bookends', 1), ('center', 1), ('Idea', 1), ('Have', 1), ('sets', 1), ('Headaches', 1), ('less', 1), ('Resigns', 1), ('Company', 1), ('Despite', 1), ('5', 1), ('match', 1), ('Limit', 1), ('Extremism', 1), ('Merely', 1), ('tryTypekitloadcatche', 1), ('become', 1), ('Fear', 1), ('borderbottomwidth', 1), ('Quiz', 1), ('home', 1), ('Chillier', 1), ('pthemecomments', 1), ('AheadparentaddClassnythpBriefings', 1), ('Population', 1), ('windowmagnumprocessFlagslimitFabrikSavemoreFollowSuggestionsunfollowCommentshomepageOpinionKickerCssfollowFeatureallTheEmphasesvideoVHSCovervideoVHSHomepageCoveradditionalOpinionRegionshpViewabilityminiNavCountnewsEventHierarchyfreeTrialinsiderLaunch', 1), ('Inside', 1), ('after', 1), ('gained', 1), ('December', 1), ('carrier', 1), ('Americans', 1), ('Mayor', 1), ('windownewrelicnewrelicwindowNREUMvar', 1), ('Alerts', 1), ('roads', 1), ('Diversity', 1), ('Sickness', 1), ('Updates', 1), ('prophetic', 1), ('Dec', 1), ('Chelsea', 1), ('Angell\\xe2\\x80\\x99s', 1), ('Ten', 1), ('Wall', 1), ('\\xe2\\x80\\x98This', 1), ('productionpublished', 1), ('Portalcreatenytinthpwatching', 1), ('Widens', 1), ('MARINO', 1), ('urlhttpi1nytcomimagesiconsiconalert12x12a81817png', 1), ('Electronics', 1), ('Mining', 1), ('Shala', 1), ('Delivery', 1), ('book', 1), ('out', 1), ('Sportscaster', 1), ('Like', 1), ('Remove', 1), ('rObjectprototypehasOwnPropertynexportstD5DuLPfunctionenfunction', 1), ('Believed', 1), ('\\xe2\\x80\\x94', 1), ('maxHeight', 1), ('Contributor', 1), ('rural', 1)]\n",
      "None\n"
     ]
    }
   ],
   "source": [
    "import urllib, string\n",
    "\n",
    "\n",
    "\n",
    "#print source # 추후 숙제 답안 제출 때엔 왼쪽 라인은 주석처리할 것\n",
    "\n",
    "    \n",
    "# 웹사이트 상의 단어 빈도에 대한 정보를 다루는 클래스다.\n",
    "class WebWordsFrequency:\n",
    "\n",
    "    # 생성자\n",
    "    def __init__(self, *urls):\n",
    "        self.urlList = list(urls)\n",
    "\n",
    "    # Url 추가\n",
    "    def addUrl(self, strUrl):\n",
    "        self.urlList.append(strUrl)\n",
    "\n",
    "    # Url 삭제\n",
    "    def removeUrl(self, strUrl):\n",
    "        self.urlList.remove(strUrl)\n",
    "\n",
    "    # Url 목록 출력\n",
    "    def listUrls(self):\n",
    "        for e in self.urlList:\n",
    "            print e\n",
    "\n",
    "    # 저장된 웹사이트 url에 기반한 단어 빈도 사전 출력\n",
    "    def getWordsFrequency(self):\n",
    "        for x in self.urlList:\n",
    "            source = urllib.urlopen(x).read()\n",
    "\n",
    "#print source # 추후 숙제 답안 제출 때엔 왼쪽 라인은 주석처리할 것\n",
    "            L = []\n",
    "\n",
    "            index = 1 #리스트에 넣을지 안넣을지 구분.\n",
    "            temp = \"\"\n",
    "\n",
    "            for ch in source:\n",
    "                if ch == '<':\n",
    "                    index = 1\n",
    "                    if len(temp.strip()) > 0:\n",
    "                        word_temp = temp.split() #공백단위로 분리\n",
    "                        if len(word_temp) > 0:\n",
    "                            for a in word_temp:\n",
    "                                a = a.translate(string.maketrans(\"\",\"\"), string.punctuation)\n",
    "                                if a != '' :\n",
    "                                    L.append(a)\n",
    "\n",
    "                    temp = \"\"\n",
    "\n",
    "                if ch == '>':\n",
    "                    index = 0\n",
    "                    continue\n",
    "\n",
    "                if index is 0:\n",
    "                    temp += ch\n",
    "\n",
    "            stopword = [ 'A','a', 'and', 'are', 'as', 'at', 'be', 'but','But', 'by',\n",
    "                'for', 'if','If', 'in', 'into', 'is', 'it','It', 'no','No',\n",
    "                'not','Not', 'of', 'on', 'or', 's', 'such', 't', 'that','That',\n",
    "                'the','The', 'their','Their', 'then','Then', 'there','There',\n",
    "                'these','These', 'they','They', 'this','This', 'to', 'was', 'will',\n",
    "                'with']\n",
    "            for i in range (len(stopword)):\n",
    "                for j in range(len(L)):\n",
    "                    if L[j] == stopword[i]:\n",
    "                        L[j] = \"\"\n",
    "            cnt = 0\n",
    "            freq = []\n",
    "            for ch in L: #원소 읽기\n",
    "                cnt += 1\n",
    "                freq.append(L.count(ch))\n",
    "            print\n",
    "\n",
    "            return dict(zip(L, freq))\n",
    "            \n",
    "    def getMaxFrequencyWords(self):\n",
    "    \n",
    "        D = WebWordsFrequency.getWordsFrequency(self)\n",
    "        \n",
    "        Max = 0\n",
    "        MaxKey = []\n",
    "        for key, value in D.items():\n",
    "            if(Max < value):\n",
    "                Max = value\n",
    "                MaxKey = [key]\n",
    "            elif(max == value) :\n",
    "                 MaxKey.append(key)\n",
    "        for k in MaxKey:\n",
    "            print MaxKey ,\" : \", Max\n",
    "\n",
    "class OrderedWebWordsFrequency(WebWordsFrequency):\n",
    "    def getWordsFrequency(self):\n",
    "        D = WebWordsFrequency.getWordsFrequency(self)\n",
    "        DL = []\n",
    "        for key, value in D.items():\n",
    "            DL.append((key, value))\n",
    "            DL.sort(listCmp)\n",
    "        print DL\n",
    "            \n",
    "\n",
    "\n",
    "w1 = WebWordsFrequency('http://www.cnn.com', 'http://www.times.com', 'https://www.amazon.com') \n",
    "w2 = WebWordsFrequency('http://www.cnn.com', 'http://www.times.com')\n",
    "w3 = WebWordsFrequency('http://link.koreatech.ac.kr/?page_id=858') \n",
    "\n",
    "w1.addUrl('https://github.com')\n",
    "w3.addUrl('http://stackoverflow.com')\n",
    "\n",
    "w1.removeUrl('http://www.cnn.com')\n",
    "w3.removeUrl('http://stackoverflow.com')\n",
    "\n",
    "w1.listUrls()\n",
    "\n",
    "print w1.getWordsFrequency() \n",
    "print w3.getMaxFrequencyWords()\n",
    "\n",
    "w4 = OrderedWebWordsFrequency('http://www.times.com')\n",
    "print w4.getWordsFrequency()\n",
    "print w4.getWordsFrequency()\n"
   ]
  },
  {
   "cell_type": "markdown",
   "metadata": {},
   "source": [
    "[14번 문제]\n",
    "\n",
    "13번 문제에서 정의한 WebWordsFrequency 클래스를 상속하여 OrderedWebWordsFrequency 클래스를 정의하고 슈퍼클래스에 정의된 getWordsFrequency() 메소드를 오버라이드 하여 단어 출현 빈도를 내림 차순으로 정렬하여 리스트로 출력하시오.\n",
    "•리스트 내의 각 원소는 단어와 빈도를 쌍으로 지니는 튜플이다.\n",
    "\n",
    "•getWordFrequence() 메소드에 reverse 라는 인자를 만들고 true 또는 false를 인자로 받을 수 있도록 한다.\n",
    "◾reverse 인자의 디폴트 값은 false 이며, 기본적으로 내림차순으로 정렬한다.\n",
    "◾reverse 인자에 true를 넣으면 오름차순으로 정렬한다.\n",
    "\n",
    "\n",
    ">>> w4 = OrderedWebWordsFrequency('http://www.times.com', 'https://www.amazon.com', 'https://github.com')\n",
    "\n",
    ">>> w4.getWordsFrequency()\n",
    " [('site', 12), ('science', 11), ('hello', 8), ('world', 2), ('program', 1), ('python', 1)]\n",
    "\n",
    ">>> w4.getWordsFrequency(reverse=true)\n",
    " [('program', 1), ('python', 1), ('world', 2), ('hello', 8), ('science', 11), ('site', 12)]\n",
    "\n"
   ]
  },
  {
   "cell_type": "code",
   "execution_count": null,
   "metadata": {
    "collapsed": true
   },
   "outputs": [],
   "source": [
    "# 13번에 함께 구현하였습니다."
   ]
  },
  {
   "cell_type": "markdown",
   "metadata": {},
   "source": [
    "\n",
    "\n",
    "\n",
    "\n",
    "[15번 문제]\n",
    "\n",
    "다음과 같은 코딩이 가능하도록 OrderedWebWordsFrequency 안에 반복자와 관련된 메소드를 추가하시오.\n",
    "\n",
    "\n",
    ">>> for i in w4:\n",
    " >>>       print i\n",
    " ('site, 12)\n",
    " ('science', 11)\n",
    " ('hello', 8)\n",
    " ('world', 2)\n",
    " ('program', 1)\n",
    " ('python', 1)\n"
   ]
  },
  {
   "cell_type": "code",
   "execution_count": null,
   "metadata": {
    "collapsed": true
   },
   "outputs": [],
   "source": [
    "# 13번 참조"
   ]
  }
 ],
 "metadata": {
  "kernelspec": {
   "display_name": "Python 2",
   "language": "python",
   "name": "python2"
  },
  "language_info": {
   "codemirror_mode": {
    "name": "ipython",
    "version": 2
   },
   "file_extension": ".py",
   "mimetype": "text/x-python",
   "name": "python",
   "nbconvert_exporter": "python",
   "pygments_lexer": "ipython2",
   "version": "2.7.10"
  }
 },
 "nbformat": 4,
 "nbformat_minor": 0
}
