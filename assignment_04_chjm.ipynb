{
 "cells": [
  {
   "cell_type": "markdown",
   "metadata": {},
   "source": [
    "[1번 문제]\n",
    "파일 s.txt 내의 다음 내용과 함께 아래 문제의 코드를 제시하시오.\n",
    "\n",
    "pig ham\n",
    "cat dog\n",
    "ham bird\n",
    "dog pig"
   ]
  },
  {
   "cell_type": "code",
   "execution_count": 1,
   "metadata": {
    "collapsed": false
   },
   "outputs": [
    {
     "name": "stdout",
     "output_type": "stream",
     "text": [
      "pig ham\n",
      "cat dog\n",
      "ham bird\n",
      "dog pig\n",
      "\n",
      "1-1번 각 라인의 단어 기준으로\n",
      "cat dog\n",
      "dog pig\n",
      "ham bird\n",
      "pig ham\n",
      "\n"
     ]
    }
   ],
   "source": [
    "s='''pig ham\n",
    "cat dog\n",
    "ham bird\n",
    "dog pig\n",
    "'''\n",
    "f=open('s.txt','w')\n",
    "f.write(s)\n",
    "f.close()\n",
    "# s.txt 먼저 생성\n",
    "\n",
    "f=open('s.txt','r')\n",
    "L=f.read()\n",
    "print L\n",
    "f.close()\n",
    "\n",
    "# 1-1)\n",
    "print \"1-1번 각 라인의 단어 기준으로\"\n",
    "f=open('s.txt','r')\n",
    "L=f.readlines()\n",
    "f.close()\n",
    "\n",
    "L.sort()\n",
    "f=open('s1.txt','w')\n",
    "for x in L :\n",
    "    f.write(x)\n",
    "f.close()\n",
    "\n",
    "f=open('s1.txt','r')\n",
    "L=f.read()\n",
    "print L\n",
    "f.close()\n",
    "\n"
   ]
  },
  {
   "cell_type": "markdown",
   "metadata": {},
   "source": [
    " - 1) 파일 s.txt을 읽어서 각 라인에 있는 첫 번째 단어(문자열) 자체들을 기준으로 라인별 정렬후 파일 s1.txt에 그 결과를 기록하는 코드를 작성하시오. 즉, 프로그램 수행 후 s1.txt에 있는 파일 내용은 다음과 같다.\n",
    "\n",
    "cat dog\n",
    "dog pig\n",
    "ham bird\n",
    "pig ham"
   ]
  },
  {
   "cell_type": "code",
   "execution_count": 2,
   "metadata": {
    "collapsed": false
   },
   "outputs": [
    {
     "name": "stdout",
     "output_type": "stream",
     "text": [
      "ham bird\n",
      "cat dog\n",
      "pig ham\n",
      "dog pig\n",
      "\n"
     ]
    }
   ],
   "source": [
    "# 1-2)\n",
    "def secn(s):\n",
    "    s = s.split()\n",
    "    return s[1]\n",
    "\n",
    "f=open('s.txt','r')\n",
    "L=f.readlines()\n",
    "f.close()\n",
    "\n",
    "f=open('s2.txt','w')\n",
    "sortedL = sorted(L, key = secn)\n",
    "for x in sortedL :\n",
    "    f.write(x)\n",
    "f.close()\n",
    "\n",
    "f=open('s2.txt','r')\n",
    "L=f.read()\n",
    "print L\n",
    "f.close()"
   ]
  },
  {
   "cell_type": "markdown",
   "metadata": {},
   "source": [
    " - 2) 파일 s.txt을 읽어서 각 라인에 있는 두 번째 단어(문자열) 자체들을 기준으로 라인별 정렬후 파일 s2.txt에 그 결과를 기록하는 코드를 작성하시오. 즉, 프로그램 수행 후 s2.txt에 있는 파일 내용은 다음과 같다.\n",
    "\n",
    "ham bird\n",
    "cat dog\n",
    "pig ham\n",
    "dog pig"
   ]
  },
  {
   "cell_type": "code",
   "execution_count": 3,
   "metadata": {
    "collapsed": false
   },
   "outputs": [
    {
     "name": "stdout",
     "output_type": "stream",
     "text": [
      "pig ham cat \n",
      "dog ham bird \n",
      "dog pig \n"
     ]
    }
   ],
   "source": [
    "# 1-3\n",
    "f=open('s.txt','r')\n",
    "L=f.read()\n",
    "f.close()\n",
    "\n",
    "L = L.split()\n",
    "\n",
    "f=open('s2.txt','w')\n",
    "i = 0\n",
    "for x in L :\n",
    "    f.write(x + ' ')\n",
    "    i += 1\n",
    "    if i % 3 == 0 :\n",
    "        f.write('\\n')\n",
    "f.close()\n",
    "#for x in L :\n",
    "#f.write(x)\n",
    "#f.close()\n",
    "\n",
    "f=open('s2.txt','r')\n",
    "L=f.read()\n",
    "print L\n",
    "f.close()"
   ]
  },
  {
   "cell_type": "markdown",
   "metadata": {},
   "source": [
    " - 3) 파일 s.txt을 읽어서 각 라인들에 있는 모든 단어들을 순차적으로 다시 나열하되 각 라인에 세 개의 단어들이 오도록 하여 s3.txt에 기록하는 코드를 작성하시오. 즉, 프로그램 수행 후 s3.txt에 있는 파일 내용은 다음과 같다.\n",
    "\n",
    "pig ham cat\n",
    "dog ham bird\n",
    "dog pig"
   ]
  },
  {
   "cell_type": "markdown",
   "metadata": {},
   "source": [
    "[2번 문제]\n",
    "다음과 같은 조건들을 참고하여 회원 가입 및 로그인 프로그램을 작성하시오.\n",
    "\n",
    "1) 프로그램 시작 후 다음과 같은 메시지가 출력되어 1, 2, 3 중 하나의 값을 입력 받도록 한다.\n",
    "Welcome to Our Service\n",
    "\n",
    "Sign Up\n",
    "Sign In\n",
    "Quit\n",
    "\n",
    "2) 1을 선택하면 ID, Password, Name, School의 4가지 정보를 입력받아 파일에 저장하는 프로그램을 작성한다.\n",
    "2-1) 입력된 내용은 access.txt 라는 이름의 텍스트 파일 내에 저장된다.\n",
    "2-2) access.txt 파일의 각 라인에는 가입된 회원 각각의 정보가 \"[id]: [password], [name], [school]\" 형태로 저장된다.\n",
    "2-3) 즉, 가입 회원이 10명이면 access.txt 파일 내에 라인 수도 정확히 10개이다.\n",
    "2-4) 암호화 방식은 sha 모듈을 활용한다. sha 모듈 활용 방법은 본 문제의 마지막에 제시된 sha 활용 예를 참고한다.\n",
    "즉, access.txt 파일 내에 password 정보는 암호화 되어 저장되어야 한다.\n",
    "2-5) 회원 정보를 입력 받을 때 id를 입력 받은 직후 access.txt를 확인하여 이미 존재하는 id가 입력되었다면 다음 메시지를 출력하고 id 정보를 다시 입력받는다.\n",
    "Sorry, the entered ID is already used.\n",
    "3) 2를 선택하면 ID, Password의 2가지 정보를 입력받는 프로그램을 작성한다.\n",
    "3-1) 입력된 ID 정보가 access.txt에 존재하지 않으면 다음과 같은 메시지를 출력하고 다시 입력받는다.\n",
    "Sorry, you are not a registered member.\n",
    "3-2) 입력된 ID가 올바르게 존재하지만 Password 정보가 access.txt 파일에 있는 정보와 불일치하면 다음과 같은 메시지를 출력하고 Password를 다시 입력받는다.\n",
    "Sorry, the entered password is not correct.\n",
    "이 때에도 사용자가 입력한 Password 정보와 함께 sha 모듈이 활용되어야 한다.\n",
    "3-3) 입력된 ID와 Password가 모두 올바르면 다음과 같은 메시지를 출력한다.\n",
    "Hello [name]!\n",
    "위 [name]에는 access.txt에 기록되어 있는 name 정보를 출력한다.\n",
    "4) 3을 선택하면 프로그램이 끝난다.\n",
    "[참고] sha 모듈 활용 예"
   ]
  },
  {
   "cell_type": "code",
   "execution_count": 10,
   "metadata": {
    "collapsed": false
   },
   "outputs": [
    {
     "name": "stdout",
     "output_type": "stream",
     "text": [
      "Welcome to Our Service\n",
      "\n",
      "1. Sign Up\n",
      "2. Sign In\n",
      "3. Quit\n",
      "select menu:1\n",
      "Id: id3\n",
      "Password: 1234\n",
      "Name: name\n",
      "School: kut\n",
      "Welcome to Our Service\n",
      "\n",
      "1. Sign Up\n",
      "2. Sign In\n",
      "3. Quit\n",
      "select menu:4\n",
      "wrong input\n",
      "Welcome to Our Service\n",
      "\n",
      "1. Sign Up\n",
      "2. Sign In\n",
      "3. Quit\n",
      "select menu:2\n",
      "Id: id3\n",
      "Password: 1\n",
      "Sorry, the entered password is not correct.\n",
      "Password: 1234\n",
      "\n",
      "Hello [name]!\n",
      "\n",
      "Welcome to Our Service\n",
      "\n",
      "1. Sign Up\n",
      "2. Sign In\n",
      "3. Quit\n",
      "select menu:2\n",
      "Id: id2\n",
      "Password: 1231\n",
      "\n",
      "Hello [n2]!\n",
      "\n",
      "Welcome to Our Service\n",
      "\n",
      "1. Sign Up\n",
      "2. Sign In\n",
      "3. Quit\n",
      "select menu:2\n",
      "Id: id22\n",
      "Sorry, you are not a registered member\n",
      "Id: id1\n",
      "Password: pass2\n",
      "\n",
      "Hello [name1]!\n",
      "\n",
      "Welcome to Our Service\n",
      "\n",
      "1. Sign Up\n",
      "2. Sign In\n",
      "3. Quit\n",
      "select menu:3\n",
      "Bye!\n"
     ]
    }
   ],
   "source": [
    "import sha\n",
    "\n",
    "try : \n",
    "    f = open('access.txt', 'r')\n",
    "    f.close()\n",
    "except :\n",
    "    f = open('access.txt', 'w+')\n",
    "    f.close(\n",
    "    )\n",
    "def menu():\n",
    "    print 'Welcome to Our Service'\n",
    "    print\n",
    "    print '1. Sign Up'\n",
    "    print '2. Sign In'\n",
    "    print '3. Quit'\n",
    "\n",
    "    return input('select menu:')\n",
    "        \n",
    "def up():\n",
    "    f = open('access.txt','a')\n",
    "    pp=0\n",
    "    while pp == 0: \n",
    "        pp=1\n",
    "        id1 = raw_input(\"Id: \")\n",
    "        f = open('access.txt') \n",
    "        a=''\n",
    "        b=[]\n",
    "        for line in f:\n",
    "            a=line\n",
    "            b.append(a.split(':'))#리스트안의 리스트\n",
    "\n",
    "        for x in range(len(b)):\n",
    "            if(b[x][0] == id1): #[id]: [password], [name], [school] 이므로 b[x][0]이 id\n",
    "                print \"Sorry, the entered ID is already used\"\n",
    "                pp=0\n",
    "        f.close()\n",
    "        if(pp==1): \n",
    "            f = open('access.txt','a')   \n",
    "            f.write(id1)\n",
    "            f.write(':')\n",
    "            f.close()\n",
    "\n",
    "    \n",
    "    f = open('access.txt','a')  \n",
    "    pw = raw_input(\"Password: \")\n",
    "    pw2 = sha.new(pw).hexdigest()\n",
    "    f.write(pw2)\n",
    "    f.write(',')\n",
    "    f.close()\n",
    "     \n",
    "    f = open('access.txt','a') \n",
    "    name = raw_input(\"Name: \")\n",
    "    f.write(name)\n",
    "    f.write(',')\n",
    "    f.close()\n",
    "    \n",
    "    f = open('access.txt','a')\n",
    "    sch = raw_input(\"School: \")\n",
    "    f.write(sch)\n",
    "    f.write('\\n')\n",
    "    f.close()\n",
    "\n",
    "def signin():\n",
    "    f = open('access.txt')\n",
    "    a=''\n",
    "    b=[]\n",
    "    c=[]\n",
    "    for line in f:\n",
    "        a=line\n",
    "        b.append(a.split(':'))#리스트안의 리스트\n",
    "\n",
    "    for x in range(len(b)):\n",
    "        c.append(b[x][1].split(','))\n",
    "        \n",
    "        \n",
    "    pp=0\n",
    "    while pp == 0: \n",
    "        pp=1\n",
    "        id1 = raw_input(\"Id: \") \n",
    "        for x in range(len(b)):\n",
    "            if(b[x][0] == id1):\n",
    "                pp=1\n",
    "                break\n",
    "            else:\n",
    "                pp=0\n",
    "        if(pp==0):\n",
    "            print 'Sorry, you are not a registered member'\n",
    "\n",
    "    \n",
    "    \n",
    "    qq=0      \n",
    "    while qq == 0: \n",
    "        qq=1                \n",
    "        pw = raw_input(\"Password: \")\n",
    "        pw2 = sha.new(pw).hexdigest()\n",
    "        \n",
    "        if(c[x][0] == pw2):\n",
    "            qq=1\n",
    "            break\n",
    "        else:\n",
    "            qq=0\n",
    "        if(qq==0):\n",
    "            print \"Sorry, the entered password is not correct.\"\n",
    "    print \n",
    "    print 'Hello [%s]!' % (c[x][1])\n",
    "    print \n",
    "\n",
    "\n",
    "\n",
    "while(1):\n",
    "    ch = menu()\n",
    "    if ch == 1:\n",
    "        up()\n",
    "    elif ch == 2:\n",
    "        signin()\n",
    "    elif ch== 3:\n",
    "        print \"Bye!\"\n",
    "        break\n",
    "    else:\n",
    "        print \"wrong input\"\n",
    "        \n"
   ]
  },
  {
   "cell_type": "markdown",
   "metadata": {},
   "source": [
    "[3번 문제]\n",
    "range() 함수와 유사한 frange() 함수를 다음 조건을 참고하여 만드시오.\n",
    "1) frange()의 인자 구성은 다음과 같이 range와 동일하지만 각 인수들은 음수를 받지 않는다고 가정한다.\n",
    "range(stop)\n",
    "range(start, stop[, step])\n",
    "2) frange() 함수의 인자에 대한 기본 시작(start) 값은 0.0이고, 기본 단계(step) 값은 0.1이다.\n",
    "3) frange 사용 예\n",
    "3-1) frange(0.5)\n",
    "[0.0, 0.1, 0.2, 0.3, 0.4]\n",
    "3-2) frange(1.0, 2.0)\n",
    "[1.0, 1.1, 1.2, 1.3, 1.4, 1.5, 1.6, 1.7, 1.8, 1.9]\n",
    "3-3) frange(2.2, 4.0, 0.5)\n",
    "[2.2, 2.7, 3.2, 3.7]"
   ]
  },
  {
   "cell_type": "code",
   "execution_count": 4,
   "metadata": {
    "collapsed": false
   },
   "outputs": [
    {
     "name": "stdout",
     "output_type": "stream",
     "text": [
      "0.0 0.1 0.2 0.3 0.4 0.5\n",
      "1.0 1.1 1.2 1.3 1.4 1.5 1.6 1.7 1.8 1.9\n",
      "2.2 2.7 3.2 3.7\n"
     ]
    }
   ],
   "source": [
    "def frange(start, stop=0.0, step=0.1):\n",
    "    if stop == 0.0:\n",
    "        stop = start + 0.0\n",
    "        start = 0.0\n",
    "\n",
    "    \n",
    "    while 1:\n",
    "        if(start <= stop):\n",
    "            print start,\n",
    "            start+=step\n",
    "        else:\n",
    "            break\n",
    "    print\n",
    "            \n",
    "frange(0.5)\n",
    "frange(1.0,2.0)\n",
    "frange(2.2,4.0,0.5)\n",
    "    \n",
    "# 기본 시작값이 없을 경우 0.0을 기본값으로 하라는 것은, \n",
    "# frange(n)의 경우인데, 이때. stop 인자의 자리가 0.0이기 때문에 \n",
    "#이것을 이용하여 start =0.0이 되도록 if문을 사용하였다"
   ]
  },
  {
   "cell_type": "markdown",
   "metadata": {},
   "source": [
    "[4번 문제]\n",
    "가변인수를 받는 함수 sum()을 다음과 같은 조건을 참고하여 구현하시오\n",
    "sum() 사용 예\n",
    "sum()\n",
    "0\n",
    "sum(1, 2)\n",
    "3\n",
    "sum(1, 2, 3, 4, 5)\n",
    "15\n",
    "sum(1, 5, 7, 2, -10)\n",
    "5"
   ]
  },
  {
   "cell_type": "code",
   "execution_count": 5,
   "metadata": {
    "collapsed": false
   },
   "outputs": [
    {
     "name": "stdout",
     "output_type": "stream",
     "text": [
      "1\n",
      "3\n",
      "15\n",
      "5\n"
     ]
    }
   ],
   "source": [
    "def sum(n, *arg):\n",
    "    result = n\n",
    "    \n",
    "    for x in arg :\n",
    "        result += x\n",
    "    \n",
    "    print result\n",
    "\n",
    "sum(1)\n",
    "sum(1, 2)\n",
    "sum(1, 2, 3, 4, 5)\n",
    "sum(1, 5, 7, 2, -10)\n",
    "\n",
    "## n에 해당하는 수는 결과로 바로 받고, *arg에 다른 숫자들이 들어가 모두 더해주도록 하였다."
   ]
  },
  {
   "cell_type": "markdown",
   "metadata": {},
   "source": [
    "[5번 문제]\n",
    "여러 단어로 이루어진 문자열을 입력받아 각 단어의 첫글자로 이루어진 단어를 대문자로 출력하는 myinitial() 함수를 다음 조건을 참고하여 작성하시오.\n",
    "\n",
    "1) 다음에 제시되는 함수들을 모두 이용해야 한다.\n",
    "split\n",
    "map\n",
    "join\n",
    "\n",
    "2) myinitial() 함수 사용 예\n",
    "myinitial(\"as soon as possible\")\n",
    "ASAP"
   ]
  },
  {
   "cell_type": "code",
   "execution_count": 6,
   "metadata": {
    "collapsed": false
   },
   "outputs": [
    {
     "name": "stdout",
     "output_type": "stream",
     "text": [
      "ASAP\n"
     ]
    }
   ],
   "source": [
    "def Upper(word) :\n",
    "    lowerToUpper = word.upper()\n",
    "    return lowerToUpper\n",
    "\n",
    "def myinitial(string) :\n",
    "    tmp = string.split(' ') # 입력된 문자열을 ' '단위로 자름\n",
    "    \n",
    "    wordList = []\n",
    "    for x in range(len(tmp)) : # 단어 갯수만큼 for문\n",
    "        wordList.append(tmp[x][0]) # tmp의 각 단어의 첫자리\n",
    "\n",
    "    tmpWord = map(Upper, wordList) #map이용 대문자로\n",
    "    word = ''.join(tmpWord) #대문자 연결\n",
    "    \n",
    "    print word\n",
    "\n",
    "myinitial('as soon as possible')"
   ]
  },
  {
   "cell_type": "markdown",
   "metadata": {},
   "source": [
    "[6번 문제]\n",
    "음이 아닌 정수 n를 입력받으면 n! (factorial)을 계산하는 myfact() 함수를 재귀적 함수로 구현하시오."
   ]
  },
  {
   "cell_type": "code",
   "execution_count": 7,
   "metadata": {
    "collapsed": false
   },
   "outputs": [
    {
     "name": "stdout",
     "output_type": "stream",
     "text": [
      "3628800\n"
     ]
    }
   ],
   "source": [
    "def myfact(n):\n",
    "    if n<1:\n",
    "        return 0\n",
    "    elif n==1:\n",
    "        return 1\n",
    "    else:\n",
    "        return n*myfact(n-1)\n",
    "\n",
    "print myfact(10)"
   ]
  },
  {
   "cell_type": "code",
   "execution_count": null,
   "metadata": {
    "collapsed": false
   },
   "outputs": [],
   "source": []
  },
  {
   "cell_type": "markdown",
   "metadata": {},
   "source": [
    "[7번 문제]\n",
    "(서술형) import string 과 from string import * 의 차이점을 설명하시오."
   ]
  },
  {
   "cell_type": "markdown",
   "metadata": {
    "collapsed": true
   },
   "source": [
    "import string의 경우 해당 모듈에 존재하는 모든 이름들을 현재 이름 공간으로 불러들인다.\n",
    "from string import * 의 경우 해당 모듈에 존재하는 '__'로 시작되는 이름들을 제외한 모든 이름들을 현재 이름 공간으로 불러들인다."
   ]
  },
  {
   "cell_type": "markdown",
   "metadata": {},
   "source": [
    "[8번 문제]\n",
    "프로젝트 오일러 문제 10"
   ]
  },
  {
   "cell_type": "code",
   "execution_count": 8,
   "metadata": {
    "collapsed": false
   },
   "outputs": [
    {
     "name": "stdout",
     "output_type": "stream",
     "text": [
      "10 17\n",
      "76127\n"
     ]
    }
   ],
   "source": [
    "def prn(n):\n",
    "    check = 0 \n",
    "    if n % 2 == 0 : \n",
    "        if n == 2: return True\n",
    "        else:    return False\n",
    "    for i in range(3, n+1, 2):\n",
    "        if n % i == 0:\n",
    "            check += 1\n",
    "    if check == 1:\n",
    "        return True\n",
    "    \n",
    "sum = 0\n",
    "for x in range(1, 11) :\n",
    "    if prn(x) :\n",
    "        sum += x\n",
    "print 10, sum\n",
    "\n",
    "sum = 0\n",
    "for x in range(1, 1001) :\n",
    "    if prn(x) :\n",
    "        sum += x\n",
    "print sum\n",
    "\n",
    "#이전 과제의 소수 부분을 가져와서 작성하였습니다."
   ]
  },
  {
   "cell_type": "markdown",
   "metadata": {},
   "source": [
    "[9번 문제]\n",
    "프로젝트 오일러 문제 11"
   ]
  },
  {
   "cell_type": "code",
   "execution_count": 35,
   "metadata": {
    "collapsed": false
   },
   "outputs": [
    {
     "name": "stdout",
     "output_type": "stream",
     "text": [
      "70600674\n"
     ]
    }
   ],
   "source": [
    "num = \"\"\" 08 02 22 97 38 15 00 40 00 75 04 05 07 78 52 12 50 77 91 08\n",
    " 49 49 99 40 17 81 18 57 60 87 17 40 98 43 69 48 04 56 62 00\n",
    " 81 49 31 73 55 79 14 29 93 71 40 67 53 88 30 03 49 13 36 65\n",
    " 52 70 95 23 04 60 11 42 69 24 68 56 01 32 56 71 37 02 36 91\n",
    " 22 31 16 71 51 67 63 89 41 92 36 54 22 40 40 28 66 33 13 80\n",
    " 24 47 32 60 99 03 45 02 44 75 33 53 78 36 84 20 35 17 12 50\n",
    " 32 98 81 28 64 23 67 10 26 38 40 67 59 54 70 66 18 38 64 70\n",
    " 67 26 20 68 02 62 12 20 95 63 94 39 63 08 40 91 66 49 94 21\n",
    " 24 55 58 05 66 73 99 26 97 17 78 78 96 83 14 88 34 89 63 72\n",
    " 21 36 23 09 75 00 76 44 20 45 35 14 00 61 33 97 34 31 33 95\n",
    " 78 17 53 28 22 75 31 67 15 94 03 80 04 62 16 14 09 53 56 92\n",
    " 16 39 05 42 96 35 31 47 55 58 88 24 00 17 54 24 36 29 85 57\n",
    " 86 56 00 48 35 71 89 07 05 44 44 37 44 60 21 58 51 54 17 58\n",
    " 19 80 81 68 05 94 47 69 28 73 92 13 86 52 17 77 04 89 55 40\n",
    " 04 52 08 83 97 35 99 16 07 97 57 32 16 26 26 79 33 27 98 66\n",
    " 88 36 68 87 57 62 20 72 03 46 33 67 46 55 12 32 63 93 53 69\n",
    " 04 42 16 73 38 25 39 11 24 94 72 18 08 46 29 32 40 62 76 36\n",
    " 20 69 36 41 72 30 23 88 34 62 99 69 82 67 59 85 74 04 36 16\n",
    " 20 73 35 29 78 31 90 01 74 31 49 71 48 86 81 16 23 57 05 54\n",
    " 01 70 54 71 83 51 54 69 16 92 33 48 61 43 52 01 89 19 67 48\"\"\"\n",
    "\n",
    "listnum = num.split('\\n') #줄별로\n",
    "listnum2=[]\n",
    "for x in listnum: #리스트안의 리스트만들기\n",
    "    listnum2.append(x.split())\n",
    "result = 0\n",
    "temp = 0\n",
    "\n",
    "for x in range(17):#수평\n",
    "    for y in range(20):\n",
    "        temp = int(listnum2[x][y])*int(listnum2[x+1][y])*int(listnum2[x+2][y])*int(listnum2[x+3][y])\n",
    "        if(result < temp) : result = temp\n",
    "\n",
    "for x in range(20):#수직\n",
    "    for y in range(17):\n",
    "        temp = int(listnum2[x][y])*int(listnum2[x][y+1])*int(listnum2[x][y+2])*int(listnum2[x][y+3])\n",
    "        if(result < temp) : result = temp\n",
    "            \n",
    "for x in range(17): #대각선1\n",
    "    for y in range(17):\n",
    "        temp = int(listnum2[x][y])*int(listnum2[x+1][y+1])*int(listnum2[x+2][y+2])*int(listnum2[x+3][y+3])\n",
    "        if(result < temp) : result = temp\n",
    "            \n",
    "for x in range(17): #대각선2\n",
    "    for y in range(2, 20):\n",
    "        temp = int(listnum2[x][y])*int(listnum2[x+1][y-1])*int(listnum2[x+2][y-2])*int(listnum2[x+3][y-3])\n",
    "        if(result < temp) : result = temp\n",
    "            \n",
    "print result"
   ]
  },
  {
   "cell_type": "markdown",
   "metadata": {},
   "source": [
    "[10번 문제]\n",
    "프로젝트 오일러 문제 12"
   ]
  },
  {
   "cell_type": "code",
   "execution_count": 3,
   "metadata": {
    "collapsed": false
   },
   "outputs": [
    {
     "name": "stdout",
     "output_type": "stream",
     "text": [
      "5\n",
      "28\n",
      "73920\n"
     ]
    }
   ],
   "source": [
    "def TriNum(n) : #삼각수\n",
    "    if n<1:\n",
    "        return 0\n",
    "    elif n==1:\n",
    "        return 1\n",
    "    else:\n",
    "        return n+TriNum(n-1)\n",
    "\n",
    "def divNum(n) : #약수\n",
    "    #listD = []\n",
    "    count = 0\n",
    "    for i in range(1, n):\n",
    "        if n % i == 0:\n",
    "            # istD.append(i) #약수가 리스트로. 이번과제에선 사용하지 않지만 혹시몰라서..\n",
    "            count += 1\n",
    "    return count\n",
    "\n",
    "print divNum(TriNum(7))\n",
    "\n",
    "n= 0\n",
    "while divNum(TriNum(n)) < 5:\n",
    "    n+=1\n",
    "    \n",
    "print TriNum(n)\n",
    "\n",
    "while divNum(TriNum(n)) < 100:\n",
    "    n+=1\n",
    "    \n",
    "print TriNum(n)\n",
    "\n"
   ]
  },
  {
   "cell_type": "markdown",
   "metadata": {},
   "source": [
    "[11번 문제]\n",
    "프로젝트 오일러 문제 13"
   ]
  },
  {
   "cell_type": "code",
   "execution_count": 15,
   "metadata": {
    "collapsed": false
   },
   "outputs": [
    {
     "data": {
      "text/plain": [
       "'5537376230'"
      ]
     },
     "execution_count": 15,
     "metadata": {},
     "output_type": "execute_result"
    }
   ],
   "source": [
    "num = \"\"\"37107287533902102798797998220837590246510135740250\n",
    "46376937677490009712648124896970078050417018260538\n",
    "74324986199524741059474233309513058123726617309629\n",
    "91942213363574161572522430563301811072406154908250\n",
    "23067588207539346171171980310421047513778063246676\n",
    "89261670696623633820136378418383684178734361726757\n",
    "28112879812849979408065481931592621691275889832738\n",
    "44274228917432520321923589422876796487670272189318\n",
    "47451445736001306439091167216856844588711603153276\n",
    "70386486105843025439939619828917593665686757934951\n",
    "62176457141856560629502157223196586755079324193331\n",
    "64906352462741904929101432445813822663347944758178\n",
    "92575867718337217661963751590579239728245598838407\n",
    "58203565325359399008402633568948830189458628227828\n",
    "80181199384826282014278194139940567587151170094390\n",
    "35398664372827112653829987240784473053190104293586\n",
    "86515506006295864861532075273371959191420517255829\n",
    "71693888707715466499115593487603532921714970056938\n",
    "54370070576826684624621495650076471787294438377604\n",
    "53282654108756828443191190634694037855217779295145\n",
    "36123272525000296071075082563815656710885258350721\n",
    "45876576172410976447339110607218265236877223636045\n",
    "17423706905851860660448207621209813287860733969412\n",
    "81142660418086830619328460811191061556940512689692\n",
    "51934325451728388641918047049293215058642563049483\n",
    "62467221648435076201727918039944693004732956340691\n",
    "15732444386908125794514089057706229429197107928209\n",
    "55037687525678773091862540744969844508330393682126\n",
    "18336384825330154686196124348767681297534375946515\n",
    "80386287592878490201521685554828717201219257766954\n",
    "78182833757993103614740356856449095527097864797581\n",
    "16726320100436897842553539920931837441497806860984\n",
    "48403098129077791799088218795327364475675590848030\n",
    "87086987551392711854517078544161852424320693150332\n",
    "59959406895756536782107074926966537676326235447210\n",
    "69793950679652694742597709739166693763042633987085\n",
    "41052684708299085211399427365734116182760315001271\n",
    "65378607361501080857009149939512557028198746004375\n",
    "35829035317434717326932123578154982629742552737307\n",
    "94953759765105305946966067683156574377167401875275\n",
    "88902802571733229619176668713819931811048770190271\n",
    "25267680276078003013678680992525463401061632866526\n",
    "36270218540497705585629946580636237993140746255962\n",
    "24074486908231174977792365466257246923322810917141\n",
    "91430288197103288597806669760892938638285025333403\n",
    "34413065578016127815921815005561868836468420090470\n",
    "23053081172816430487623791969842487255036638784583\n",
    "11487696932154902810424020138335124462181441773470\n",
    "63783299490636259666498587618221225225512486764533\n",
    "67720186971698544312419572409913959008952310058822\n",
    "95548255300263520781532296796249481641953868218774\n",
    "76085327132285723110424803456124867697064507995236\n",
    "37774242535411291684276865538926205024910326572967\n",
    "23701913275725675285653248258265463092207058596522\n",
    "29798860272258331913126375147341994889534765745501\n",
    "18495701454879288984856827726077713721403798879715\n",
    "38298203783031473527721580348144513491373226651381\n",
    "34829543829199918180278916522431027392251122869539\n",
    "40957953066405232632538044100059654939159879593635\n",
    "29746152185502371307642255121183693803580388584903\n",
    "41698116222072977186158236678424689157993532961922\n",
    "62467957194401269043877107275048102390895523597457\n",
    "23189706772547915061505504953922979530901129967519\n",
    "86188088225875314529584099251203829009407770775672\n",
    "11306739708304724483816533873502340845647058077308\n",
    "82959174767140363198008187129011875491310547126581\n",
    "97623331044818386269515456334926366572897563400500\n",
    "42846280183517070527831839425882145521227251250327\n",
    "55121603546981200581762165212827652751691296897789\n",
    "32238195734329339946437501907836945765883352399886\n",
    "75506164965184775180738168837861091527357929701337\n",
    "62177842752192623401942399639168044983993173312731\n",
    "32924185707147349566916674687634660915035914677504\n",
    "99518671430235219628894890102423325116913619626622\n",
    "73267460800591547471830798392868535206946944540724\n",
    "76841822524674417161514036427982273348055556214818\n",
    "97142617910342598647204516893989422179826088076852\n",
    "87783646182799346313767754307809363333018982642090\n",
    "10848802521674670883215120185883543223812876952786\n",
    "71329612474782464538636993009049310363619763878039\n",
    "62184073572399794223406235393808339651327408011116\n",
    "66627891981488087797941876876144230030984490851411\n",
    "60661826293682836764744779239180335110989069790714\n",
    "85786944089552990653640447425576083659976645795096\n",
    "66024396409905389607120198219976047599490197230297\n",
    "64913982680032973156037120041377903785566085089252\n",
    "16730939319872750275468906903707539413042652315011\n",
    "94809377245048795150954100921645863754710598436791\n",
    "78639167021187492431995700641917969777599028300699\n",
    "15368713711936614952811305876380278410754449733078\n",
    "40789923115535562561142322423255033685442488917353\n",
    "44889911501440648020369068063960672322193204149535\n",
    "41503128880339536053299340368006977710650566631954\n",
    "81234880673210146739058568557934581403627822703280\n",
    "82616570773948327592232845941706525094512325230608\n",
    "22918802058777319719839450180888072429661980811197\n",
    "77158542502016545090413245809786882778948721859617\n",
    "72107838435069186155435662884062257473692284509516\n",
    "20849603980134001723930671666823555245252804609722\n",
    "53503534226472524250874054075591789781264330331690\"\"\"\n",
    "\n",
    "List = num.split('\\n') #숫자가 다행히 50개씩 있었다.\n",
    "Sum = 0\n",
    "for n in range(len(List)) :\n",
    "    Sum += int(List[n])\n",
    "str(Sum)[:10]"
   ]
  },
  {
   "cell_type": "markdown",
   "metadata": {},
   "source": [
    "12번 문제]\n",
    "프로젝트 오일러 문제 14"
   ]
  },
  {
   "cell_type": "code",
   "execution_count": 25,
   "metadata": {
    "collapsed": false,
    "scrolled": true
   },
   "outputs": [
    {
     "name": "stdout",
     "output_type": "stream",
     "text": [
      "10\n",
      "837799\n"
     ]
    }
   ],
   "source": [
    "def cnt(n):\n",
    "    step = 1 # 시작수도 과정에 넣는듯 하다. \n",
    "    while n > 1:\n",
    "        if n % 2==0: n = n/2\n",
    "        else: n = 3*n+1\n",
    "        step += 1\n",
    "    return step\n",
    "\n",
    "print cnt(13)\n",
    "n = 1\n",
    "most = 0\n",
    "m = 0\n",
    "while n <= 1000000:\n",
    "    if most < cnt(n):\n",
    "        most = cnt(n)\n",
    "        m = n\n",
    "    n+=1\n",
    "\n",
    "print m"
   ]
  },
  {
   "cell_type": "markdown",
   "metadata": {},
   "source": [
    "[13번 문제]\n",
    "프로젝트 오일러 문제 15"
   ]
  },
  {
   "cell_type": "code",
   "execution_count": 30,
   "metadata": {
    "collapsed": false
   },
   "outputs": [
    {
     "name": "stdout",
     "output_type": "stream",
     "text": [
      "35\n",
      "137846528820\n"
     ]
    }
   ],
   "source": [
    "def cross(n1,n2) : #격자무늬 경로수 구하기\n",
    "    # 격자무늬 최단 경로는 한 블록을 1로 하였을떼, a*B일때, (a+b)! /(a!*b!)이다.\n",
    "    #위의 문제인 myfact()참고\n",
    "    return myfact(n1+n2)/(myfact(n1)*myfact(n2))\n",
    "\n",
    "print cross(3,4)\n",
    "print cross(20,20)"
   ]
  },
  {
   "cell_type": "markdown",
   "metadata": {},
   "source": [
    "[14번 문제]¶\n",
    "이전 Assignment 3의 마지막 문제는 웹 URL로 지정된 웹페이지를 문자열로 가져와 모든 HTML 태그 및 CSS와 Javascript를 제외한 순수 텍스트를 얻어내고 그 안에 존재하는 단어를 추출하여 각 단어들에 대해 출현빈도를 사전형태({'world': 2, 'hello': 1, 'python': 1})로 저장하여 출력하는 것이었다. 이번에는 Assignment 3를 확장하여 다음과 같은 조건을 만족하도록 구현하시오\n",
    "\n",
    "1) 다음 사이트에서 제시되는 영어 불용어를 참고하여 이전 숙제에서 구성했던 단어 사전에서 영어 불용어들을 모두 제거하는 코드를 추가하시오.\n",
    "http://egloos.zum.com/wyb330/v/3029348\n",
    "영어 불용어: [ 'a', 'and', 'are', 'as', 'at', 'be', 'but', 'by', 'for', 'if', 'in', 'into', 'is', 'it', 'no', 'not', 'of', 'on', 'or', 's', 'such', 't', 'that', 'the', 'their', 'then', 'there', 'these', 'they', 'this', 'to', 'was', 'will', 'with']\n",
    "\n",
    "2) 각 URL로 지정된 웹페이지의 HTML 소스를 파일로 저장하시오.\n",
    "URL이 http://URL 이라면 파일명은 URL.html 이다.\n",
    "예: URL이 http://www.cnn.com 이라면 파일명은 www.cnn.com.html 이다.\n",
    "\n",
    "3) 단어의 출현빈도가 담긴 사전 객체를 위 HTML 소스 파일과 동일한 폴더에 파일로 저장하시오.\n",
    "파일입출력 (E-learning 13주차) 마지막에 학습한 pickle 모듈을 활용하시오.\n",
    "URL이 http://URL 이라면 사전 객체를 담고 있는 파일명은 URL.words.frequency 이다.\n",
    "예: URL이 http://www.cnn.com 이라면 파일명은 www.cnn.com.words.frequency 이다.\n",
    "\n",
    "4) 최소 5개 이상의 영어 웹 사이트에 대한 HTML 소스 파일과 단어 출현빈도 파일을 저장하시오.\n",
    "즉, 총 10개의 파일을 동일한 폴더에 생성하시오.\n",
    "[주의] 영어 웹사이트 URL로만 5개 이상\n",
    "\n",
    "5) 위 문제에서 저장한 모든 words.frequency 파일들을 객체로 다시 로드하여 본인이 저장하여 분석한 사이트들에서 가장 많이 출현한 단어 3개를 뽑아 제시하시오.\n",
    "반드시 pickle 모듈로 저장한 5개 이상의 words.frequency를 다시 5개 이상의 사전 객체로 로드 하는 코드가 추가되어야 함"
   ]
  },
  {
   "cell_type": "code",
   "execution_count": 12,
   "metadata": {
    "collapsed": false
   },
   "outputs": [
    {
     "name": "stdout",
     "output_type": "stream",
     "text": [
      "\"var\" \"CNN\" \"CNN\" \"CNNpageTimer\" \"interval20isVisibletruepageTypesectionresetDelay3resetThreshold17sectionNameintlhomepage\" \"Breaking\" \"News\" \"US\" \"World\" \"Weather\" \"Entertainment\" \"Video\" \"News\" \"CNNcom\" \"var\" \"CNN\" \"CNN\" \"windowdocumentdomain\" \"cnncomif\" \"typeof\" \"windowconsole\" \"undefined\" \"windowconsole\" \"debug\" \"function\" \"return\" \"trueerror\" \"function\" \"return\" \"trueinfo\" \"function\" \"return\" \"falsewarn\" \"function\" \"return\" \"falselog\" \"function\" \"return\" \"falsetimeStamp\" \"function\" \"return\" \"falseCNNAdsConfig\" \"enableAdLock\" \"falsegalleryAdClicks\" \"4\" \"amazon\" \"amznkey3288\" \"companionAdStates\" \"labelsmallminWidth0labellargeminWidth768\" \"desktopSSID\" \"editioncnncommainhomepage\" \"mobileSSID\" \"editioncnncommobilemobilewebhomepage\" \"fwNetworkId\" \"48804\" \"fwProfile\" \"cnnmobileweblinktag2CNNAirportDelaysConfig\" \"getAirportDataairportstatusserviceHosthttpservicesfaagovCNNBannerBreakpoints\" \"c000\" \"c85600\" \"c95680\" \"c105760\" \"c115840\" \"c125920\" \"c1351000\" \"c1451080CNNCNNXStreamUrl\" \"httpgocnncomstreamCNNDemandLoadConfig\" \"enableForCarouselstrueenableForImagestruethreshold300CNNFeatures\" \"enableGalleryAds\" \"trueenableAmazonDisplayAds\" \"trueenableAmazonVideoAds\" \"trueenableAspenForCVP\" \"trueenableAspenForTOS\" \"trueenableBreakingNews\" \"trueenableJumbotronAutoScroll\" \"falseenableOmniture\" \"trueenableOutbrainVideoKPI\" \"trueenableRefreshTimers\" \"trueenableSafariPushAlerts\" \"falseenableShareButtons\" \"trueenableUserMessage\" \"trueenableVideoEndSlate\" \"trueenableVideoPinning\" \"trueenableVisualRevenueVideo\" \"trueenableWeather\" \"trueenableZoneOutbrain\" \"trueCNNFeeds\" \"breakingNewsttl120000urlhttpdatacnncomjsonpbreakingnewsinternationaljsonCNNGoFreePreviewConfig\" \"adobeEnvironmentprodaspenContextprev10endSlatectaTextSign\" \"your\" \"TV\" \"Service\" \"ProvidermessageTextKeep\" \"watching\" \"CNN\" \"anytime\" \"anywhere\" \"CNNgou003cbrSign\" \"your\" \"TV\" \"service\" \"provider\" \"get\" \"access\" \"tou003cbrall\" \"your\" \"favorite\" \"CNN\" \"shows\" \"specialstitleTextYour\" \"CNNgo\" \"preview\" \"has\" \"expirederrorSlatedefaultTextAn\" \"error\" \"has\" \"occurred\" \"Click\" \"OK\" \"refreshsubscriptionErrorTextYour\" \"pay\" \"TV\" \"subscription\" \"does\" \"include\" \"CNN\" \"Please\" \"contact\" \"your\" \"TV\" \"Service\" \"ProvidertroubleShootingTextIf\" \"error\" \"persists\" \"see\" \"u003ca\" \"hrefwwwcnncomhelpcnngotroubleshootinghtml\" \"classtroubleshootinglink\" \"targetblanktroubleshooting\" \"instructionsu003cagoSmartLinkhttpcnnitgopersistentCtacobrandingTextIn\" \"partnership\" \"withcountdownTextPreview\" \"expires\" \"inpersistentCtaTextExperiencetemppassTempPassCNN10minCNNImageBreakpoints\" \"full16x91101large781medium461mini0small308xsmall221CNNJumbotronConfig\" \"autoScrollEnabledfalseautoScrollInterval8000pauseAutoscrollWhenInvisibletruepauseVideoWhenInvisibletrueresponsiveContainerConstraintsmobile480tablet800desktop2500scrollPausesJumbotronInterval5000CNNLazyLoad\" \"trueCNNMailchimp\" \"sectionentertainmentenableFooterfalseenableIncludetruehealthenableFooterfalseenableIncludetruelivingenableFooterfalseenableIncludetruepoliticsenableFooterfalseenableIncludetruetechenableFooterfalseenableIncludetruetravelenableFooterfalseenableIncludetrueusenableFooterfalseenableIncludetrueworldenableFooterfalseenableIncludetrueCNNMarketsConfig\" \"converterServicecommonmodulesiframecurrencyConverterasplookupServiceservicescnndotcomlookupaspserviceHosthttpmarketsmoneycnncomCNNMetaRefreshRate\" \"1800CNNOptimizelyConfig\" \"urlcdnoptimizelycomjs128727546jsCNNOutbrainVideoKPISrc\" \"httptrafficoutbraincomnetworktrackpxladvid814actionviewCNNPushAlertsConfig\" \"safariwebServiceURLhttpsalertshubcnncomdistributionhubwebsitePushIDwebcomcnnredalertCNNadTimers\" \"CNNeventTimers\" \"CNNSocialConfig\" \"avatarhostavatarcnncomembedscriptsinstagramjsplatforminstagramcomenUSembedsjstwitterjsplatformtwittercomwidgetsjslivefyrejscdnlivefyrecomLivefyrejsgigyaappId3gtUbleJNtrRITgx1mMci7GcIrH8xL9WVfAbzSa4zpFrRwnpqeYd8QTRkr7VCenableOnLeaftrueenableOnFirstZonetrueshareStatsPostURLhttpactioneventcnncomapiv1eventaddEventlivefyremobileCommentsBaseUrlhttpcnnbootstrapfyrecoapi11publiccommentsncommentsnetworkcnnfyrecositeId353270srcDomainhttpcdnlivefyrecomappembedappembed066msibauthUrlcnncommentslivefyreauthenticationbaseUrlhttpsaudiencecnncomservicescnnerrorUrlcnncommentslivefyreerrorloginUrlcnncommentslivefyreloginwhatsappbaseUrlwhatsappsendtextCNN\" \"storyCNNToggleOutbrain\" \"entertainmentzoneadIdadrectbtf02outBrainIdAR38healthzoneadIdadrectatf01outBrainIdSF8livingzoneadIdadrectatf01outBrainIdSF9politicszoneadIdadrectatf01outBrainIdSF6techzoneadIdadrectatf01outBrainIdSF7travelzoneadIdadrectatf01outBrainIdSF10uszoneadIdadrectatf01outBrainIdSF4worldzoneadIdadrectatf01outBrainIdSF5CNNTripAdvisor\" \"affiliatesrchttpicdntravelcnncomsitesalllibrariesaffiliatelinkercnntravelaffiliatelinkerjspartnerHotelsapiKeyE6E67BB01FD2467688ED25D5F5BC095AapiBaseUrlhttpapitripadvisorcomapipartner20locationservicePathservicestravelpartnerHotelswidgetapiKeyE6E67BB01FD2467688ED25D5F5BC095AsrchttpicdntravelcnncomsitesalllibrariescnntravelcnntravelmapsjsmapapiMapboxapiKeypkeyJ1IjoiY25uZGlnaXRhbCIsImEiOiJhMmI0NTFkNWMzNmMyODU4NTQyMjQzNWFkM2I5OGFkMCJ9S01hv9vVgIbHvy1QuAsoyQoptionsKeymapboxaccesstokenCNNUserMessageConfig\" \"idie8headerTextInternet\" \"Explorer\" \"8\" \"longer\" \"supportedmessageTextThank\" \"you\" \"your\" \"interest\" \"CNNcom\" \"We’ve\" \"detected\" \"you\" \"using\" \"browser\" \"we\" \"longer\" \"support\" \"Please\" \"update\" \"more\" \"current\" \"browser\" \"version\" \"visit\" \"us\" \"your\" \"mobile\" \"devicedismissCookienameNotifiedIE8SupportvaluetrueexpirationTue\" \"01\" \"Jan\" \"2115\" \"000000\" \"UTCexpirationPeriod2592000000oldCookieNamenoneoldCookieExpirationTue\" \"01\" \"Sep\" \"2015\" \"000000\" \"UTCheightsmall140medium120large130idtosheaderTextOur\" \"Terms\" \"Service\" \"Privacy\" \"Policy\" \"Have\" \"ChangedmessageTextBy\" \"using\" \"site\" \"you\" \"agree\" \"u003ca\" \"hrefprivacyPrivacy\" \"Policyu003ca\" \"u003ca\" \"hreftermsTerms\" \"Serviceu003cadismissCookienameCNNtosAgreedvaluetrueexpirationTue\" \"01\" \"Jan\" \"2115\" \"000000\" \"UTColdCookieNametosAgreedoldCookieExpirationTue\" \"01\" \"Sep\" \"2015\" \"000000\" \"UTCheightsmall120medium100large110idtrusteheaderTextCookie\" \"ConsentmessageTextWe\" \"use\" \"cookies\" \"improve\" \"your\" \"experience\" \"website\" \"By\" \"continuing\" \"browse\" \"our\" \"site\" \"you\" \"agree\" \"our\" \"use\" \"cookies\" \"u003ca\" \"hrefcookieTell\" \"me\" \"moreu003ca\" \"u003ca\" \"href\" \"classjstrustemodalCookie\" \"preferencesu003ca\" \"u003cimg\" \"classmtrusteicon\" \"jstrusteicon\" \"srchttpchoicestrustecomgetnameadmarkericontrpng\" \"dismissCookienametrusteConsentvaluetrueexpirationskiptrueheightsmall135medium110large130CNNVideoConfig\" \"apiloaderBaseURLFULLPATHhttpwwwcnncomelementwidgetvideovideoapiapiloaderBaseURLelementwidgetvideovideoapiapiloaderBaseURLLocalhttplocalhostcnncom3000buildapiversionlatestcollectionplayNextVideoTimeout1500goFreePreviewadobeEnvironmentprodaspenContextprev10endSlatectaTextSign\" \"your\" \"TV\" \"Service\" \"ProvidermessageTextKeep\" \"watching\" \"CNN\" \"anytime\" \"anywhere\" \"CNNgou003cbrSign\" \"your\" \"TV\" \"service\" \"provider\" \"get\" \"access\" \"tou003cbrall\" \"your\" \"favorite\" \"CNN\" \"shows\" \"specialstitleTextYour\" \"CNNgo\" \"preview\" \"has\" \"expirederrorSlatedefaultTextAn\" \"error\" \"has\" \"occurred\" \"Click\" \"OK\" \"refreshsubscriptionErrorTextYour\" \"pay\" \"TV\" \"subscription\" \"does\" \"include\" \"CNN\" \"Please\" \"contact\" \"your\" \"TV\" \"Service\" \"ProvidertroubleShootingTextIf\" \"error\" \"persists\" \"see\" \"u003ca\" \"hrefwwwcnncomhelpcnngotroubleshootinghtml\" \"classtroubleshootinglink\" \"targetblanktroubleshooting\" \"instructionsu003cagoSmartLinkhttpcnnitgopersistentCtacobrandingTextIn\" \"partnership\" \"withcountdownTextPreview\" \"expires\" \"inpersistentCtaTextExperiencetemppassTempPassCNN10minmutedPlayerstartTime0stopInterval30stopTime0timeZoneGMTembedLinksclipboardOperationsSWFhttpicdnturnercomcnnvideoassetsCNNVideoClipboardCopyswfbuttonImagecdnassetpathbuildassetsembedvideobuttonpngimageButtonXOffset0imageButtonYOffset3embedLinkPatternu003ciframe\" \"width416\" \"height234\" \"srchttphostvideoapiembedhtmlvideovideoId\" \"frameborder0u003ciframenetworkcnnCNNWeatherConfig\" \"citySearchweathercitySearchenableInHeadertrueenableInFootertruegetForecastweathergetForecastserviceCitySearchHosthttpweathercnncomserviceForecastHosthttpweathercnncomstoredLocationsAmount6CNNZones\" \"sectionindexhtmlenablePictureFillfalseenableZonesScrollToLoadfalselazyLoadtrueloadAllZonesLazyfalsezonesminWidth0indexhtmlintlhomepage1zone1indexhtmlintlhomepage1zone2intlindex3htmlintlhomepagemagellanzone1intlindex3htmlintlhomepagemagellanzone2intlindex3htmlintlhomepagemagellanzone3intlindex3htmlintlhomepagemagellanzone4indexhtmlintlhomepage3zone4640indexhtmlintlhomepage1zone1indexhtmlintlhomepage1zone2indexhtmlintlhomepage1zone3indexhtmlintlhomepage1zone4indexhtmlintlhomepage2zone1indexhtmlintlhomepage3zone1indexhtmlintlhomepage3zone2indexhtmlintlhomepage3zone3indexhtmlintlhomepage3zone4800indexhtmlintlhomepage1zone1indexhtmlintlhomepage1zone2indexhtmlintlhomepage1zone3indexhtmlintlhomepage1zone4indexhtmlintlhomepage2zone1indexhtmlintlhomepage3zone1indexhtmlintlhomepage3zone2indexhtmlintlhomepage3zone3indexhtmlintlhomepage3zone4index2htmlenablePictureFilltrueenableZonesScrollToLoadfalselazyLoadtruezonesminWidth0index2htmlintlhomepage1zone1index2htmlintlhomepage1zone2index2htmlintlhomepage1zone3index2htmlintlhomepage1zone4index2htmlintlhomepage2zone1index2htmlintlhomepage3zone1index2htmlintlhomepage3zone2index2htmlintlhomepage3zone3index2htmlintlhomepage3zone4640index2htmlintlhomepage1zone1index2htmlintlhomepage1zone2index2htmlintlhomepage1zone3index2htmlintlhomepage1zone4index2htmlintlhomepage2zone1index2htmlintlhomepage3zone1index2htmlintlhomepage3zone2index2htmlintlhomepage3zone3index2htmlintlhomepage3zone4800index2htmlintlhomepage1zone1index2htmlintlhomepage1zone2index2htmlintlhomepage1zone3index2htmlintlhomepage1zone4index2htmlintlhomepage2zone1index2htmlintlhomepage3zone1index2htmlintlhomepage3zone2index2htmlintlhomepage3zone3index2htmlintlhomepage3zone4CNNSiblingNavigation\" \"threshold1200disableHoverThreshold1CNNBylineImages\" \"threshold640\" \"navigatorappVersionindexOfWindows\" \"Phone\" \"OS\" \"7\" \"1\" \"navigatorappVersionindexOfWP7\" \"1\" \"var\" \"html\" \"documentgetElementsByTagNamehtml0Modernizrloadtest\" \"Modernizrfontfacecomplete\" \"function\" \"use\" \"stricthtmlclassName\" \"htmlclassNamereplacebfontfaceb\" \"nofontface\" \"var\" \"sfstartptnew\" \"DategetTime\" \"Breaking\" \"News\" \"Toggle\" \"Search\" \"International\" \"Edition\" \"US\" \"International\" \"Arabic\" \"Español\" \"Set\" \"edition\" \"preference\" \"Confirm\" \"Search\" \"News\" \"World\" \"Sport\" \"Technology\" \"Entertainment\" \"Style\" \"Travel\" \"Money\" \"Regions\" \"US\" \"China\" \"Asia\" \"Middle\" \"East\" \"Africa\" \"Europe\" \"Americas\" \"Video\" \"Must\" \"Watch\" \"Videos\" \"Shows\" \"CNN\" \"en\" \"Español\" \"TV\" \"TV\" \"Shows\" \"Schedule\" \"Faces\" \"CNN\" \"Worldwide\" \"Features\" \"Travel\" \"All\" \"Features\" \"Opinions\" \"iReport\" \"More…\" \"Photos\" \"Weather\" \"CNN\" \"Mobile\" \"Tools\" \"amp\" \"Extras\" \"CNN\" \"Profiles\" \"AZ\" \"CNN\" \"Leadership\" \"CNN\" \"Arabic\" \"CNN\" \"Español\" \"CNN\" \"Mexico\" \"CNN\" \"Facebook\" \"CNN\" \"Twitter\" \"CNN\" \"Google\" \"CNN\" \"Heroes\" \"Impact\" \"Your\" \"World\" \"CNN\" \"Freedom\" \"Project\" \"Quick\" \"Links\" \"Photos\" \"Weather\" \"CNN\" \"Mobile\" \"Tools\" \"amp\" \"Extras\" \"CNN\" \"Profiles\" \"AZ\" \"CNN\" \"Leadership\" \"WAR\" \"ON\" \"ISIS\" \"WAR\" \"ON\" \"ISIS\" \"PARIS\" \"ATTACKS\" \"BREAKING\" \"NEWS\" \"Female\" \"suicide\" \"bomber\" \"blows\" \"self\" \"up\" \"during\" \"Paris\" \"terror\" \"raid\" \"Fate\" \"suspected\" \"attack\" \"organizer\" \"remains\" \"unknown\" \"French\" \"president\" \"mobilizes\" \"military\" \"destroy\" \"ISIS\" \"Syria\" \"ATTACK\" \"RINGLEADER\" \"Raid\" \"targets\" \"ISIS\" \"leader\" \"HAPPENING\" \"NOW\" \"Latest\" \"developments\" \"terror\" \"hunt\" \"STADIUM\" \"TERROR\" \"Serious\" \"bomb\" \"threat\" \"Germany\" \"match\" \"PREGNANT\" \"WOMAN\" \"She\" \"clung\" \"her\" \"life\" \"from\" \"window\" \"REMEMBERED\" \"The\" \"victims\" \"we\" \"know\" \"so\" \"far\" \"Global\" \"terror\" \"threat\" \"As\" \"raid\" \"unfolded\" \"Series\" \"explosions\" \"Paris\" \"suburb\" \"ISIS\" \"operative\" \"arrested\" \"way\" \"Europe\" \"Flights\" \"Paris\" \"diverted\" \"after\" \"bomb\" \"threats\" \"Dozens\" \"dead\" \"Nigeria\" \"bomb\" \"blasts\" \"The\" \"inconvenient\" \"truth\" \"about\" \"war\" \"ISIS\" \"var\" \"CNN\" \"CNN\" \"CNNcontentModel\" \"layout\" \"norail\" \"sectionName\" \"intlhomepage\" \"pageType\" \"section\" \"env\" \"prod\" \"type\" \"page\" \"analytics\" \"pageTopheadlineauthorshowNameisArticleVideoCollectionfalsepublishDate20151118T132908ZpageBrandingdefaultbrandingcontentpagedefaultbrandingcontentzonedefaultbrandingcontentcontainerdefaultdefiningmomentsbrandingcontentcard\" \"edition\" \"international\" \"title\" \"Intl\" \"Homepage\" \"News\" \"siblings\" \"articleListuri20151118worldparisattacksindexhtmlheadlineu003cul\" \"classcnnrichtextu003cstrongu003cliFemale\" \"suicide\" \"bomber\" \"blows\" \"self\" \"up\" \"during\" \"Paris\" \"terror\" \"raidu003cliu003cstrongu003cstrongu003cliFate\" \"suspected\" \"attack\" \"organizer\" \"remains\" \"unknown\" \"u003cliu003cstrongu003cstrongu003cliFrench\" \"president\" \"mobilizes\" \"military\" \"destroy\" \"ISIS\" \"Syriau003cstrongu003cliu003culthumbnailhttpi2cdnturnercomcnnnextdamassets15111805223507saintdenisraid1118small11jpgdurationdescriptionlayouturi20151116europeparisterrorattackmastermindabdelhamidabaaoudindexhtmlheadlineu003cstrongATTACK\" \"RINGLEADER\" \"u003cstrongRaid\" \"targets\" \"ISIS\" \"leaderthumbnailhttpi2cdnturnercomcnnnextdamassets15111613231101abdelhamidabaaoudsmall11jpgdurationdescriptionlayouturi20151118europeparisattacksataglanceindexhtmlheadlineu003cstrongHAPPENING\" \"NOWu003cstrong\" \"Latest\" \"developments\" \"terror\" \"huntthumbnailhttpi2cdnturnercomcnnnextdamassets151117162340frenchsoldierfighterjetsmall11jpgdurationdescriptionlayouturi20151117europegermanynetherlandssoccercanceledindexhtmlheadlineu003cstrongSTADIUM\" \"TERRORu003cstrong\" \"Serious\" \"bomb\" \"threat\" \"Germany\" \"matchthumbnailhttpi2cdnturnercomcnnnextdamassets15111715584804germanystadiumevacrestrictedsmall11jpgdurationdescriptionlayouturivideosworld20151116parisattackswomanhangingfromwindowledgecooperdntaccnnheadlineu003cstrongPREGNANT\" \"WOMANu003cstrong\" \"She\" \"clung\" \"her\" \"life\" \"from\" \"windowthumbnailhttpi2cdnturnercomcnnnextdamassets151116204555parisattackswomanhangingfromwindowledgecooperdntac00002405small11jpgduration0212descriptionCNNs\" \"Anderson\" \"Cooper\" \"reports\" \"harrowing\" \"tale\" \"survival\" \"caught\" \"camera\" \"after\" \"Paris\" \"attackslayouticonTypevideourivideosworld20151118franceparisattackraidexplosionsshubertlklvcnnheadlineAs\" \"raid\" \"unfolded\" \"Series\" \"explosions\" \"Paris\" \"suburbthumbnailhttpi2cdnturnercomcnnnextdamassets15111802450801saintdenisraid1118small11jpgduration0226descriptionlayouticonTypevideouri20151117worldturkeyjihadijohnassociateindexhtmlheadlineISIS\" \"operative\" \"arrested\" \"way\" \"Europethumbnailhttpi2cdnturnercomcnnnextdamassets151105103638isisflagtanksmall11jpgdurationdescriptionlayouturi20151117worldairfranceflightdivertedindexhtmlheadlineFlights\" \"Paris\" \"diverted\" \"after\" \"bomb\" \"threatsthumbnailhttpi2cdnturnercomcnnnextdamassets150525120851airfranceplanesgenericsmall11jpgdurationdescriptionlayouturi20151118africanigeriablastsindexhtmlheadlineDozens\" \"dead\" \"Nigeria\" \"bomb\" \"blaststhumbnailhttpi2cdnturnercomcnnnextdamassets150325082152socialgfxcnnlogosmall11jpgdurationdescriptionAt\" \"least\" \"31\" \"people\" \"were\" \"killed\" \"72\" \"others\" \"injured\" \"bomb\" \"blast\" \"northeastern\" \"Nigerian\" \"city\" \"Yola\" \"Tuesday\" \"evening\" \"according\" \"Aliyu\" \"Maikano\" \"local\" \"Red\" \"Cross\" \"officiallayouturi20151117opinionsisisnomilitaryanswerpatonwalshindexhtmlheadlineThe\" \"inconvenient\" \"truth\" \"about\" \"war\" \"ISIS\" \"thumbnailhttpi2cdnturnercomcnnnextdamassets151112024037peshmergafightersmall11jpgdurationdescriptionlayouturi20151117politicsisisputinobamaindexhtmlheadlineISIS\" \"brings\" \"Putin\" \"Obama\" \"togetherthumbnailhttpi2cdnturnercomcnnnextdamassets150929145850mexicoobamaputin2012small11jpgdurationdescriptionlayouturi20151118asianorthkoreabankimoonvisitindexhtmlheadlineUN\" \"chief\" \"going\" \"North\" \"Koreathumbnailhttpi2cdnturnercomcnnnextdamassets151116113520bankimoonsmall11jpgdurationdescriptionUN\" \"SecretaryGeneral\" \"Ban\" \"Kimoon\" \"not\" \"visit\" \"North\" \"Korea\" \"next\" \"week\" \"his\" \"office\" \"said\" \"contrary\" \"earlier\" \"news\" \"reportslayouturi20151117healthcharliesheenhealthindexhtmlheadlineCharlie\" \"Sheen\" \"says\" \"hes\" \"HIV\" \"positivethumbnaildurationdescriptionlayouturi20151117ustexascampsitemurderindexhtmlheadline6\" \"dead\" \"campsite\" \"murder\" \"spreethumbnailhttpi2cdnturnercomcnnnextdamassets150325082152socialgfxcnnlogosmall11jpgdurationdescriptionAuthorities\" \"investigating\" \"two\" \"crime\" \"scenes\" \"have\" \"suspect\" \"custody\" \"after\" \"six\" \"people\" \"were\" \"found\" \"dead\" \"Anderson\" \"County\" \"Texaslayouturi20151116middleeastlebanonadeltermosbeirutheroindexhtmlheadlineHero\" \"dies\" \"tackling\" \"suicide\" \"bomberthumbnailhttpi2cdnturnercomcnnnextdamassets151116133943adeltermosmournersbeirutbombingssmall11jpgdurationdescriptionlayouturi20151117usnewhampshirebodiesmysteryindexhtmlheadlineNew\" \"clues\" \"dead\" \"girls\" \"found\" \"barrels\" \"thumbnailhttpi2cdnturnercomcnnnextdamassets151117202451newhampshirebodiesmysterypressersot00011822small11jpgdurationdescriptionRecent\" \"testing\" \"teeth\" \"hair\" \"bones\" \"woman\" \"three\" \"girls\" \"whose\" \"bodies\" \"were\" \"crammed\" \"two\" \"metal\" \"barrels\" \"has\" \"yielded\" \"information\" \"New\" \"Hampshire\" \"authorities\" \"hope\" \"can\" \"finally\" \"give\" \"them\" \"names\" \"back\" \"more\" \"than\" \"30\" \"years\" \"after\" \"were\" \"killedlayouturi20151117africariemannhypothesisunsolvedindexhtmlheadline156yearold\" \"math\" \"puzzle\" \"solvedthumbnailhttpi2cdnturnercomcnnnextdamassets151117130958einsteinequationsmall11jpgdurationdescriptionA\" \"Nigerian\" \"professor\" \"has\" \"claimed\" \"have\" \"solved\" \"156yearold\" \"mathematical\" \"mystery\" \"which\" \"could\" \"win\" \"him\" \"1million\" \"prize\" \"layouturi20151117sportjonahlomuobitindexhtmlheadlineAll\" \"Blacks\" \"star\" \"Lomu\" \"diesthumbnailhttpi2cdnturnercomcnnnextdamassets151118091723jonahlomuobitrunsmall11jpgdurationdescriptionlayouturi20151118tennissaniamirzatennisindiaindexhtmlheadlineHow\" \"Indias\" \"freak\" \"accident\" \"trumped\" \"Sharapovathumbnailhttpi2cdnturnercomcnnnextdamassets151118093216mirzateasesmall11jpgdurationdescriptionlayouturi20151117travelchinahangzhouoldvillamcdonaldsindexhtmlheadlineWorlds\" \"most\" \"controversial\" \"McDonaldsthumbnailhttpi2cdnturnercomcnnnextdamassets151117121339mcdonaldshangzhoucardsmall11jpgdurationdescriptionAn\" \"84yearold\" \"villa\" \"briefly\" \"housed\" \"former\" \"Taiwanese\" \"leader\" \"now\" \"has\" \"its\" \"very\" \"own\" \"McCafelayouturi20151116politicstrumpsecurityparisattacksindexhtmlheadlineTrump\" \"Bomb\" \"st\" \"out\" \"ISISthumbnailhttpi2cdnturnercomcnnnextdamassets15111212445701trump1112small11jpgdurationdescriptionlayouturi20151113africakenyamostdangerousplacetobepregnantindexhtmlheadlineMost\" \"dangerous\" \"place\" \"pregnantthumbnailhttpi2cdnturnercomcnnnextdamassets151113161500babyabdinoormohamadabdiheldbyhisgrandmotherhalimasomodimasmall11jpgdurationdescriptionThe\" \"hospital\" \"this\" \"remote\" \"region\" \"Kenya\" \"has\" \"blood\" \"its\" \"blood\" \"bank\" \"Fardowsa\" \"Abdi\" \"about\" \"dielayouturi20151115healthfacetransplantfirefighterindexhtmlheadlineMost\" \"extensive\" \"face\" \"transplant\" \"everthumbnailhttpi2cdnturnercomcnnnextdamassets151116113726facetransplantsplithardisonsmall11jpgdurationdescriptionlayouturi20151113travelluxurytravel2016indexhtmlheadline10\" \"onceinalifetime\" \"trips\" \"2016thumbnailhttpi2cdnturnercomcnnnextdamassets151112112741kenya1creditaksmall11jpgdurationdescriptionlayouturi20151115traveldetoxspasindexhtmlheadline9\" \"worlds\" \"most\" \"unusual\" \"spasthumbnailhttpi2cdnturnercomcnnnextdamassets151013174525snakespasmall11jpgdurationdescriptionlayouturi20151118foodanddrinkitalyforeatersfooddestinationsindexhtmlheadlineItalian\" \"destinations\" \"thatll\" \"destroy\" \"your\" \"waistlinethumbnailhttpi2cdnturnercomcnnnextdamassets151111130400materaassassinspaghetticsmall11jpgdurationdescriptionTheres\" \"no\" \"time\" \"count\" \"calories\" \"theyre\" \"serving\" \"up\" \"next\" \"courselayouturi20151117foodanddrinkrestaurantshardtogetintoindexhtmlheadline9\" \"restaurants\" \"harder\" \"get\" \"than\" \"Harvardthumbnailhttpi2cdnturnercomcnnnextdamassets151029135217rosesluxurywashingtonrestaurantfoodsmall11jpgdurationdescriptionBetter\" \"hope\" \"your\" \"favorite\" \"restaurant\" \"never\" \"becomes\" \"lauded\" \"one\" \"worlds\" \"best\" \"layouturi20151117travelmisscolombianamedindexhtmlheadlineIs\" \"this\" \"sexiest\" \"national\" \"day\" \"everthumbnailhttpi2cdnturnercomcnnnextdamassets151117102052cartagenafestivalprofilesmall11jpgdurationdescriptionlayouturi20151116fashionadvertsthatchangedtheworldindexhtmlheadlineLook\" \"away\" \"Fashion\" \"ads\" \"shocked\" \"worldthumbnailhttpi2cdnturnercomcnnnextdamassets151116173628shockingadsteasebenettonsmall11jpegdurationdescriptionlayouturi20151113artsgalleryseanyoroglaciermuralindexhtmlheadlineHaunting\" \"face\" \"appears\" \"icebergthumbnailhttpi2cdnturnercomcnnnextdamassets151113133013yoroicetease1small11jpgdurationdescriptionlayouticonTypegalleryuri20151112traveldronestagramdronephotographyphotoartsocialindexhtmlheadlineDrone\" \"photos\" \"like\" \"youve\" \"never\" \"seenthumbnailhttpi2cdnturnercomcnnnextdamassets151013141121dronestagramchristtheredeemersmall11jpgdurationdescriptionlayouturi20151117entertainmentpaulwalkerdeathlawsuitindexhtmlheadlinePaul\" \"Walkers\" \"death\" \"his\" \"own\" \"faultthumbnailhttpi2cdnturnercomcnnnextdamassets131130213718paulwalkersmall11jpgdurationdescriptionPorsche\" \"has\" \"blamed\" \"Paul\" \"Walker\" \"his\" \"own\" \"death\" \"one\" \"its\" \"sports\" \"cars\" \"saying\" \"vehicle\" \"he\" \"riding\" \"had\" \"been\" \"abused\" \"alteredlayouturivideosus20151115snlsaturdaynightlivebencarsonviolentpastorigbtscnnheadlineSNL\" \"spoofs\" \"Ben\" \"Carsons\" \"pastthumbnailhttpi2cdnturnercomcnnnextdamassets151115083935snlsaturdaynightlivebencarsonviolentpastorigbts00011620small11jpgduration0124descriptionDuring\" \"Saturday\" \"Night\" \"Live\" \"skit\" \"Jay\" \"Pharoah\" \"played\" \"young\" \"Dr\" \"Ben\" \"Carson\" \"recreated\" \"moments\" \"presidential\" \"candidate\" \"claims\" \"happened\" \"his\" \"past\" \"layouticonTypevideouri20151116opinionswaldmanparistrumpiowavotersindexhtmlheadlineIs\" \"Trump\" \"right\" \"about\" \"stupid\" \"votersthumbnailhttpi2cdnturnercomcnnnextdamassets151114144356donaldtrumpnovember132015small11jpgdurationdescriptionlayouturi20151029asianorthkoreaunforcedlaboroverseasindexhtmlheadlineNorth\" \"Korea\" \"earning\" \"fortune\" \"from\" \"forced\" \"laborthumbnailhttpi2cdnturnercomcnnnextdamassets131218125900kimjongunwavesmall11jpgdurationdescriptionlayouturi20151008middleeastisisrapetheologysoldiersrapewomentomakethemmuslimindexhtmlheadlineISIS\" \"soldiers\" \"rape\" \"women\" \"make\" \"them\" \"Muslim\" \"thumbnaildurationdescriptionSitting\" \"shabby\" \"green\" \"sofa\" \"somewhere\" \"ISIScontrolled\" \"city\" \"Mosul\" \"Iraq\" \"militants\" \"laugh\" \"joke\" \"one\" \"them\" \"films\" \"excited\" \"chatterlayouturi20151005middleeastyazidiwomensuicideinisiscaptivityindexhtmlheadlineWomen\" \"kill\" \"themselves\" \"escape\" \"from\" \"ISISthumbnailhttpi2cdnturnercomcnnnextdamassets150226160941leaddntsciuttojihadijohnunmasked00000000small11jpgdurationdescriptionlayouturivideosworld20151118parisraidsexplosionsgunfiregoranibermancnnheadlineExplosions\" \"gunfire\" \"heard\" \"during\" \"dramatic\" \"siegethumbnailhttpi2cdnturnercomcnnnextdamassets151118044246franceparispoliceshootoutsmall11jpgduration0056descriptionA\" \"series\" \"explosions\" \"heard\" \"terror\" \"raid\" \"following\" \"deadly\" \"attacks\" \"French\" \"capitallayouticonTypevideourivideosworld20151117parisattacksbataclanmemoriestwitterorigcnnheadlineMemories\" \"Bataclan\" \"concerts\" \"go\" \"viralthumbnailhttpi2cdnturnercomcnnnextdamassets151117201220bataclanpastconcertsmall11jpgduration0123descriptionFollowing\" \"Paris\" \"attacks\" \"many\" \"people\" \"sharing\" \"fond\" \"memories\" \"music\" \"concerts\" \"attended\" \"BataclanlayouticonTypevideourivideosus20151118pattilabellesweetpotatopiesreviewersingsmoospkgerincnnheadlineDo\" \"pies\" \"make\" \"you\" \"sing\" \"like\" \"Patti\" \"LaBellethumbnailhttpi2cdnturnercomcnnnextdamassets151117202405pattilabellesweetpotatopiesreviewersingsmoospkgerin00000911small11jpgduration0207descriptionPattis\" \"sweet\" \"potato\" \"pie\" \"makes\" \"reviewer\" \"sing\" \"like\" \"Patti\" \"LaBelle\" \"CNNs\" \"Jeanne\" \"Moos\" \"reports\" \"pie\" \"turned\" \"phenomenonlayouticonTypevideourivideosworld20151113skateboardingbulldogbreaksrecordzianasherpkgcnnheadlineSkateboarding\" \"bulldog\" \"breaks\" \"recordthumbnailhttpi2cdnturnercomcnnnextdamassets151113023136skateboardingbulldogbreaksrecordzianasherpkg00002628small11jpgduration0114descriptionOtto\" \"bulldog\" \"has\" \"rolled\" \"his\" \"way\" \"Guinness\" \"book\" \"world\" \"records\" \"Zain\" \"Asher\" \"reportslayouticonTypevideourivideosworld20151116parisattackswomanhangingfromwindowledgecooperdntaccnnheadlinePregnant\" \"woman\" \"clings\" \"window\" \"ledge\" \"escapethumbnailhttpi2cdnturnercomcnnnextdamassets151116204555parisattackswomanhangingfromwindowledgecooperdntac00002405small11jpgduration0212descriptionCNNs\" \"Anderson\" \"Cooper\" \"reports\" \"harrowing\" \"tale\" \"survival\" \"caught\" \"camera\" \"after\" \"Paris\" \"attackslayouticonTypevideourivideostv20151116paristerrorattackstictocmobileorigcnnheadlineParis\" \"attacks\" \"1\" \"minutethumbnailhttpi2cdnturnercomcnnnextdamassets151116191441pariscrimescenesmall11jpgduration0109descriptionA\" \"timeline\" \"terror\" \"attacks\" \"unfolded\" \"Paris\" \"layouticonTypevideourivideosentertainment20151117charliesheenhivpositivetodayshowmssorigcnnheadlineCharlie\" \"Sheen\" \"I\" \"am\" \"fact\" \"HIVpositivethumbnailhttpi2cdnturnercomcnnnextdamassets15111618361916charliesheenthroughtheyearssmall11jpgduration0126descriptionActor\" \"Charlie\" \"Sheen\" \"reveals\" \"public\" \"he\" \"HIVpositive\" \"an\" \"interview\" \"The\" \"TODAY\" \"ShowlayouticonTypevideourivideosworld20151116parisattackslandmarksturnbluewhiteredorigsdgcnnheadlineLandmarks\" \"turn\" \"blue\" \"white\" \"red\" \"support\" \"Paristhumbnailhttpi2cdnturnercomcnnnextdamassets151116220345sydneyoperahouseparistributesmall11jpgduration0112descriptionFamiliar\" \"structures\" \"around\" \"world\" \"bathed\" \"blue\" \"white\" \"red\" \"solidarity\" \"France\" \"after\" \"terror\" \"attacks\" \"ParislayouticonTypevideourivideoshealth20151116facetransplantsurgerypatientnyufacialplasticorigcnnheadlineFirefighter\" \"recovering\" \"from\" \"historic\" \"face\" \"transplant\" \"surgery\" \"thumbnailhttpi2cdnturnercomcnnnextdamassets151116161349facetransplant01small11jpegduration0149description41yearold\" \"volunteer\" \"firefighter\" \"Patrick\" \"Hardison\" \"Mississippi\" \"now\" \"lives\" \"face\" \"26yearold\" \"Brooklyn\" \"bike\" \"mechaniclayouticonTypevideouri20151112hotelsgallerymalaysiarainforestresortsindexhtmlheadline12\" \"magical\" \"rainforest\" \"retreatsthumbnailhttpi2cdnturnercomcnnnextdamassets151112120511malaysiarainforestresortsdatailangkawismall11jpgdurationdescriptionlayouticonTypegalleryuri20151112opinionsgallerysnowleopardsindexhtmlheadlineGloomy\" \"forecast\" \"snow\" \"leopards\" \"habitatthumbnailhttpi2cdnturnercomcnnnextdamassets15103012262505snowleopardssmall11jpgdurationdescriptionlayouticonTypegalleryuri20151110autosgalleryfamousmoviecarsindexhtmlheadlineHoly\" \"smokes\" \"Batman\" \"Take\" \"look\" \"these\" \"ultimate\" \"movie\" \"carsthumbnailhttpi2cdnturnercomcnnnextdamassets15110913431220batmobilerestrictedsmall11jpgdurationdescriptionKapow\" \"Crunch\" \"Zap\" \"Batman\" \"1960s\" \"a\" \"comic\" \"book\" \"brought\" \"life\" \"The\" \"original\" \"Batmobile\" \"sale\" \"a\" \"cool\" \"5\" \"million\" \"u003ca\" \"hrefhttpeditioncnncom20151110autosfamousmoviecarsbatmanindexhtml\" \"targetblankRead\" \"more\" \"hereu003ca\" \"layouticonTypegalleryuri20151110travelgallerynewthemeparksof2015indexhtmlheadlineThe\" \"most\" \"spectacular\" \"new\" \"theme\" \"parks\" \"2015thumbnailhttpi2cdnturnercomcnnnextdamassets141224103144attractions2015funtasyislandsmall11jpgdurationdescriptionlayouticonTypegalleryuri20151109worldgalleryclimatechange4degreesindexhtmlheadlineWhat\" \"cities\" \"look\" \"like\" \"2\" \"4\" \"degrees\" \"warmerthumbnailhttpi2cdnturnercomcnnnextdamassets151109134020climatechange4degreessmall11jpgdurationdescriptionlayouticonTypegalleryuri20150903luxurygallery11000diamondswallacechanindexhtmlheadlineWhat\" \"do\" \"you\" \"do\" \"worlds\" \"rarest\" \"largest\" \"diamondsthumbnailhttpi2cdnturnercomcnnnextdamassets150904103055wallacechantease2small11jpgdurationdescriptionThe\" \"gallery\" \"above\" \"depicts\" \"a\" \"visual\" \"journey\" \"from\" \"origins\" \"where\" \"one\" \"worlds\" \"rarest\" \"largest\" \"diamonds\" \"unearthed\" \"how\" \"formed\" \"the\" \"core\" \"an\" \"absurdly\" \"lavish\" \"necklace\" \"made\" \"11551\" \"diamonds\" \"hundreds\" \"pieces\" \"jade\" \"jadeite\" \"The\" \"piece\" \"designed\" \"a\" \"collaboration\" \"between\" \"jewelry\" \"designer\" \"u003ca\" \"hrefhttpeditioncnncom20141119worldasiahumanfacejewels\" \"targetblankWallace\" \"Chanu003ca\" \"Hong\" \"Kongs\" \"largest\" \"jewelry\" \"retailer\" \"u003ca\" \"hrefhttpwwwchowtaifookcomen\" \"targetblankChow\" \"Tai\" \"Fooku003ca\" \"layouticonTypegalleryuri20151117opinionsmulvaneyfacebookfrenchflagindexhtmlheadlineEnough\" \"the\" \"French\" \"Flag\" \"Facebook\" \"logothumbnailhttpi2cdnturnercomcnnnextdamassets151117023404parissecuritysmall11jpgdurationdescriptionlayouturi20151113opinionsbergenisisjihadijohnindexhtmlheadlineEnd\" \"the\" \"beginning\" \"ISISthumbnailhttpi2cdnturnercomcnnnextdamassets150318083603cnneepkgbrownpamelajihadijohnprofile00002425small11jpgdurationdescriptionlayouturi20151113opinionsodomdiversitystilllackingconferencesindexhtmlheadlineTrudeaus\" \"case\" \"diversity\" \"Because\" \"its\" \"2015thumbnailhttpi2cdnturnercomcnnnextdamassets151112172906trudeaucabinetsmall11jpgdurationdescriptionlayouturi20151116opinionsclosingmigrationrouteswontstopterrorismindexhtmlheadlineMigrant\" \"backlash\" \"Closing\" \"routes\" \"wont\" \"stop\" \"terrorthumbnailhttpi2cdnturnercomcnnnextdamassets150806193341calaismigrantssmall11jpgdurationdescriptionlayouturi20151113opinionskennedysyriavietnamindexhtmlheadlineSyria\" \"Americas\" \"next\" \"Vietnamthumbnailhttpi2cdnturnercomcnnnextdamassets15110612371501obamakeystone1106small11jpgdurationdescriptionlayouturi20151113opinionsspacejunkwt1190fconversationindexhtmlheadlineSpace\" \"junk\" \"Should\" \"we\" \"worriedthumbnailhttpi2cdnturnercomcnnnextdamassets150810185852perseidmeteorshowerorigmg00003606small11jpgdurationdescriptionAccording\" \"the\" \"European\" \"Space\" \"Agency\" \"u003ca\" \"href20151112worldspacejunkimpactfeatindexhtml\" \"targetblanksomething\" \"going\" \"fall\" \"Earth\" \"Fridayu003ca\" \"13\" \"November\" \"layouturi20151115worldcnnphotosparisattacksalexmajoliindexhtmlheadlineIm\" \"just\" \"worried\" \"Photographer\" \"reflectsthumbnailhttpi2cdnturnercomcnnnextdamassets151117130359fullbleedcnnphotosparismajolismall11jpgdurationdescriptionMagnum\" \"photographer\" \"Alex\" \"Majoli\" \"Paris\" \"during\" \"Fridays\" \"terror\" \"attacks\" \"The\" \"next\" \"day\" \"he\" \"walked\" \"the\" \"Parisian\" \"streets\" \"photograph\" \"the\" \"aftermathlayouturi20151115worldparisattacksportraitsindexhtmlheadlineParis\" \"portraits\" \"In\" \"own\" \"wordsthumbnailhttpi2cdnturnercomcnnnextdamassets151115012727parisportraitsteasesmall11jpgdurationdescriptionVigils\" \"have\" \"been\" \"held\" \"across\" \"Paris\" \"the\" \"aftermath\" \"the\" \"u003ca\" \"hrefhttpwwwcnncom20151113worldgalleryparisattacksindexhtml\" \"targetblankterror\" \"attacksu003ca\" \"took\" \"u003ca\" \"hrefhttpwwwcnncom20151115worldparisattacksindexhtmlat\" \"least\" \"129\" \"lives\" \"Fridayu003ca\" \"Photographer\" \"u003ca\" \"hrefhttpwwwgillianlaubcom\" \"targetblankGillian\" \"Laubu003ca\" \"met\" \"people\" \"who\" \"were\" \"out\" \"honoring\" \"the\" \"victims\" \"reflecting\" \"the\" \"tragedy\" \"the\" \"next\" \"day\" \"layouturi20151114worldgalleryparisattackreactionindexhtmlheadlineWorld\" \"reacts\" \"Paris\" \"attacksthumbnailhttpi2cdnturnercomcnnnextdamassets151116220345sydneyoperahouseparistributesmall11jpgdurationdescriptionSee\" \"images\" \"people\" \"around\" \"the\" \"world\" \"rallying\" \"around\" \"France\" \"a\" \"country\" \"shock\" \"mourning\" \"after\" \"deadly\" \"terrorist\" \"attackslayouticonTypegalleryuri20151116worldgalleryparisattacksmanhuntindexhtmlheadlineManhunt\" \"Paris\" \"terror\" \"suspectthumbnailhttpi2cdnturnercomcnnnextdamassets15111615283207parisattacksmanhuntsmall11jpgdurationdescriptionAuthorities\" \"looking\" \"Salah\" \"Abdeslam\" \"a\" \"Belgiumborn\" \"French\" \"national\" \"whos\" \"one\" \"three\" \"brothers\" \"suspected\" \"the\" \"Paris\" \"terror\" \"attackslayouticonTypegalleryuri20151113techpioneerswomenscientistsindexhtmlheadlineWomen\" \"scientists\" \"who\" \"changed\" \"the\" \"world\" \"thumbnailhttpi2cdnturnercomcnnnextdamassets15110619180002ritalevimontalcinirestrictedsmall11jpgdurationdescriptionlayouturi20151108worldcnnphotossyrianchildrenrefugeessleepingindexhtmlheadlineTerror\" \"haunts\" \"refugee\" \"childrenthumbnailhttpi2cdnturnercomcnnnextdamassets15102318115601cnnphotossyrianchildrenteasesmall11jpgdurationdescriptionlayouturi20151026autoscoolest007bondcarsofalltimeindexhtmlheadlineThe\" \"coolest\" \"Bond\" \"cars\" \"all\" \"timethumbnailhttpi2cdnturnercomcnnnextdamassets151023110127bondcarsspectresmall11jpgdurationdescriptionlayouturi20151105opinionsbergenisisonarollindexhtmlheadlineWhy\" \"ISIS\" \"a\" \"rollthumbnailhttpi2cdnturnercomcnnnextdamassets151105103638isisflagtanksmall11jpgdurationdescriptionlayouturi20151029asiachinaonechildpolicypersonaltakeindexhtmlheadlineLife\" \"a\" \"onechild\" \"policy\" \"kidthumbnailhttpi2cdnturnercomcnnnextdamassets151029175652stevenjiangfamilyphotosmall11jpgdurationdescriptionlayouturi20151106architecturewafworldarchitecturefestival2015indexhtmlheadlineAnd\" \"the\" \"World\" \"Building\" \"the\" \"Year\" \"isthumbnailhttpi2cdnturnercomcnnnextdamassets151106142012housingtheinterlacebyomaburoolescheerensingaporesmall11jpgdurationdescriptionIf\" \"you\" \"want\" \"understand\" \"what\" \"the\" \"city\" \"the\" \"future\" \"might\" \"look\" \"like\" \"a\" \"good\" \"place\" \"to\" \"start\" \"would\" \"be\" \"this\" \"weeks\" \"World\" \"Architecture\" \"Festival\" \"WAFlayouturi20151106healthjamesbondspectreaccentsindexhtmlheadlineWhats\" \"so\" \"sexy\" \"about\" \"Bonds\" \"accentthumbnailhttpi2cdnturnercomcnnnextdamassets151022104016spectrefilmstillsmall11jpgdurationdescriptionThe\" \"names\" \"Bond\" \"James\" \"Bondlayouturi20151101asiachinaschoolbullyingindexhtmlheadlineBullying\" \"crisis\" \"rocks\" \"a\" \"nationthumbnailhttpi2cdnturnercomcnnnextdamassets151022033803huangtanghongcloseupsmall11jpgdurationdescriptionLiu\" \"Lizhu\" \"not\" \"aware\" \"her\" \"shy\" \"15yearold\" \"son\" \"had\" \"been\" \"bullied\" \"school\" \"until\" \"he\" \"ended\" \"up\" \"in\" \"hospital\" \"a\" \"ruptured\" \"spleenlayouturi20151012architecturewhatruinporntellsusaboutruinsandpornindexhtmlheadlineWhat\" \"ruin\" \"porn\" \"tells\" \"us\" \"about\" \"ruins\" \"porn\" \"thumbnailhttpi2cdnturnercomcnnnextdamassets151007175713nikifeijenruinsphotography3small11jpgdurationdescriptionAh\" \"porn\" \"Few\" \"words\" \"come\" \"many\" \"preloaded\" \"connotations\" \"assumptions\" \"the\" \"promise\" \"titillation\" \"the\" \"thrill\" \"taboo\" \"the\" \"inherent\" \"air\" \"seediness\" \"Think\" \"u003ca\" \"hrefhttpstheconversationcomstrugglestreetispovertypornwithanextradoseofclassracism41346\" \"targetblankpoverty\" \"pornu003ca\" \"Think\" \"u003ca\" \"hrefhttpfoodporndailycom\" \"targetblankfood\" \"pornu003ca\" \"Think\" \"goodold\" \"fashioned\" \"u003ca\" \"hrefhttpstheconversationcomautopicspornography\" \"targetblankpornpornu003ca\" \"So\" \"what\" \"we\" \"to\" \"make\" \"ruin\" \"porn\" \"the\" \"work\" \"photographers\" \"artists\" \"who\" \"aim\" \"to\" \"communicate\" \"the\" \"romantic\" \"frisson\" \"they\" \"see\" \"rundown\" \"buildingslayouturi20150903luxurygallery11000diamondswallacechanindexhtmlheadlineWorlds\" \"rarest\" \"diamond\" \"masterpiece\" \"thumbnailhttpi2cdnturnercomcnnnextdamassets150904103055wallacechantease2small11jpgdurationdescriptionThe\" \"gallery\" \"above\" \"depicts\" \"a\" \"visual\" \"journey\" \"from\" \"the\" \"origins\" \"where\" \"one\" \"the\" \"worlds\" \"rarest\" \"largest\" \"diamonds\" \"unearthed\" \"to\" \"how\" \"formed\" \"the\" \"core\" \"an\" \"absurdly\" \"lavish\" \"necklace\" \"made\" \"11551\" \"diamonds\" \"hundreds\" \"pieces\" \"jade\" \"jadeite\" \"The\" \"piece\" \"designed\" \"as\" \"a\" \"collaboration\" \"between\" \"jewelry\" \"designer\" \"u003ca\" \"hrefhttpeditioncnncom20141119worldasiahumanfacejewels\" \"targetblankWallace\" \"Chanu003ca\" \"Hong\" \"Kongs\" \"largest\" \"jewelry\" \"retailer\" \"u003ca\" \"hrefhttpwwwchowtaifookcomen\" \"targetblankChow\" \"Tai\" \"Fooku003ca\" \"layouticonTypegalleryuri20150828techmarsphotosalienlifeindexhtmlheadlinePhotos\" \"Proof\" \"life\" \"on\" \"Marsthumbnailhttpi2cdnturnercomcnnnextdamassets150828091044marsiguanasmall11jpgdurationdescriptionlayouturi20151027middleeastinsidesyriafrontlineagainstisisindexhtmlheadlineMen\" \"fighting\" \"ISIS\" \"homemade\" \"weaponsthumbnailhttpi2cdnturnercomcnnnextdamassets151026173358syriaypgfightersgunbulletssmall11jpgdurationdescriptionlayout\" \"registryURL\" \"httpzcdnturnercomadscnnicnnihomepagejs\" \"entitlementSingletons\" \"idadmod85a882a72scriptNamehttpzcdnturnercomadscnnisinglescnnientitlement01jsidadmode74dbd68dscriptNamehttpzcdnturnercomadscnnisinglescnnientitlement02jsidadmod596291844scriptNamehttpzcdnturnercomadscnnisinglescnnientitlement03jsidadmod9a979d11scriptNamehttpzcdnturnercomadscnnisinglescnnientitlement04jsidadmod2b3ba0432scriptNamehttpzcdnturnercomadscnnisinglescnnientitlement05js\" \"zoneIds\" \"intlhomepage1zone1intlhomepage1zone2intlhomepage1zone3intlhomepage1zone4intlhomepage2zone1intlhomepage3zone1intlhomepage3zone2intlhomepage3zone3intlhomepage3zone4\" \"lazyLoad\" \"true\" \"feedback\" \"apiEndpointhttpmailcarcnncomapiv1\" \"News\" \"World\" \"Sport\" \"Technology\" \"Entertainment\" \"Style\" \"Travel\" \"Money\" \"Regions\" \"US\" \"China\" \"Asia\" \"Middle\" \"East\" \"Africa\" \"Europe\" \"Americas\" \"Video\" \"Must\" \"Watch\" \"Videos\" \"Shows\" \"CNN\" \"en\" \"Español\" \"TV\" \"TV\" \"Shows\" \"Schedule\" \"Faces\" \"CNN\" \"Worldwide\" \"Features\" \"Travel\" \"All\" \"Features\" \"Opinions\" \"iReport\" \"More…\" \"Photos\" \"Weather\" \"CNN\" \"Mobile\" \"Tools\" \"amp\" \"Extras\" \"CNN\" \"Profiles\" \"AZ\" \"CNN\" \"Leadership\" \"International\" \"Edition\" \"US\" \"International\" \"Arabic\" \"Español\" \"Set\" \"edition\" \"preference\" \"Confirm\" \"copy\" \"2015\" \"Cable\" \"News\" \"Network\" \"Turner\" \"Broadcasting\" \"System\" \"Inc\" \"All\" \"Rights\" \"Reserved\" \"Terms\" \"of\" \"Use\" \"Privacy\" \"Policy\" \"AdChoices\" \"Advertise\" \"us\" \"About\" \"us\" \"Contact\" \"us\" \"Work\" \"us\" \"Help\" \"Transcripts\" \"License\" \"Footage\" \"CNN\" \"Newsource\" \"function\" \"setRefDomwin\" \"doc\" \"registryFile\" \"var\" \"edition\" \"registryFile\" \"registryFilesplit0\" \"internationaltoUpperCasehost\" \"docreferrerreplacehttpswi\" \"1toLowerCasewinedition\" \"winedition\" \"wineditionadTargets\" \"windoweditionadTargets\" \"hostsearchwmoneycnncom\" \"0\" \"wineditionadTargetsrefdom\" \"money\" \"else\" \"hostsearchwwwwuseditionnextcnncom\" \"0\" \"wineditionadTargetsrefdom\" \"cnn\" \"else\" \"host\" \"tco\" \"wineditionadTargetsrefdom\" \"twitter\" \"else\" \"hostsearchwfacebookcom\" \"0\" \"wineditionadTargetsrefdom\" \"facebook\" \"else\" \"hostsearchwgooglew23ww\" \"0\" \"wineditionadTargetsrefdom\" \"google\" \"else\" \"wineditionadTargetsrefdom\" \"otherif\" \"CNNUtilsexistsCNNcontentModelanalyticscaptopics\" \"wineditionadTargetscapTopics\" \"CNNcontentModelanalyticscaptopicssplitswindow\" \"document\" \"cnnihomepage\" \"try\" \"var\" \"vrq\" \"vrq\" \"vrqIsOnHP\" \"documentbodyclassName\" \"searchpgsection\" \"0\" \"true\" \"falsevrqpushid\" \"396vrqpushautomate\" \"vrqIsOnHPvrqpushtrack\" \"function\" \"function\" \"visualRevenueResponsed\" \"a\" \"var\" \"dcreateElementax\" \"dgetElementsByTagNamea0sasync\" \"truessrc\" \"httpavisualrevenuecomvrsjsxparentNodeinsertBefores\" \"xdocument\" \"script\" \"catch\" \"e\" \"try\" \"var\" \"ua\" \"navigatoruserAgenttoLowerCaseif\" \"uaindexOfiphone\" \"0\" \"uaindexOfandroid\" \"0\" \"uaindexOfipad\" \"0\" \"functionetiftymvoid\" \"0tymvar\" \"mecreateElementscriptmtypetextjavascriptmasync0msrcstaticyieldmocomymm2jsegetElementsByTagNamehead0egetElementsByTagNamebody0appendChildmelse\" \"tym\" \"instanceof\" \"Stringvoid\" \"0tymchkPlstymchkPlsdocumentwindow\" \"catch\" \"e\" \"DY\" \"scsec\" \"8766314API\" \"functionDYAPIactions\" \"DYAPIactions\" \"pusharguments\"\n",
      "{'pregnantthumbnailhttpi2cdnturnercomcnnnextdamassets151113161500babyabdinoormohamadabdiheldbyhisgrandmotherhalimasomodimasmall11jpgdurationdescriptionThe': 1, 'habitatthumbnailhttpi2cdnturnercomcnnnextdamassets15103012262505snowleopardssmall11jpgdurationdescriptionlayouticonTypegalleryuri20151110autosgalleryfamousmoviecarsindexhtmlheadlineHoly': 1, 'all': 1, 'navigatorappVersionindexOfWindows': 1, '0': 8, 'saying': 1, 'green': 1, 'people': 5, 'skit': 1, 'onechild': 1, 'pageTopheadlineauthorshowNameisArticleVideoCollectionfalsepublishDate20151118T132908ZpageBrandingdefaultbrandingcontentpagedefaultbrandingcontentzonedefaultbrandingcontentcontainerdefaultdefiningmomentsbrandingcontentcard': 1, 'Take': 1, 'controversial': 1, 'go': 1, 'Charlie': 1, 'bomber': 2, 'bank': 1, 'whose': 1, 'suicide': 3, 'trueinfo': 1, 'Bonds': 1, 'honoring': 1, 'white': 2, 'Watch': 2, 'young': 1, 'articleListuri20151118worldparisattacksindexhtmlheadlineu003cul': 1, 'Paris': 15, 'finally': 1, 'breakingNewsttl120000urlhttpdatacnncomjsonpbreakingnewsinternationaljsonCNNGoFreePreviewConfig': 1, 'worldthumbnailhttpi2cdnturnercomcnnnextdamassets151116173628shockingadsteasebenettonsmall11jpegdurationdescriptionlayouturi20151113artsgalleryseanyoroglaciermuralindexhtmlheadlineHaunting': 1, 'Carsons': 1, 'terror': 11, 'siblings': 1, 'layouturi20151114worldgalleryparisattackreactionindexhtmlheadlineWorld': 1, 'include': 2, 'falseenableShareButtons': 1, 'Majoli': 1, 'far': 1, 'trueenableAmazonVideoAds': 1, 'aware': 1, 'Stringvoid': 1, 'facebook': 1, 'mechaniclayouticonTypevideouri20151112hotelsgallerymalaysiarainforestresortsindexhtmlheadline12': 1, 'STADIUM': 1, 'hrefhttpwwwchowtaifookcomen': 2, 'trueenableOutbrainVideoKPI': 1, 'blast': 1, 'UTColdCookieNametosAgreedoldCookieExpirationTue': 1, 'school': 1, 'frisson': 1, 'prize': 1, 'hostsearchwmoneycnncom': 1, 'Global': 1, 'Moos': 1, 'setRefDomwin': 1, 'try': 2, 'solved': 1, 'hrefhttpfoodporndailycom': 1, 'red': 2, 'layouticonTypevideourivideosentertainment20151117charliesheenhivpositivetodayshowmssorigcnnheadlineCharlie': 1, 'laborthumbnailhttpi2cdnturnercomcnnnextdamassets131218125900kimjongunwavesmall11jpgdurationdescriptionlayouturi20151008middleeastisisrapetheologysoldiersrapewomentomakethemmuslimindexhtmlheadlineISIS': 1, 'layouturi20151117travelmisscolombianamedindexhtmlheadlineIs': 1, 'Paul': 1, 'Must': 2, 'Tai': 2, 'trueenableAmazonDisplayAds': 1, 'Impact': 1, 'cookies': 2, 'says': 1, 'villa': 1, 'be': 1, 'Festival': 1, 'harder': 1, 'uaindexOfandroid': 1, 'tou003cbrall': 2, 'copy': 1, 'editioncnncommainhomepage': 1, 'Should': 1, 'past': 1, 'ruptured': 1, '1800CNNOptimizelyConfig': 1, 'East': 2, 'targets': 2, 'Red': 1, 'blue': 2, 'aim': 1, 'what': 2, 'Korea': 2, 'storyCNNToggleOutbrain': 1, 'McCafelayouturi20151116politicstrumpsecurityparisattacksindexhtmlheadlineTrump': 1, 'section': 1, 'BREAKING': 1, 'Europethumbnailhttpi2cdnturnercomcnnnextdamassets151105103638isisflagtanksmall11jpgdurationdescriptionlayouturi20151117worldairfranceflightdivertedindexhtmlheadlineFlights': 1, 'current': 1, 'version': 1, 'refreshsubscriptionErrorTextYour': 2, 'above': 2, 'layouticonTypevideouri20151116opinionswaldmanparistrumpiowavotersindexhtmlheadlineIs': 1, 'international': 1, 'fall': 1, 'documentgetElementsByTagNamehtml0Modernizrloadtest': 1, 'CNNcom': 2, 'full16x91101large781medium461mini0small308xsmall221CNNJumbotronConfig': 1, 'million': 1, 'trueenableVideoPinning': 1, 'PARIS': 1, 'ProvidermessageTextKeep': 2, 'never': 2, 'Profiles': 3, 'Patti': 2, 'met': 1, 'WOMAN': 1, 'classmtrusteicon': 1, 'jade': 2, 'c1351000': 1, 'hrefprivacyPrivacy': 1, 'converterServicecommonmodulesiframecurrencyConverterasplookupServiceservicescnndotcomlookupaspserviceHosthttpmarketsmoneycnncomCNNMetaRefreshRate': 1, 'BataclanlayouticonTypevideourivideosus20151118pattilabellesweetpotatopiesreviewersingsmoospkgerincnnheadlineDo': 1, 'hostsearchwfacebookcom': 1, 'appears': 1, 'Yola': 1, 'else': 5, '31': 1, '30': 1, 'haunts': 1, 'experience': 1, 'trueCNNMailchimp': 1, 'functionDYAPIactions': 1, 'women': 1, 'military': 2, 'Arabic': 3, 'NOW': 1, 'Technology': 2, 'chatterlayouturi20151005middleeastyazidiwomensuicideinisiscaptivityindexhtmlheadlineWomen': 1, '396vrqpushautomate': 1, 'timeline': 1, 'Style': 2, '8766314API': 1, 'Privacy': 2, 'WOMANu003cstrong': 1, 'aftermathlayouturi20151115worldparisattacksportraitsindexhtmlheadlineParis': 1, 'breaks': 1, 'brought': 1, 'href': 1, 'TERRORu003cstrong': 1, 'Nigeria': 2, 'crime': 1, 'SecretaryGeneral': 1, 'transplant': 2, 'Europe': 3, 'use': 3, 'from': 7, 'citySearchweathercitySearchenableInHeadertrueenableInFootertruegetForecastweathergetForecastserviceCitySearchHosthttpweathercnncomserviceForecastHosthttpweathercnncomstoredLocationsAmount6CNNZones': 1, 'would': 1, 'trips': 1, 'remains': 2, 'waistlinethumbnailhttpi2cdnturnercomcnnnextdamassets151111130400materaassassinspaghetticsmall11jpgdurationdescriptionTheres': 1, 'hospital': 2, 'visit': 2, 'two': 2, 'next': 5, 'Lomu': 1, 'fortune': 1, 'camera': 2, 'music': 1, 'vehicle': 1, 'films': 1, 'themselves': 1, 'preview': 2, 'type': 1, 'until': 1, 'more': 3, 'pusharguments': 1, 'CNNUtilsexistsCNNcontentModelanalyticscaptopics': 1, 'son': 1, 'sharing': 1, 'Ben': 2, 'Parisian': 1, 'inpersistentCtaTextExperiencetemppassTempPassCNN10minmutedPlayerstartTime0stopInterval30stopTime0timeZoneGMTembedLinksclipboardOperationsSWFhttpicdnturnercomcnnvideoassetsCNNVideoClipboardCopyswfbuttonImagecdnassetpathbuildassetsembedvideobuttonpngimageButtonXOffset0imageButtonYOffset3embedLinkPatternu003ciframe': 1, 'windowconsole': 2, 'rarest': 4, 'occurred': 2, 'Americas': 3, 'Asher': 1, 'Abdi': 1, 'visual': 2, 'So': 1, 'logothumbnailhttpi2cdnturnercomcnnnextdamassets151117023404parissecuritysmall11jpgdurationdescriptionlayouturi20151113opinionsbergenisisjihadijohnindexhtmlheadlineEnd': 1, 'former': 1, 'riding': 1, 'instanceof': 1, 'HIVpositive': 1, 'sectionindexhtmlenablePictureFillfalseenableZonesScrollToLoadfalselazyLoadtrueloadAllZonesLazyfalsezonesminWidth0indexhtmlintlhomepage1zone1indexhtmlintlhomepage1zone2intlindex3htmlintlhomepagemagellanzone1intlindex3htmlintlhomepagemagellanzone2intlindex3htmlintlhomepagemagellanzone3intlindex3htmlintlhomepagemagellanzone4indexhtmlintlhomepage3zone4640indexhtmlintlhomepage1zone1indexhtmlintlhomepage1zone2indexhtmlintlhomepage1zone3indexhtmlintlhomepage1zone4indexhtmlintlhomepage2zone1indexhtmlintlhomepage3zone1indexhtmlintlhomepage3zone2indexhtmlintlhomepage3zone3indexhtmlintlhomepage3zone4800indexhtmlintlhomepage1zone1indexhtmlintlhomepage1zone2indexhtmlintlhomepage1zone3indexhtmlintlhomepage1zone4indexhtmlintlhomepage2zone1indexhtmlintlhomepage3zone1indexhtmlintlhomepage3zone2indexhtmlintlhomepage3zone3indexhtmlintlhomepage3zone4index2htmlenablePictureFilltrueenableZonesScrollToLoadfalselazyLoadtruezonesminWidth0index2htmlintlhomepage1zone1index2htmlintlhomepage1zone2index2htmlintlhomepage1zone3index2htmlintlhomepage1zone4index2htmlintlhomepage2zone1index2htmlintlhomepage3zone1index2htmlintlhomepage3zone2index2htmlintlhomepage3zone3index2htmlintlhomepage3zone4640index2htmlintlhomepage1zone1index2htmlintlhomepage1zone2index2htmlintlhomepage1zone3index2htmlintlhomepage1zone4index2htmlintlhomepage2zone1index2htmlintlhomepage3zone1index2htmlintlhomepage3zone2index2htmlintlhomepage3zone3index2htmlintlhomepage3zone4800index2htmlintlhomepage1zone1index2htmlintlhomepage1zone2index2htmlintlhomepage1zone3index2htmlintlhomepage1zone4index2htmlintlhomepage2zone1index2htmlintlhomepage3zone1index2htmlintlhomepage3zone2index2htmlintlhomepage3zone3index2htmlintlhomepage3zone4CNNSiblingNavigation': 1, 'Chanu003ca': 2, 'subscription': 2, 'me': 1, 'recovering': 1, 'heard': 2, 'this': 3, 'c125920': 1, 'Footage': 1, 'work': 1, 'Taiwanese': 1, 'Few': 1, 'truessrc': 1, 'windoweditionadTargets': 1, 'attacks': 6, 'anywhere': 2, 'Video': 3, 'can': 1, 'of': 1, 'following': 1, 'about': 6, 'refugee': 1, 'Your': 1, 'Inc': 1, 'inpersistentCtaTextExperiencetemppassTempPassCNN10minCNNImageBreakpoints': 1, 'give': 1, 'pie': 2, 'u003cimg': 1, 'campsite': 1, 'hreftermsTerms': 1, 'trumped': 1, 'pieces': 2, 'bones': 1, 'his': 5, 'authorities': 1, 'want': 1, 'Policy': 2, 'organizer': 2, 'dcreateElementax': 1, 'rape': 1, 'Shows': 4, 'thumbnailhttpi2cdnturnercomcnnnextdamassets151117202451newhampshirebodiesmysterypressersot00011822small11jpgdurationdescriptionRecent': 1, 'information': 1, 'Putin': 1, 'Terms': 2, 'width416': 1, 'HIV': 1, 'country': 1, 'hrefhttpeditioncnncom20151110autosfamousmoviecarsbatmanindexhtml': 1, 'watching': 2, 'isthumbnailhttpi2cdnturnercomcnnnextdamassets151106142012housingtheinterlacebyomaburoolescheerensingaporesmall11jpgdurationdescriptionIf': 1, '1': 3, 'very': 1, 'titillation': 1, 'env': 1, 'interview': 1, 'classjstrustemodalCookie': 1, 'designer': 2, 'HAPPENING': 1, 'License': 1, 'inherent': 1, 'after': 8, 'Paristhumbnailhttpi2cdnturnercomcnnnextdamassets151116220345sydneyoperahouseparistributesmall11jpgduration0112descriptionFamiliar': 1, 'jadeite': 2, 'frameborder0u003ciframenetworkcnnCNNWeatherConfig': 1, 'trueenableJumbotronAutoScroll': 1, 'enableGalleryAds': 1, 'fashioned': 1, 'CNNSocialConfig': 1, 'httpavisualrevenuecomvrsjsxparentNodeinsertBefores': 1, 'Syria': 1, 'seediness': 1, 'solidarity': 1, 'ISISthumbnailhttpi2cdnturnercomcnnnextdamassets150226160941leaddntsciuttojihadijohnunmasked00000000small11jpgdurationdescriptionlayouturivideosworld20151118parisraidsexplosionsgunfiregoranibermancnnheadlineExplosions': 1, 'a': 14, 'All': 3, 'Reserved': 1, 'goodold': 1, 'Mexico': 1, 'Series': 2, 'u003ca': 18, 'anytime': 2, 'st': 1, 'tale': 2, 'Middle': 2, 'chief': 1, 'Weather': 4, 'so': 2, 'ultimate': 1, 'necklace': 2, 'httptrafficoutbraincomnetworktrackpxladvid814actionviewCNNPushAlertsConfig': 1, 'enableAdLock': 1, 'DYAPIactions': 1, 'Mississippi': 1, 'six': 1, 'feedback': 1, 'office': 1, 'Jay': 1, 'Breaking': 2, 'Use': 1, 'CNNcontentModel': 1, 'years': 1, 'Jan': 2, 'held': 1, 'falseCNNAdsConfig': 1, 'its': 4, 'operative': 2, 'Cable': 1, 'Think': 3, 'Raid': 1, 'took': 1, 'Schedule': 2, 'somewhere': 1, 'weaponsthumbnailhttpi2cdnturnercomcnnnextdamassets151026173358syriaypgfightersgunbulletssmall11jpgdurationdescriptionlayout': 1, 'sexiest': 1, 'moreu003ca': 1, 'detected': 1, 'everthumbnailhttpi2cdnturnercomcnnnextdamassets151117102052cartagenafestivalprofilesmall11jpgdurationdescriptionlayouturi20151116fashionadvertsthatchangedtheworldindexhtmlheadlineLook': 1, 'attended': 1, 'supportedmessageTextThank': 1, '2015': 3, 'World': 6, 'weeks': 1, 'cool': 1, 'might': 1, 'happened': 1, 'Maikano': 1, 'them': 3, 'evening': 1, 'return': 6, 'than': 2, 'Mobile': 3, 'retailer': 2, '84yearold': 1, 'Modernizrfontfacecomplete': 1, 'safariwebServiceURLhttpsalertshubcnncomdistributionhubwebsitePushIDwebcomcnnredalertCNNadTimers': 1, 'records': 1, 'autoScrollEnabledfalseautoScrollInterval8000pauseAutoscrollWhenInvisibletruepauseVideoWhenInvisibletrueresponsiveContainerConstraintsmobile480tablet800desktop2500scrollPausesJumbotronInterval5000CNNLazyLoad': 1, 'they': 1, 'Ban': 1, 'leopards': 1, 'now': 2, 'killed': 1, 'developments': 2, 'mystery': 1, 'going': 2, 'document': 1, 'thrill': 1, 'In': 1, 'Fooku003ca': 2, 'raidu003cliu003cstrongu003cstrongu003cliFate': 1, 'arrested': 2, 'Abdeslam': 1, 'iReport': 2, 'ATTACK': 1, 'truth': 2, 'debug': 1, 'found': 2, 'positivethumbnaildurationdescriptionlayouturi20151117ustexascampsitemurderindexhtmlheadline6': 1, 'Sport': 2, 'concerts': 2, 'falseenableOmniture': 1, 'docreferrerreplacehttpswi': 1, 'barrels': 2, 'injured': 1, 'pageType': 1, 'en': 2, 'Sharapovathumbnailhttpi2cdnturnercomcnnnextdamassets151118093216mirzateasesmall11jpgdurationdescriptionlayouturi20151117travelchinahangzhouoldvillamcdonaldsindexhtmlheadlineWorlds': 1, 'Network': 1, 'series': 1, 'Live': 1, 'our': 2, 'worried': 1, 'comic': 1, 'out': 2, 'layouticonTypegalleryuri20151110travelgallerynewthemeparksof2015indexhtmlheadlineThe': 1, 'PREGNANT': 1, 'More\\xe2\\x80\\xa6': 2, 'looking': 1, 'Flag': 1, 'China': 2, '7': 1, 'targetblanktroubleshooting': 2, 'attacksu003ca': 1, 'math': 1, 'shows': 2, 'c115840': 1, 'earlier': 1, 'housed': 1, 'Rights': 1, 'diesthumbnailhttpi2cdnturnercomcnnnextdamassets151118091723jonahlomuobitrunsmall11jpgdurationdescriptionlayouturi20151118tennissaniamirzatennisindiaindexhtmlheadlineHow': 1, 'cars': 2, 'reacts': 1, 'spasthumbnailhttpi2cdnturnercomcnnnextdamassets151013174525snakespasmall11jpgdurationdescriptionlayouturi20151118foodanddrinkitalyforeatersfooddestinationsindexhtmlheadlineItalian': 1, 'winedition': 1, 'mourning': 1, 'thumbnailhttpi2cdnturnercomcnnnextdamassets151112024037peshmergafightersmall11jpgdurationdescriptionlayouturi20151117politicsisisputinobamaindexhtmlheadlineISIS': 1, 'masterpiece': 1, 'Architecture': 1, 'Serious': 2, 'hrefhttpwwwgillianlaubcom': 1, 'beginning': 1, 'registryFilesplit0': 1, 'alteredlayouturivideosus20151115snlsaturdaynightlivebencarsonviolentpastorigbtscnnheadlineSNL': 1, '1toLowerCasewinedition': 1, 'trueenableAspenForTOS': 1, 'mecreateElementscriptmtypetextjavascriptmasync0msrcstaticyieldmocomymm2jsegetElementsByTagNamehead0egetElementsByTagNamebody0appendChildmelse': 1, 'Videos': 2, 'photographers': 1, 'Money': 2, 'could': 1, 'persists': 2, 'calories': 1, 'hrefhttpwwwcnncom20151113worldgalleryparisattacksindexhtml': 1, 'turn': 1, 'dgetElementsByTagNamea0sasync': 1, 'place': 2, 'threat': 3, 'rainforest': 1, 'togetherthumbnailhttpi2cdnturnercomcnnnextdamassets150929145850mexicoobamaputin2012small11jpgdurationdescriptionlayouturi20151118asianorthkoreabankimoonvisitindexhtmlheadlineUN': 1, 'huntthumbnailhttpi2cdnturnercomcnnnextdamassets151117162340frenchsoldierfighterjetsmall11jpgdurationdescriptionlayouturi20151117europegermanynetherlandssoccercanceledindexhtmlheadlineu003cstrongSTADIUM': 1, 'classcnnrichtextu003cstrongu003cliFemale': 1, 'HIVpositivethumbnailhttpi2cdnturnercomcnnnextdamassets15111618361916charliesheenthroughtheyearssmall11jpgduration0126descriptionActor': 1, 'Bondlayouturi20151101asiachinaschoolbullyingindexhtmlheadlineBullying': 1, 'Cooper': 2, 'trueCNNFeeds': 1, 'reveals': 1, 'falselog': 1, 'Please': 3, 'Asia': 2, 'one': 6, 'targetblankChow': 2, 'least': 2, 'president': 2, 'minutethumbnailhttpi2cdnturnercomcnnnextdamassets151116191441pariscrimescenesmall11jpgduration0109descriptionA': 1, 'blows': 2, 'bullied': 1, 'destinations': 1, 'city': 3, 'North': 2, 'service': 2, 'script': 1, 'unknown': 2, 'caught': 2, 'porn': 4, 'girls': 2, 'Syriau003cstrongu003cliu003culthumbnailhttpi2cdnturnercomcnnnextdamassets15111805223507saintdenisraid1118small11jpgdurationdescriptionlayouturi20151116europeparisterrorattackmastermindabdelhamidabaaoudindexhtmlheadlineu003cstrongATTACK': 1, '2015thumbnailhttpi2cdnturnercomcnnnextdamassets141224103144attractions2015funtasyislandsmall11jpgdurationdescriptionlayouticonTypegalleryuri20151109worldgalleryclimatechange4degreesindexhtmlheadlineWhat': 1, 'phenomenonlayouticonTypevideourivideosworld20151113skateboardingbulldogbreaksrecordzianasherpkgcnnheadlineSkateboarding': 1, 'whos': 1, 'attack': 2, '2': 1, 'time': 1, 'stricthtmlclassName': 1, 'Iraq': 1, 'reportslayouticonTypevideourivideosworld20151116parisattackswomanhangingfromwindowledgecooperdntaccnnheadlinePregnant': 1, '2115': 2, 'Fridayu003ca': 2, 'thumbnailhttpi2cdnturnercomcnnnextdamassets151116161349facetransplant01small11jpegduration0149description41yearold': 1, 'Search': 2, 'murder': 1, 'homemade': 1, 'bulldog': 2, 'Patrick': 1, 'threshold640': 1, 'onceinalifetime': 1, 'icebergthumbnailhttpi2cdnturnercomcnnnextdamassets151113133013yoroicetease1small11jpgdurationdescriptionlayouticonTypegalleryuri20151112traveldronestagramdronephotographyphotoartsocialindexhtmlheadlineDrone': 1, 'reflecting': 1, 'adobeEnvironmentprodaspenContextprev10endSlatectaTextSign': 1, 'Belgiumborn': 1, 'documentbodyclassName': 1, 'France': 2, 'inconvenient': 2, 'faultthumbnailhttpi2cdnturnercomcnnnextdamassets131130213718paulwalkersmall11jpgdurationdescriptionPorsche': 1, 'affiliatesrchttpicdntravelcnncomsitesalllibrariesaffiliatelinkercnntravelaffiliatelinkerjspartnerHotelsapiKeyE6E67BB01FD2467688ED25D5F5BC095AapiBaseUrlhttpapitripadvisorcomapipartner20locationservicePathservicestravelpartnerHotelswidgetapiKeyE6E67BB01FD2467688ED25D5F5BC095AsrchttpicdntravelcnncomsitesalllibrariescnntravelcnntravelmapsjsmapapiMapboxapiKeypkeyJ1IjoiY25uZGlnaXRhbCIsImEiOiJhMmI0NTFkNWMzNmMyODU4NTQyMjQzNWFkM2I5OGFkMCJ9S01hv9vVgIbHvy1QuAsoyQoptionsKeymapboxaccesstokenCNNUserMessageConfig': 1, '13': 1, 'Set': 2, 'communicate': 1, 'Features': 4, 'Sep': 2, 'structures': 1, 'sectionName': 1, 'Anderson': 3, 'sfstartptnew': 1, 'Edition': 2, 'Latest': 2, 'future': 1, 'contrary': 1, 'were': 5, 'trueenableAspenForCVP': 1, 'Advertise': 1, 'hrefhttpwwwcnncom20151115worldparisattacksindexhtmlat': 1, 'thumbnailhttpi2cdnturnercomcnnnextdamassets151007175713nikifeijenruinsphotography3small11jpgdurationdescriptionAh': 1, 'Click': 2, 'intlhomepage1zone1intlhomepage1zone2intlhomepage1zone3intlhomepage1zone4intlhomepage2zone1intlhomepage3zone1intlhomepage3zone2intlhomepage3zone3intlhomepage3zone4': 1, 'browser': 2, 'otherif': 1, 'portraits': 1, 'partnership': 2, 'turned': 1, 'Regions': 2, 'amznkey3288': 1, 'Walkers': 1, 'have': 3, 'DY': 1, 'Dozens': 1, 'tells': 1, 'forced': 1, 'clung': 2, 'policy': 1, 'recreated': 1, 'suspectthumbnailhttpi2cdnturnercomcnnnextdamassets15111615283207parisattacksmanhuntsmall11jpgdurationdescriptionAuthorities': 1, 'enableForCarouselstrueenableForImagestruethreshold300CNNFeatures': 1, 'self': 2, 'ISISthumbnailhttpi2cdnturnercomcnnnextdamassets15111212445701trump1112small11jpgdurationdescriptionlayouturi20151113africakenyamostdangerousplacetobepregnantindexhtmlheadlineMost': 1, 'uaindexOfipad': 1, 'snow': 1, 'shocked': 1, 'Photos': 3, 'Germany': 2, 'warmerthumbnailhttpi2cdnturnercomcnnnextdamassets151109134020climatechange4degreessmall11jpgdurationdescriptionlayouticonTypegalleryuri20150903luxurygallery11000diamondswallacechanindexhtmlheadlineWhat': 1, 'which': 1, 'destroy': 3, 'many': 2, 'Dr': 1, 'interval20isVisibletruepageTypesectionresetDelay3resetThreshold17sectionNameintlhomepage': 1, '0tymvar': 1, 'trueenableZoneOutbrain': 1, 'registryFile': 2, 'hrefhttpeditioncnncom20141119worldasiahumanfacejewels': 2, 'collaboration': 2, 'expires': 2, 'targetblankfood': 1, 'Aliyu': 1, 'most': 3, 'said': 1, 'Salah': 1, '72': 1, 'lauded': 1, 'The': 7, 'zoneIds': 1, 'CNNeventTimers': 1, 'Policyu003ca': 1, 'Bond': 2, 'sexy': 1, 'ProvidertroubleShootingTextIf': 2, 'Google': 1, '000000': 4, 'mobile': 1, 'doc': 1, 'professor': 1, 'searchpgsection': 1, 'metal': 1, 'sale': 1, 'ParislayouticonTypevideourivideoshealth20151116facetransplantsurgerypatientnyufacialplasticorigcnnheadlineFirefighter': 1, 'face': 4, 'targetblankWallace': 2, 'Batmobile': 1, 'Earth': 1, 'Saturday': 1, 'fact': 1, 'targetblankRead': 1, 'windowthumbnailhttpi2cdnturnercomcnnnextdamassets151116204555parisattackswomanhangingfromwindowledgecooperdntac00002405small11jpgduration0212descriptionCNNs': 1, 'bomb': 7, '26yearold': 1, 'ATTACKS': 1, 'navigatoruserAgenttoLowerCaseif': 1, 'fond': 1, 'hrefhttpstheconversationcomautopicspornography': 1, 'visualRevenueResponsed': 1, 'volunteer': 1, 'serving': 1, 'retreatsthumbnailhttpi2cdnturnercomcnnnextdamassets151112120511malaysiarainforestresortsdatailangkawismall11jpgdurationdescriptionlayouticonTypegalleryuri20151112opinionsgallerysnowleopardsindexhtmlheadlineGloomy': 1, 'fwNetworkId': 1, 'href20151112worldspacejunkimpactfeatindexhtml': 1, 'soldiers': 1, 'European': 1, 'access': 2, 'classtroubleshootinglink': 2, 'terrorthumbnailhttpi2cdnturnercomcnnnextdamassets150806193341calaismigrantssmall11jpgdurationdescriptionlayouturi20151113opinionskennedysyriavietnamindexhtmlheadlineSyria': 1, 'layout': 1, 'just': 1, 'CNNs': 1, 'title': 1, 'Vietnamthumbnailhttpi2cdnturnercomcnnnextdamassets15110612371501obamakeystone1106small11jpgdurationdescriptionlayouturi20151113opinionsspacejunkwt1190fconversationindexhtmlheadlineSpace': 1, 'viralthumbnailhttpi2cdnturnercomcnnnextdamassets151117201220bataclanpastconcertsmall11jpgduration0123descriptionFollowing': 1, 'ruin': 2, 'Muslim': 1, 'French': 4, 'ChangedmessageTextBy': 1, 'theme': 1, 'Leadership': 3, 'TERROR': 1, '8': 1, 'tym': 1, 'local': 1, 'hope': 2, 'junk': 1, 'abused': 1, 'Pharoah': 1, 'specialstitleTextYour': 2, '2015thumbnailhttpi2cdnturnercomcnnnextdamassets151112172906trudeaucabinetsmall11jpgdurationdescriptionlayouturi20151116opinionsclosingmigrationrouteswontstopterrorismindexhtmlheadlineMigrant': 1, 'get': 3, 'air': 1, 'diamonds': 4, 'stop': 1, 'photograph': 1, 'sectionentertainmentenableFooterfalseenableIncludetruehealthenableFooterfalseenableIncludetruelivingenableFooterfalseenableIncludetruepoliticsenableFooterfalseenableIncludetruetechenableFooterfalseenableIncludetruetravelenableFooterfalseenableIncludetrueusenableFooterfalseenableIncludetrueworldenableFooterfalseenableIncludetrueCNNMarketsConfig': 1, 'yielded': 1, 'amazon': 1, 'made': 2, 'words': 1, 'new': 1, 'Quick': 1, 'during': 4, 'Jeanne': 1, 'him': 1, 'becomes': 1, 'romantic': 1, 'Opinions': 2, 'Because': 1, 'Help': 1, 'lavish': 2, 'avatarhostavatarcnncomembedscriptsinstagramjsplatforminstagramcomenUSembedsjstwitterjsplatformtwittercomwidgetsjslivefyrejscdnlivefyrecomLivefyrejsgigyaappId3gtUbleJNtrRITgx1mMci7GcIrH8xL9WVfAbzSa4zpFrRwnpqeYd8QTRkr7VCenableOnLeaftrueenableOnFirstZonetrueshareStatsPostURLhttpactioneventcnncomapiv1eventaddEventlivefyremobileCommentsBaseUrlhttpcnnbootstrapfyrecoapi11publiccommentsncommentsnetworkcnnfyrecositeId353270srcDomainhttpcdnlivefyrecomappembedappembed066msibauthUrlcnncommentslivefyreauthenticationbaseUrlhttpsaudiencecnncomservicescnnerrorUrlcnncommentslivefyreerrorloginUrlcnncommentslivefyreloginwhatsappbaseUrlwhatsappsendtextCNN': 1, 'shy': 1, 'Laubu003ca': 1, 'Texaslayouturi20151116middleeastlebanonadeltermosbeirutheroindexhtmlheadlineHero': 1, 'CNNpageTimer': 1, 'absurdly': 2, 'public': 1, 'Hardison': 1, 'Toggle': 1, 'stupid': 1, 'spleenlayouturi20151012architecturewhatruinporntellsusaboutruinsandpornindexhtmlheadlineWhat': 1, 'Female': 1, 'dangerous': 1, 'aftermath': 1, 'where': 2, 'restaurants': 1, 'UTCheightsmall120medium100large110idtrusteheaderTextCookie': 1, 'entertainmentzoneadIdadrectbtf02outBrainIdAR38healthzoneadIdadrectatf01outBrainIdSF8livingzoneadIdadrectatf01outBrainIdSF9politicszoneadIdadrectatf01outBrainIdSF6techzoneadIdadrectatf01outBrainIdSF7travelzoneadIdadrectatf01outBrainIdSF10uszoneadIdadrectatf01outBrainIdSF4worldzoneadIdadrectatf01outBrainIdSF5CNNTripAdvisor': 1, 'attacksthumbnailhttpi2cdnturnercomcnnnextdamassets151116220345sydneyoperahouseparistributesmall11jpgdurationdescriptionSee': 1, 'national': 2, 'testing': 1, 'vrq': 2, '1960s': 1, 'scenes': 1, 'edition': 4, 'see': 3, 'attackslayouticonTypevideourivideostv20151116paristerrorattackstictocmobileorigcnnheadlineParis': 1, 'surgery': 1, 'thumbnailhttpi2cdnturnercomcnnnextdamassets150904103055wallacechantease2small11jpgdurationdescriptionThe': 1, 'best': 1, 'Worldwide': 2, 'County': 1, 'System': 1, '01': 4, 'threats': 1, 'htmlclassNamereplacebfontfaceb': 1, 'tackling': 1, 'movie': 1, 'away': 1, 'forecast': 1, 'bathed': 1, 'preferencesu003ca': 1, 'crisis': 1, 'Sheen': 3, 'ISISthumbnailhttpi2cdnturnercomcnnnextdamassets150318083603cnneepkgbrownpamelajihadijohnprofile00002425small11jpgdurationdescriptionlayouturi20151113opinionsodomdiversitystilllackingconferencesindexhtmlheadlineTrudeaus': 1, 'Freedom': 1, 'targetblankpornpornu003ca': 1, 'across': 1, 'we': 4, 'do': 2, 'rolled': 1, 'entitlementSingletons': 1, 'layouticonTypegalleryuri20151117opinionsmulvaneyfacebookfrenchflagindexhtmlheadlineEnough': 1, 'idie8headerTextInternet': 1, 'nationthumbnailhttpi2cdnturnercomcnnnextdamassets151022033803huangtanghongcloseupsmall11jpgdurationdescriptionLiu': 1, 'clues': 1, 'news': 1, 'companionAdStates': 1, 'cities': 1, 'getAirportDataairportstatusserviceHosthttpservicesfaagovCNNBannerBreakpoints': 1, 'TODAY': 1, 'improve': 1, 'assumptions': 1, 'accident': 1, 'height234': 1, 'restaurant': 1, 'joke': 1, 'region': 1, 'according': 1, 'blasts': 1, 'Nigerian': 2, 'siegethumbnailhttpi2cdnturnercomcnnnextdamassets151118044246franceparispoliceshootoutsmall11jpgduration0056descriptionA': 1, 'Contact': 1, 'Mosul': 1, 'devicedismissCookienameNotifiedIE8SupportvaluetrueexpirationTue': 1, 'Zap': 1, 'cnncomif': 1, 'srchttphostvideoapiembedhtmlvideovideoId': 1, 'lazyLoad': 1, 'httpzcdnturnercomadscnnicnnihomepagejs': 1, 'sweet': 1, 'Travel': 4, 'Faces': 2, 'killedlayouturi20151117africariemannhypothesisunsolvedindexhtmlheadline156yearold': 1, 'dielayouturi20151115healthfacetransplantfirefighterindexhtmlheadlineMost': 1, 'unfolded': 3, 'laugh': 1, 'sing': 2, 'freak': 1, 'Proof': 1, 'idadmod85a882a72scriptNamehttpzcdnturnercomadscnnisinglescnnientitlement01jsidadmode74dbd68dscriptNamehttpzcdnturnercomadscnnisinglescnnientitlement02jsidadmod596291844scriptNamehttpzcdnturnercomadscnnisinglescnnientitlement03jsidadmod9a979d11scriptNamehttpzcdnturnercomadscnnisinglescnnientitlement04jsidadmod2b3ba0432scriptNamehttpzcdnturnercomadscnnisinglescnnientitlement05js': 1, 'earning': 1, 'custody': 1, 'RINGLEADER': 2, 'Crunch': 1, 'unusual': 1, 'recordthumbnailhttpi2cdnturnercomcnnnextdamassets151113023136skateboardingbulldogbreaksrecordzianasherpkg00002628small11jpgduration0114descriptionOtto': 1, 'vrqIsOnHP': 1, 'come': 1, 'window': 2, 'editioncnncommobilemobilewebhomepage': 1, 'backlash': 1, 'intlhomepage': 1, 'Phone': 1, 'Brooklyn': 1, 'reportslayouturi20151117healthcharliesheenhealthindexhtmlheadlineCharlie': 1, 'interest': 1, 'degrees': 1, 'Heroes': 1, 'Serviceu003cadismissCookienameCNNtosAgreedvaluetrueexpirationTue': 1, 'Work': 1, 'website': 1, 'life': 4, 'pastthumbnailhttpi2cdnturnercomcnnnextdamassets151115083935snlsaturdaynightlivebencarsonviolentpastorigbts00011620small11jpgduration0124descriptionDuring': 1, 'diversity': 1, 'c1451080CNNCNNXStreamUrl': 1, 'designed': 2, 'formed': 2, 'Cross': 1, 'photos': 1, 'diverted': 2, 'dramatic': 1, 'lives': 2, 'Night': 1, 'catch': 2, 'suspected': 3, 'an': 3, 'WAR': 2, '129': 1, 'trueenableBreakingNews': 1, 'case': 1, 'targetblankpoverty': 1, 'trueenableUserMessage': 1, 'look': 3, 'trueenableVideoEndSlate': 1, 'these': 1, 'Intl': 1, 'layouticonTypegalleryuri20150828techmarsphotosalienlifeindexhtmlheadlinePhotos': 1, 'Espa\\xc3\\xb1ol': 5, 'routes': 1, 'excited': 1, 'Agency': 1, 'tragedy': 1, 'typeof': 1, 'error': 4, 'investigating': 1, 'courselayouturi20151117foodanddrinkrestaurantshardtogetintoindexhtmlheadline9': 1, 'Alex': 1, 'Tuesday': 1, 'coolest': 1, 'layouturi20151115worldcnnphotosparisattacksalexmajoliindexhtmlheadlineIm': 1, 'internationaltoUpperCasehost': 1, 'changed': 1, 'thatll': 1, 'played': 1, 'Photographer': 2, 'blood': 2, 'site': 2, 'good': 1, 'gunfire': 1, 'reports': 3, 'leaderthumbnailhttpi2cdnturnercomcnnnextdamassets15111613231101abdelhamidabaaoudsmall11jpgdurationdescriptionlayouturi20151118europeparisattacksataglanceindexhtmlheadlineu003cstrongHAPPENING': 1, 'in': 1, 'claimed': 1, 'terrorist': 1, 'falsetimeStamp': 1, 'pay': 2, 'make': 3, 'xdocument': 1, 'who': 3, 'REMEMBERED': 1, 'html': 1, 'carsthumbnailhttpi2cdnturnercomcnnnextdamassets15110913431220batmobilerestrictedsmall11jpgdurationdescriptionKapow': 1, 'c105760': 1, 'hostsearchwgooglew23ww': 1, 'votersthumbnailhttpi2cdnturnercomcnnnextdamassets151114144356donaldtrumpnovember132015small11jpgdurationdescriptionlayouturi20151029asianorthkoreaunforcedlaboroverseasindexhtmlheadlineNorth': 1, 'CNNcontentModelanalyticscaptopicssplitswindow': 1, 'AdChoices': 1, 'httpgocnncomstreamCNNDemandLoadConfig': 1, 'expirederrorSlatedefaultTextAn': 2, 'blaststhumbnailhttpi2cdnturnercomcnnnextdamassets150325082152socialgfxcnnlogosmall11jpgdurationdescriptionAt': 1, 'About': 1, 'raid': 4, 'I': 1, 'gallery': 2, 'CNNgou003cbrSign': 2, 'mobileSSID': 1, '11551': 2, 'suburb': 1, 'Marsthumbnailhttpi2cdnturnercomcnnnextdamassets150828091044marsiguanasmall11jpgdurationdescriptionlayouturi20151027middleeastinsidesyriafrontlineagainstisisindexhtmlheadlineMen': 1, 'uaindexOfiphone': 1, 'blamed': 1, 'NOWu003cstrong': 1, 'officiallayouturi20151117opinionsisisnomilitaryanswerpatonwalshindexhtmlheadlineThe': 1, 'suburbthumbnailhttpi2cdnturnercomcnnnextdamassets15111802450801saintdenisraid1118small11jpgduration0226descriptionlayouticonTypevideouri20151117worldturkeyjihadijohnassociateindexhtmlheadlineISIS': 1, 'childrenthumbnailhttpi2cdnturnercomcnnnextdamassets15102318115601cnnphotossyrianchildrenteasesmall11jpgdurationdescriptionlayouturi20151026autoscoolest007bondcarsofalltimeindexhtmlheadlineThe': 1, 'undefined': 1, 'u003cliu003cstrongu003cstrongu003cliFrench': 1, 'makes': 1, 'ua': 1, 'smokes': 1, 'magical': 1, 'fighting': 1, 'desktopSSID': 1, 'contact': 2, 'Have': 1, 'Batman': 2, 'claims': 1, 'the': 26, '1million': 1, 'Tools': 3, 'scientists': 1, 'bodies': 1, 'She': 2, 'cnnihomepage': 1, 'Fardowsa': 1, 'c000': 1, 'Service': 5, 'moments': 1, 'money': 1, 'navigatorappVersionindexOfWP7': 1, 'not': 2, 'instructionsu003cagoSmartLinkhttpcnnitgopersistentCtacobrandingTextIn': 2, 'kill': 1, 'parks': 1, 'using': 2, 'reviewer': 1, 'Closing': 1, 'to': 4, 'rundown': 1, 'death': 2, 'ads': 1, 'candidate': 1, 'labelsmallminWidth0labellargeminWidth768': 1, 'analytics': 1, 'photographer': 1, 'had': 2, 'day': 3, 'scsec': 1, 'streets': 1, 'Fridays': 1, '4': 2, 'win': 1, 'News': 7, 'extensive': 1, 'has': 10, 'By': 1, 'match': 1, 'Building': 1, 'wont': 1, 'northeastern': 1, 'victims': 2, 'around': 3, 'spectacular': 1, 'worlds': 5, 'CNNgo': 2, 'James': 1, 'survival': 2, 'matchthumbnailhttpi2cdnturnercomcnnnextdamassets15111715584804germanystadiumevacrestrictedsmall11jpgdurationdescriptionlayouturivideosworld20151116parisattackswomanhangingfromwindowledgecooperdntaccnnheadlineu003cstrongPREGNANT': 1, 'Project': 1, 'targetblankGillian': 1, 'historic': 1, 'know': 1, 'amp': 3, 'Transcripts': 1, 'depicts': 2, 'reflectsthumbnailhttpi2cdnturnercomcnnnextdamassets151117130359fullbleedcnnphotosparismajolismall11jpgdurationdescriptionMagnum': 1, 'pies': 1, 'Trump': 1, 'ON': 2, 'Fashion': 1, 'OK': 2, 'like': 5, 'Links': 1, 'sofa': 1, 'hunt': 1, '2016thumbnailhttpi2cdnturnercomcnnnextdamassets151112112741kenya1creditaksmall11jpgdurationdescriptionlayouturi20151115traveldetoxspasindexhtmlheadline9': 1, 'preference': 2, 'theyre': 1, 'wineditionadTargetscapTopics': 1, 'windowdocumentdomain': 1, 'withcountdownTextPreview': 2, 'OS': 1, 'page': 1, 'names': 2, 'mathematical': 1, 'right': 1, 'shabby': 1, 'Entertainment': 3, 'Guinness': 1, 'kidthumbnailhttpi2cdnturnercomcnnnextdamassets151029175652stevenjiangfamilyphotosmall11jpgdurationdescriptionlayouturi20151106architecturewafworldarchitecturefestival2015indexhtmlheadlineAnd': 1, 'twitter': 1, 'seenthumbnailhttpi2cdnturnercomcnnnextdamassets151013141121dronestagramchristtheredeemersmall11jpgdurationdescriptionlayouturi20151117entertainmentpaulwalkerdeathlawsuitindexhtmlheadlinePaul': 1, 'back': 1, 'dead': 5, 'hair': 1, '0tymchkPlstymchkPlsdocumentwindow': 1, 'Year': 1, 'capitallayouticonTypevideourivideosworld20151117parisattacksbataclanmemoriestwitterorigcnnheadlineMemories': 1, 'LaBelle': 1, 'UTCheightsmall140medium120large130idtosheaderTextOur': 1, 'solvedthumbnailhttpi2cdnturnercomcnnnextdamassets151117130958einsteinequationsmall11jpgdurationdescriptionA': 1, 'escape': 1, 'images': 1, 'International': 4, 'rocks': 1, 'brothers': 1, 'targetblankterror': 1, 'c85600': 1, 'falsevrqpushid': 1, 'jewelry': 4, 'spoofs': 1, 'memories': 1, 'tco': 1, 'unearthed': 2, 'bomberthumbnailhttpi2cdnturnercomcnnnextdamassets151116133943adeltermosmournersbeirutbombingssmall11jpgdurationdescriptionlayouturi20151117usnewhampshirebodiesmysteryindexhtmlheadlineNew': 1, 'hrefcookieTell': 1, 'does': 2, 'Facebook': 2, 'provider': 2, 'cnn': 1, 'prod': 1, 'leader': 2, 'wordsthumbnailhttpi2cdnturnercomcnnnextdamassets151115012727parisportraitsteasesmall11jpgdurationdescriptionVigils': 1, '156yearold': 1, 'core': 2, 'ShowlayouticonTypevideourivideosworld20151116parisattackslandmarksturnbluewhiteredorigsdgcnnheadlineLandmarks': 1, 'trueerror': 1, 'pornu003ca': 2, 'e': 2, 'Kongs': 2, 'continuing': 1, 'crammed': 1, 'attackslayouticonTypegalleryuri20151113techpioneerswomenscientistsindexhtmlheadlineWomen': 1, 'hrefwwwcnncomhelpcnngotroubleshootinghtml': 2, 'host': 1, 'Kimoon': 1, 'Kenya': 1, 'taboo': 1, 'wineditionadTargetsrefdom': 6, 'between': 2, 'Explorer': 1, 'thumbnailhttpi2cdnturnercomcnnnextdamassets15110619180002ritalevimontalcinirestrictedsmall11jpgdurationdescriptionlayouturi20151108worldcnnphotossyrianchildrenrefugeessleepingindexhtmlheadlineTerror': 1, 'on': 1, 'dismissCookienametrusteConsentvaluetrueexpirationskiptrueheightsmall135medium110large130CNNVideoConfig': 1, 'rallying': 1, 'world': 4, 'falsewarn': 1, 'fwProfile': 1, 'everthumbnailhttpi2cdnturnercomcnnnextdamassets151116113726facetransplantsplithardisonsmall11jpgdurationdescriptionlayouturi20151113travelluxurytravel2016indexhtmlheadline10': 1, 'urlcdnoptimizelycomjs128727546jsCNNOutbrainVideoKPISrc': 1, 'favorite': 3, 'US': 5, 'browse': 1, 'LaBellethumbnailhttpi2cdnturnercomcnnnextdamassets151117202405pattilabellesweetpotatopiesreviewersingsmoospkgerin00000911small11jpgduration0207descriptionPattis': 1, 'attackslayouticonTypevideourivideosworld20151118franceparisattackraidexplosionsshubertlklvcnnheadlineAs': 1, 'Bataclan': 1, 'youve': 1, 'bike': 1, 'Hong': 2, 'own': 4, 'u003cstrongRaid': 1, 'Blacks': 1, 'thumbnaildurationdescriptionSitting': 1, 'hereu003ca': 1, 'puzzle': 1, 'apiloaderBaseURLFULLPATHhttpwwwcnncomelementwidgetvideovideoapiapiloaderBaseURLelementwidgetvideovideoapiapiloaderBaseURLLocalhttplocalhostcnncom3000buildapiversionlatestcollectionplayNextVideoTimeout1500goFreePreviewadobeEnvironmentprodaspenContextprev10endSlatectaTextSign': 1, 'three': 2, 'hes': 1, 'Flights': 1, 'google': 1, 'promise': 1, 'been': 3, 'shock': 1, 'artists': 1, '15yearold': 1, 'sports': 1, 'your': 13, 'trueenableRefreshTimers': 1, 'ISIS': 11, 'her': 3, 'jstrusteicon': 1, 'support': 2, 'Confirm': 2, 'firefighter': 1, 'buildingslayouturi20150903luxurygallery11000diamondswallacechanindexhtmlheadlineWorlds': 1, 'nofontface': 1, 'start': 1, 'vrqIsOnHPvrqpushtrack': 1, 'way': 3, 'var': 9, 'November': 1, 'war': 2, 'Obama': 1, 'function': 10, 'Indias': 1, 'hundreds': 2, 'accentthumbnailhttpi2cdnturnercomcnnnextdamassets151022104016spectrefilmstillsmall11jpgdurationdescriptionThe': 1, 'Extras': 3, 'ended': 1, 'WAFlayouturi20151106healthjamesbondspectreaccentsindexhtmlheadlineWhats': 1, 'Walker': 1, 'escapethumbnailhttpi2cdnturnercomcnnnextdamassets151116204555parisattackswomanhangingfromwindowledgecooperdntac00002405small11jpgduration0212descriptionCNNs': 1, 'true': 2, 'trueenableWeather': 1, 'he': 4, 'count': 1, 'ruins': 1, 'woman': 2, 'suspect': 1, 'spreethumbnailhttpi2cdnturnercomcnnnextdamassets150325082152socialgfxcnnlogosmall11jpgdurationdescriptionAuthorities': 1, 'largest': 5, 'We\\xe2\\x80\\x99ve': 1, 'harrowing': 2, 'Twitter': 1, 'cnnmobileweblinktag2CNNAirportDelaysConfig': 1, 'Africa': 2, 'up': 4, 'us': 6, 'preloaded': 1, 'Koreathumbnailhttpi2cdnturnercomcnnnextdamassets151116113520bankimoonsmall11jpgdurationdescriptionUN': 1, 'origins': 2, 'how': 2, 'Bomb': 1, 'piece': 2, 'layouturi20151117sportjonahlomuobitindexhtmlheadlineAll': 1, 'agree': 2, 'ConsentmessageTextWe': 1, 'trueenableVisualRevenueVideo': 1, 'targetblanksomething': 1, 'Space': 1, 'threshold1200disableHoverThreshold1CNNBylineImages': 1, 'am': 1, 'threatsthumbnailhttpi2cdnturnercomcnnnextdamassets150525120851airfranceplanesgenericsmall11jpgdurationdescriptionlayouturi20151118africanigeriablastsindexhtmlheadlineDozens': 1, 'Hampshire': 1, 'c95680': 1, 'Carson': 1, 'functionetiftymvoid': 1, 'as': 1, 'diamond': 1, 'UTCexpirationPeriod2592000000oldCookieNamenoneoldCookieExpirationTue': 1, 'New': 1, 'NEWS': 1, 'Homepage': 1, 'hostsearchwwwwuseditionnextcnncom': 1, 'timethumbnailhttpi2cdnturnercomcnnnextdamassets151023110127bondcarsspectresmall11jpgdurationdescriptionlayouturi20151105opinionsbergenisisonarollindexhtmlheadlineWhy': 1, 'Fate': 1, 'no': 1, 'TV': 12, 'deadly': 2, 'attackslayouticonTypegalleryuri20151116worldgalleryparisattacksmanhuntindexhtmlheadlineManhunt': 1, 'clings': 1, 'srchttpchoicestrustecomgetnameadmarkericontrpng': 1, 'hrefhttpstheconversationcomstrugglestreetispovertypornwithanextradoseofclassracism41346': 1, 'book': 2, '5': 1, 'ledge': 1, 'brings': 1, 'you': 7, 'registryURL': 1, 'wineditionadTargets': 1, 'briefly': 1, 'star': 1, 'McDonaldsthumbnailhttpi2cdnturnercomcnnnextdamassets151117121339mcdonaldshangzhoucardsmall11jpgdurationdescriptionAn': 1, 'Zain': 1, 'dies': 1, 'rollthumbnailhttpi2cdnturnercomcnnnextdamassets151105103638isisflagtanksmall11jpgdurationdescriptionlayouturi20151029asiachinaonechildpolicypersonaltakeindexhtmlheadlineLife': 1, 'norail': 1, 'apiEndpointhttpmailcarcnncomapiv1': 1, 'update': 1, 'Lizhu': 1, 'worriedthumbnailhttpi2cdnturnercomcnnnextdamassets150810185852perseidmeteorshowerorigmg00003606small11jpgdurationdescriptionAccording': 1, 'militants': 1, 'journey': 2, '48804': 1, 'Harvardthumbnailhttpi2cdnturnercomcnnnextdamassets151029135217rosesluxurywashingtonrestaurantfoodsmall11jpgdurationdescriptionBetter': 1, 'CNN': 34, 'AZ': 3, 'presidential': 1, 'falsegalleryAdClicks': 1, 'explosions': 3, 'ISIScontrolled': 1, 'connotations': 1, 'diamondsthumbnailhttpi2cdnturnercomcnnnextdamassets150904103055wallacechantease2small11jpgdurationdescriptionThe': 1, 'remote': 1, 'longer': 2, 'potato': 1, 'Newsource': 1, 'mobilizes': 2, 'walked': 1, 'As': 1, 'Broadcasting': 1, 'week': 1, 'trueenableSafariPushAlerts': 1, 'teeth': 1, 'DategetTime': 1, 'understand': 1, 'Turner': 1, 'original': 1, 'others': 1}\n",
      "\n",
      "단어 수 : 1785\n"
     ]
    }
   ],
   "source": [
    "import urllib2\n",
    "import string\n",
    "\n",
    "source = urllib2.urlopen(\"http://www.cnn.com\").read()\n",
    "\n",
    "#print source # 추후 숙제 답안 제출 때엔 왼쪽 라인은 주석처리할 것\n",
    "L = []\n",
    "\n",
    "index = 1 #리스트에 넣을지 안넣을지 구분.\n",
    "temp = \"\"\n",
    "eliminate = [ 'a', 'and', 'are', 'as', 'at', 'be', 'but', 'by', 'for', \n",
    "            'if', 'in', 'into', 'is', 'it', 'no', 'not', 'of', 'on', 'or', 's', \n",
    "             'such', 't', 'that', 'the', 'their', 'then', 'there', \n",
    "             'these', 'they', 'this', 'to', 'was', 'will', 'with']\n",
    "for ch in source:\n",
    "    if ch == '<':\n",
    "        index = 1\n",
    "        if len(temp.strip()) > 0:\n",
    "            word_temp = temp.split() #공백단위로 분리\n",
    "            if len(word_temp) > 0:\n",
    "                for a in word_temp:\n",
    "                    a = a.translate(string.maketrans(\"\",\"\"), string.punctuation)\n",
    "                    if a != '' :\n",
    "                        L.append(a)\n",
    "\n",
    "        temp = \"\"\n",
    "    \n",
    "    if ch == '>':\n",
    "        index = 0\n",
    "        continue\n",
    "    \n",
    "    if index is 0:\n",
    "        temp += ch\n",
    "\n",
    "for w in L:\n",
    "    if w in eliminate:\n",
    "        L.\n",
    "        \n",
    "cnt = 0\n",
    "freq = []\n",
    "for ch in L: #원소 읽기\n",
    "    print '\"'+ch+'\"',\n",
    "    cnt += 1\n",
    "    freq.append(L.count(ch))\n",
    "print\n",
    "print dict(zip(L, freq))\n",
    "print \"\\n단어 수 : \" + str(cnt)"
   ]
  },
  {
   "cell_type": "markdown",
   "metadata": {},
   "source": []
  },
  {
   "cell_type": "markdown",
   "metadata": {},
   "source": []
  },
  {
   "cell_type": "markdown",
   "metadata": {},
   "source": []
  }
 ],
 "metadata": {
  "kernelspec": {
   "display_name": "Python 2",
   "language": "python",
   "name": "python2"
  },
  "language_info": {
   "codemirror_mode": {
    "name": "ipython",
    "version": 2
   },
   "file_extension": ".py",
   "mimetype": "text/x-python",
   "name": "python",
   "nbconvert_exporter": "python",
   "pygments_lexer": "ipython2",
   "version": "2.7.9"
  }
 },
 "nbformat": 4,
 "nbformat_minor": 0
}
