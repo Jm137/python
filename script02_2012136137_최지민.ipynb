{
 "cells": [
  {
   "cell_type": "markdown",
   "metadata": {},
   "source": [
    "•다음 6 개의 Expression에 대해 Evaluation 결과 값을 출력하고, 해당 결과가 나온 이유에 대해 설명하시오◾1 and 2 and 3 and 4\n",
    "◾1 or 2 or 3 or 4\n",
    "◾1 and 2 or 3 and 4\n",
    "◾(1 and 2) or (3 and 4)\n",
    "◾1 or 2 and 3 or 4\n",
    "◾(1 or 2) and (3 or 4)"
   ]
  },
  {
   "cell_type": "code",
   "execution_count": 1,
   "metadata": {
    "collapsed": false
   },
   "outputs": [
    {
     "name": "stdout",
     "output_type": "stream",
     "text": [
      "4\n",
      "1\n",
      "2\n",
      "2\n",
      "1\n",
      "3\n"
     ]
    }
   ],
   "source": [
    "print 1 and 2 and 3 and 4 \n",
    "print 1 or 2 or 3 or 4 \n",
    "print 1 and 2 or 3 and 4 \n",
    "print (1 and 2) or (3 and 4) \n",
    "print 1 or 2 and 3 or 4 \n",
    "print (1 or 2) and (3 or 4)"
   ]
  },
  {
   "cell_type": "markdown",
   "metadata": {},
   "source": [
    "1,2 : and,or 연산자는 식에서 최종적으로 판정된 객체의 값을 리턴하므로, 1의 식은 마지막 값인 4를, 2식은 첫번째 값이 참이므로 첫번째 값을 리턴.\n",
    "3,4 식은 왼쪽부터 1과2를 참으로, 이후 or에서 최종적으로 2를 리턴.\n",
    "5식은 1 후에 or연산자가 와서 식 전체가 참으로 판정되어 이후 연산은 하지않아 1을 리턴\n",
    "6식은 괄호가 존재하여 and연산자 계산.3 or 4에서 3이 참이되어 이후 연산은 실행없이 3을 리턴."
   ]
  },
  {
   "cell_type": "markdown",
   "metadata": {},
   "source": [
    "•키보드로 정수값을 입력 받고 그 값이 양수인지 음수인지를 비트 연산자를 이용하여 판단하는 프로그램을 작성하시오"
   ]
  },
  {
   "cell_type": "code",
   "execution_count": 4,
   "metadata": {
    "collapsed": false
   },
   "outputs": [
    {
     "name": "stdout",
     "output_type": "stream",
     "text": [
      "int : 9\n",
      "양수\n"
     ]
    }
   ],
   "source": [
    "num = input('int : ')\n",
    "if (num & 0x80) == 0x80 : \n",
    "    print '음수'\n",
    "else : print '양수'"
   ]
  },
  {
   "cell_type": "markdown",
   "metadata": {},
   "source": [
    "0x80과 입력받은 숫자를 비교해 최상위비트 아래는 0으로.\n",
    "그 후 또 최상위 비틀를 비교하여 1이라면 '음', 1이 아니면 '양'"
   ]
  },
  {
   "cell_type": "markdown",
   "metadata": {},
   "source": [
    "•경로에 해당하는 문자열 1개를 입력 받아 그 안에 디렉토리 경로명과 파일명을 분리하여 리스트로 반환하는 함수 div_path(s)를 작성하시오.\n",
    "◾인자로 전달하는 문자열은 경로만 들어간다고 가정한다.\n",
    "◾각 디렉토리와 파일을 구분하는 문자는 '/'로 가정한다.\n",
    "◾반환하는 리스트의 첫번째 원소는 디렉토리이고 두번째 원소는 파일명이다.\n",
    "◾다음과 같은 실행 및 출력 결과가 도출되어야 한다.\n",
    "◦div_path('/usr/local/bin/python')◦['/usr/local/bin', 'python']\n",
    "◦div_path('/home/chulsoo/test.txt')◦['/home/chulsoo', 'test.txt']"
   ]
  },
  {
   "cell_type": "code",
   "execution_count": 1,
   "metadata": {
    "collapsed": false
   },
   "outputs": [
    {
     "data": {
      "text/plain": [
       "['/usr/local/bin', 'python2']"
      ]
     },
     "execution_count": 1,
     "metadata": {},
     "output_type": "execute_result"
    }
   ],
   "source": [
    "def div_path(p) :\n",
    "    l = []\n",
    "    l = p.rsplit('/', 1)\n",
    "    return l\n",
    "\n",
    "p = '/usr/local/bin/python2'\n",
    "div_path(p)"
   ]
  },
  {
   "cell_type": "markdown",
   "metadata": {},
   "source": [
    "rsplit() 사용. 요구사항에 따라 /을 구분자로 지정하고, 마지막 단어만 분리하기 위해 split()이아닌 rsplit()을 사용하였다. "
   ]
  },
  {
   "cell_type": "markdown",
   "metadata": {},
   "source": [
    "•두 개의 리스트를 인자로 받아서 그 두 개의 리스트에 대한 '합집합'을 반환하는 함수 list_union(lista, listb)를 작성하시오.◾인자로 전달하는 리스트 2 개에는 정수값만 들어간다고 가정하자.\n",
    "◾함수 내에서 새로운 리스트를 만들어 그 리스트 내에 인자로 받은 두 리스트의 모든 원소를 넣어 반환한다.\n",
    "◾반환하는 리스트에는 절대로 중복된 원소가 들어 있으면 안된다 (집합의 조건).\n",
    "◾반환하는 리스트는 정렬이 되어 있어야 한다.\n",
    "◾다음과 같은 실행 및 출력 결과가 도출되어야 한다.\n",
    "◦list_union([1, 2, 3], [1, 2, 4])◦[1, 2, 3, 4]\n",
    "◦list_union([-10, -5, 0, -1], [100, 9, 0, 9])◦[-10, -5, -1, 0, 9, 100]\n",
    "◦list_union([0, 1, 2], [0, 1, 2])◦[0, 1, 2]"
   ]
  },
  {
   "cell_type": "code",
   "execution_count": 17,
   "metadata": {
    "collapsed": false
   },
   "outputs": [
    {
     "name": "stdout",
     "output_type": "stream",
     "text": [
      "[-9, 0, 4, 5, 7, 8, 10, 90]\n",
      "[0, 1, 2]\n"
     ]
    }
   ],
   "source": [
    "def list_union(lista, listb) :\n",
    "    L = []\n",
    "    for c in lista : L.append(c)\n",
    "    for c in listb :\n",
    "        if c in L : continue\n",
    "        else : L.append(c)\n",
    "    L.sort()\n",
    "    return L\n",
    "\n",
    "la = [8,0,5,-9,10,90]\n",
    "lb = [0, 4,8,-9,7,10]\n",
    "\n",
    "print list_union(la, lb)\n",
    "\n",
    "print list_union([0, 1, 2], [0, 1, 2]) "
   ]
  },
  {
   "cell_type": "markdown",
   "metadata": {},
   "source": [
    "빈 리스트를 함수내에 만든후에, 우선 첫번째 리스트를 빈리스트에 집어넣고, 다음 리스트에 if문으로 조건을 걸어 만들어진 리스트에 없는 경우에만 집어넣도록함. 그 후에 sort()를 하여 정렬시킴"
   ]
  },
  {
   "cell_type": "markdown",
   "metadata": {},
   "source": [
    "•[프로젝트 오일러 문제 4]"
   ]
  },
  {
   "cell_type": "code",
   "execution_count": 57,
   "metadata": {
    "collapsed": false
   },
   "outputs": [
    {
     "name": "stdout",
     "output_type": "stream",
     "text": [
      "세자리 수끼리 곱한 가장 큰 대칭수는 [ 906609 ] 입니다\n"
     ]
    }
   ],
   "source": [
    "result = []\n",
    "\n",
    "for i in  range(100,1000) : \n",
    "    for j in range(100, 1000) : \n",
    "        temp = i * j\n",
    "        if str(temp) == str(temp)[::-1] :\n",
    "            if temp in result : continue\n",
    "            else : result.append(int(temp))\n",
    "result.sort()\n",
    "big = result[-1]\n",
    "print '세자리 수끼리 곱한 가장 큰 대칭수는 [',\n",
    "print big, \n",
    "print '] 입니다'"
   ]
  },
  {
   "cell_type": "markdown",
   "metadata": {},
   "source": [
    "세자리수 끼리 곱하기 위해 두개의 for문을 사용하였다. temp에 곱의 결과를 저장해 str로 변환하여 뒤집어진 수와 원래 수를 비교하여 result 리스트에 넣었는데, 중복된 결과가 있을 수 있으므로 위의 문제와 같은 방법으로 중복을 걸러내었다. 마지막에 result.sort()하였고, result[-1]로 가장 큰 대칭수를 도출하였다."
   ]
  },
  {
   "cell_type": "markdown",
   "metadata": {},
   "source": [
    "•[프로젝트 오일러 문제 5]"
   ]
  },
  {
   "cell_type": "code",
   "execution_count": 51,
   "metadata": {
    "collapsed": false
   },
   "outputs": [
    {
     "name": "stdout",
     "output_type": "stream",
     "text": [
      "232792560\n"
     ]
    }
   ],
   "source": [
    "def gcd(a,b):\n",
    "    if (a > b) :\n",
    "        a,b = b, a\n",
    "    for i in range(1, a + 1) : \n",
    "        if((a % i == 0) and (b % i) ==0) :\n",
    "            g = i\n",
    "    return g\n",
    "    \n",
    "    \n",
    "def lcm(a,b): return a * b / gcd(a,b)\n",
    "\n",
    "n = 1\n",
    "\n",
    "for i in range(2, 21):\n",
    "    n = lcm(n, i)\n",
    "print n"
   ]
  },
  {
   "cell_type": "markdown",
   "metadata": {},
   "source": [
    "최대공약수를 구하는 공식을 만들고, 그 최대공식을 이용해 최소공배수를 만들도록 하였습니다.\n",
    "n에는 범위까지 계속 최소공배수를 저장하고, 그다음 i와의 공배수를 계산하여 다시 넣도록 하여 구하고자 하는 값이 나왔습니다."
   ]
  },
  {
   "cell_type": "markdown",
   "metadata": {},
   "source": [
    "•[프로젝트 오일러 문제 6]"
   ]
  },
  {
   "cell_type": "code",
   "execution_count": 43,
   "metadata": {
    "collapsed": false
   },
   "outputs": [
    {
     "name": "stdout",
     "output_type": "stream",
     "text": [
      "25164150\n"
     ]
    }
   ],
   "source": [
    "def addmulti(a,b) : \n",
    "    result = 0\n",
    "    for i in range (a, b + 1):\n",
    "        result += pow(i,2)\n",
    "    return result\n",
    "\n",
    "def addsquare(a,b) :\n",
    "    re = 0\n",
    "    for i in range (a, b+1) :\n",
    "        re += i\n",
    "    re= pow(re, 2)\n",
    "    return re\n",
    "\n",
    "print addsquare(1, 100) - addmulti(1,100)"
   ]
  },
  {
   "cell_type": "markdown",
   "metadata": {},
   "source": [
    "제곱의 합 addmulti(a,b)와 합의 제곱 addsquare(a,b)를 각각 함수로 정의하였다. addmulti()에는 매개변수 범위 사이의 수의 제곱의 합을 더하도록, addsquare()에서는 매개변수 사이의 합을 먼저구해 제곱하도록 했다."
   ]
  },
  {
   "cell_type": "markdown",
   "metadata": {},
   "source": [
    "•[Incremental Project] 웹 URL로 지정된 웹페이지를 문자열로 가져와 1) 모든 HTML 태그를 제외한 순수 텍스트 문자열만을 걸러내고, 2) 그 순수 텍스트 문자열 안에 존재하는 단어가 총 몇개인지 출력하는 프로그램을 작성하시오."
   ]
  },
  {
   "cell_type": "code",
   "execution_count": 40,
   "metadata": {
    "collapsed": false
   },
   "outputs": [
    {
     "name": "stdout",
     "output_type": "stream",
     "text": [
      "\n",
      "!DOCTYPE html>\n",
      "html lang=\"ko\">\n",
      "\n",
      "title>컴퓨터공학부/title>\n",
      "!-- CS\n"
     ]
    }
   ],
   "source": [
    "import urllib2\n",
    "\n",
    "source ='''\n",
    "<!DOCTYPE html>\n",
    "<html lang=\"ko\">\n",
    "\n",
    "<title>컴퓨터공학부</title>\n",
    "<!-- CSS -->\n",
    "'''\n",
    "#print source # 추후 숙제 답안 제출 때엔 왼쪽 라인은 주석처리할 것\n",
    "def stripTags(source) :\n",
    "    index = 0\n",
    "    state = []\n",
    "    a = len(source)\n",
    "    result = []\n",
    "    L =''\n",
    "    for i in range(index, a):\n",
    "        if(source[i] == '<') :\n",
    "            state.append(0)\n",
    "        else : \n",
    "            state.append(1)\n",
    "\n",
    "    for i in range(index, a-6):\n",
    "        if(state[i] == 1):\n",
    "            L += source[i]\n",
    "        else : continue\n",
    "    return L\n",
    "\n",
    "\n",
    "print stripTags(source)\n",
    "\n",
    "\n",
    "\n"
   ]
  },
  {
   "cell_type": "markdown",
   "metadata": {},
   "source": [
    "생각한 함수가 제대로 실행이 안되었습니다. <>사이에 해당하는 인덱스에 특정 값을 넣어 그값에 해당하는 문자들은 읽어오지 않으려 했는데 미숙하였습니다."
   ]
  },
  {
   "cell_type": "markdown",
   "metadata": {
    "collapsed": true
   },
   "source": [
    "전체적으로 복습할 수 있는 문제들이었고, 많은 공부가 되었습니다. 마지막 문제는 여러 방식으로 접근해보아도 생각한 것을 구현할 능력이 부족하였습니다. 좀더 구현능력을 키우도록 노력하겠습니다."
   ]
  }
 ],
 "metadata": {
  "kernelspec": {
   "display_name": "Python 2",
   "language": "python",
   "name": "python2"
  },
  "language_info": {
   "codemirror_mode": {
    "name": "ipython",
    "version": 2
   },
   "file_extension": ".py",
   "mimetype": "text/x-python",
   "name": "python",
   "nbconvert_exporter": "python",
   "pygments_lexer": "ipython2",
   "version": "2.7.9"
  }
 },
 "nbformat": 4,
 "nbformat_minor": 0
}
